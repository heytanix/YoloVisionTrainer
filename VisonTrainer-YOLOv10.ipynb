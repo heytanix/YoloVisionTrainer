{
 "cells": [
  {
   "cell_type": "markdown",
   "id": "75f300ce-8ca9-4554-a347-a1d08738b557",
   "metadata": {},
   "source": [
    "# Python(3.12) Program for Training Computer Vision Model Using YOLOv10 Architecture"
   ]
  },
  {
   "cell_type": "markdown",
   "id": "e50b0e46-3ce2-4996-b15f-e08f05eceb84",
   "metadata": {},
   "source": [
    "### About Code\n",
    "- Purpose: To train Machine Laearning - Computer Vision models\n",
    "- Architecture: YOLO (Version: 10)\n",
    "- Dataset type: Labelled\n",
    "- Python version: 3.12.5\n",
    "- Program Version: 1.0"
   ]
  },
  {
   "cell_type": "markdown",
   "id": "27c2b8ca-b4b5-4d3c-a4fb-fa99360bdd73",
   "metadata": {},
   "source": [
    "### Author:\n",
    "- Name: Thanish C\n",
    "- GitHub: @heytanix"
   ]
  },
  {
   "cell_type": "markdown",
   "id": "0618085f-c9d2-466a-88de-2d541165aa0f",
   "metadata": {},
   "source": [
    "## Stages of training the Model\n",
    "\n",
    "### 1. Dataset preparation\n",
    "  - Choosing Dataset from source\n",
    "  - Downloading and extracting the dataset\n",
    "  - Organizing to the YOLO Format\n",
    "    ```bash\n",
    "    ├── images\n",
    "    │   ├── train\n",
    "    │   ├── val\n",
    "    ├── labels\n",
    "    │   ├── train\n",
    "    │   ├── val\n",
    "    ```\n",
    "    \n",
    "  - Requirements:\n",
    "    - Each image must have a corresponding .txt file with YOLO-style bounding boxes:\n",
    "      ```bash\n",
    "      <class_id> <x_center> <y_center> <width> <height>\n",
    "      ```\n",
    "\n",
    "### 2. Environment Setup\n",
    "  - Steps:\n",
    "    - Use a GPU-enabled runtime (e.g., Google Colab, Kaggle Kernels, or local with CUDA)\n",
    "    - Install dependencies\n",
    "      ```bash\n",
    "      pip install ultralytics\n",
    "      ```\n",
    "    - This includes YOLOv8+ including YOLOv10(From Ultralytics 2024+ versions).\n",
    "\n",
    "### 3. Create a Data Configuration File\n",
    "  - Format(data.yaml):\n",
    "    ```yaml\n",
    "    path: /content/dataset  # or your local path\n",
    "    train: images/train\n",
    "    val: images/val\n",
    "\n",
    "    nc: 3  # number of classes\n",
    "    names: ['cat', 'dog', 'person']  # class names\n",
    "\n",
    "    ```\n",
    "\n",
    "### 4. Define & Configure YOLOv10 Model\n",
    "  - Steps:\n",
    "    - Use the default YOLOv10 model file or custom config:\n",
    "      ```bash\n",
    "      yolo task=detect mode=train model=YOLOv10-s.pt data=data.yaml epochs=50 imgsz=640\n",
    "      ```\n",
    "    -  Options: YOLOv10-n.pt, YOLOv10-s.pt, YOLOv10-m.pt, YOLOv10-l.pt, YOLOv10-x.pt\n",
    "    -  You can modify hyperparameters using:\n",
    "       ```bash\n",
    "       yolo task=detect mode=train model=YOLOv10-s.pt data=data.yaml epochs=50 imgsz=640 lr0=0.01 ...\n",
    "       ```\n",
    "\n",
    "### 5. Training the model\n",
    "  - Example code in Jupyter:\n",
    "    ```python\n",
    "    from ultralytics import YOLO\n",
    "    \n",
    "    # Load pre-trained YOLOv10 small model\n",
    "    model = YOLO(\"yolov10-s.pt\")\n",
    "    \n",
    "    # Train the model\n",
    "    model.train(data=\"data.yaml\", epochs=50, imgsz=640)\n",
    "    ```\n",
    "\n",
    "### 6. Evaluating the model\n",
    "  - After training \n",
    "  ```python\n",
    "  metrics = model.val()\n",
    "  print(metrics)\n",
    "  ```\n",
    "  - You’ll get precision, recall, mAP@0.5, mAP@0.5:0.95, etc.\n",
    " \n",
    "### 7. Model Inference\n",
    "  - Use model to make predictions on images or video:\n",
    "    ```python\n",
    "    results = model.predict(source=\"path/to/test.jpg\", save=True, conf=0.25)\n",
    "    ```\n",
    "  - This saves annotated results in runs/predict/.\n",
    "\n",
    "### 8. Save and Export the Model\n",
    "  - You can save/export in formats like ONNX, TorchScript, etc.:\n",
    "    ```python\n",
    "    model.export(format='onnx')\n",
    "    ```\n",
    "\n",
    "### 9. Model Optimization (Optional)\n",
    "- You can optimize for:\n",
    "  - Faster inference (via quantization/pruning)\n",
    "  - Edge deployment (TensorRT, ONNX, CoreML)\n",
    "\n",
    "### 10. Deployment (Optional)\n",
    "- Deploy your YOLOv10 model via:\n",
    "  - Streamlit / Gradio app\n",
    "  - Flask / FastAPI REST API\n",
    "  - Edge devices like Jetson Nano, Raspberry Pi (with optimization)"
   ]
  },
  {
   "cell_type": "markdown",
   "id": "371a46c8-2024-47a4-97b3-7ba3afd21a28",
   "metadata": {},
   "source": [
    "# Main Code"
   ]
  },
  {
   "cell_type": "markdown",
   "id": "2e63e5d6-241e-4e3d-baae-e7ea39a3f139",
   "metadata": {},
   "source": [
    "###"
   ]
  },
  {
   "cell_type": "code",
   "execution_count": 7,
   "id": "b12409b2-81c2-4ade-b324-df232f89f31f",
   "metadata": {},
   "outputs": [
    {
     "name": "stdout",
     "output_type": "stream",
     "text": [
      "Requirement already satisfied: torch in ./.config/jupyterlab-desktop/jlab_server/lib/python3.12/site-packages (2.7.0)\n",
      "Requirement already satisfied: ultralytics in ./.config/jupyterlab-desktop/jlab_server/lib/python3.12/site-packages (8.3.140)\n",
      "Requirement already satisfied: filelock in ./.config/jupyterlab-desktop/jlab_server/lib/python3.12/site-packages (from torch) (3.18.0)\n",
      "Requirement already satisfied: typing-extensions>=4.10.0 in ./.config/jupyterlab-desktop/jlab_server/lib/python3.12/site-packages (from torch) (4.12.2)\n",
      "Requirement already satisfied: setuptools in ./.config/jupyterlab-desktop/jlab_server/lib/python3.12/site-packages (from torch) (72.2.0)\n",
      "Requirement already satisfied: sympy>=1.13.3 in ./.config/jupyterlab-desktop/jlab_server/lib/python3.12/site-packages (from torch) (1.14.0)\n",
      "Requirement already satisfied: networkx in ./.config/jupyterlab-desktop/jlab_server/lib/python3.12/site-packages (from torch) (3.4.2)\n",
      "Requirement already satisfied: jinja2 in ./.config/jupyterlab-desktop/jlab_server/lib/python3.12/site-packages (from torch) (3.1.4)\n",
      "Requirement already satisfied: fsspec in ./.config/jupyterlab-desktop/jlab_server/lib/python3.12/site-packages (from torch) (2025.3.2)\n",
      "Requirement already satisfied: nvidia-cuda-nvrtc-cu12==12.6.77 in ./.config/jupyterlab-desktop/jlab_server/lib/python3.12/site-packages (from torch) (12.6.77)\n",
      "Requirement already satisfied: nvidia-cuda-runtime-cu12==12.6.77 in ./.config/jupyterlab-desktop/jlab_server/lib/python3.12/site-packages (from torch) (12.6.77)\n",
      "Requirement already satisfied: nvidia-cuda-cupti-cu12==12.6.80 in ./.config/jupyterlab-desktop/jlab_server/lib/python3.12/site-packages (from torch) (12.6.80)\n",
      "Requirement already satisfied: nvidia-cudnn-cu12==9.5.1.17 in ./.config/jupyterlab-desktop/jlab_server/lib/python3.12/site-packages (from torch) (9.5.1.17)\n",
      "Requirement already satisfied: nvidia-cublas-cu12==12.6.4.1 in ./.config/jupyterlab-desktop/jlab_server/lib/python3.12/site-packages (from torch) (12.6.4.1)\n",
      "Requirement already satisfied: nvidia-cufft-cu12==11.3.0.4 in ./.config/jupyterlab-desktop/jlab_server/lib/python3.12/site-packages (from torch) (11.3.0.4)\n",
      "Requirement already satisfied: nvidia-curand-cu12==10.3.7.77 in ./.config/jupyterlab-desktop/jlab_server/lib/python3.12/site-packages (from torch) (10.3.7.77)\n",
      "Requirement already satisfied: nvidia-cusolver-cu12==11.7.1.2 in ./.config/jupyterlab-desktop/jlab_server/lib/python3.12/site-packages (from torch) (11.7.1.2)\n",
      "Requirement already satisfied: nvidia-cusparse-cu12==12.5.4.2 in ./.config/jupyterlab-desktop/jlab_server/lib/python3.12/site-packages (from torch) (12.5.4.2)\n",
      "Requirement already satisfied: nvidia-cusparselt-cu12==0.6.3 in ./.config/jupyterlab-desktop/jlab_server/lib/python3.12/site-packages (from torch) (0.6.3)\n",
      "Requirement already satisfied: nvidia-nccl-cu12==2.26.2 in ./.config/jupyterlab-desktop/jlab_server/lib/python3.12/site-packages (from torch) (2.26.2)\n",
      "Requirement already satisfied: nvidia-nvtx-cu12==12.6.77 in ./.config/jupyterlab-desktop/jlab_server/lib/python3.12/site-packages (from torch) (12.6.77)\n",
      "Requirement already satisfied: nvidia-nvjitlink-cu12==12.6.85 in ./.config/jupyterlab-desktop/jlab_server/lib/python3.12/site-packages (from torch) (12.6.85)\n",
      "Requirement already satisfied: nvidia-cufile-cu12==1.11.1.6 in ./.config/jupyterlab-desktop/jlab_server/lib/python3.12/site-packages (from torch) (1.11.1.6)\n",
      "Requirement already satisfied: triton==3.3.0 in ./.config/jupyterlab-desktop/jlab_server/lib/python3.12/site-packages (from torch) (3.3.0)\n",
      "Requirement already satisfied: numpy>=1.23.0 in ./.config/jupyterlab-desktop/jlab_server/lib/python3.12/site-packages (from ultralytics) (2.1.0)\n",
      "Requirement already satisfied: matplotlib>=3.3.0 in ./.config/jupyterlab-desktop/jlab_server/lib/python3.12/site-packages (from ultralytics) (3.9.2)\n",
      "Requirement already satisfied: opencv-python>=4.6.0 in ./.config/jupyterlab-desktop/jlab_server/lib/python3.12/site-packages (from ultralytics) (4.11.0.86)\n",
      "Requirement already satisfied: pillow>=7.1.2 in ./.config/jupyterlab-desktop/jlab_server/lib/python3.12/site-packages (from ultralytics) (10.4.0)\n",
      "Requirement already satisfied: pyyaml>=5.3.1 in ./.config/jupyterlab-desktop/jlab_server/lib/python3.12/site-packages (from ultralytics) (6.0.2)\n",
      "Requirement already satisfied: requests>=2.23.0 in ./.config/jupyterlab-desktop/jlab_server/lib/python3.12/site-packages (from ultralytics) (2.32.3)\n",
      "Requirement already satisfied: scipy>=1.4.1 in ./.config/jupyterlab-desktop/jlab_server/lib/python3.12/site-packages (from ultralytics) (1.14.1)\n",
      "Requirement already satisfied: torchvision>=0.9.0 in ./.config/jupyterlab-desktop/jlab_server/lib/python3.12/site-packages (from ultralytics) (0.22.0)\n",
      "Requirement already satisfied: tqdm>=4.64.0 in ./.config/jupyterlab-desktop/jlab_server/lib/python3.12/site-packages (from ultralytics) (4.66.5)\n",
      "Requirement already satisfied: psutil in ./.config/jupyterlab-desktop/jlab_server/lib/python3.12/site-packages (from ultralytics) (6.0.0)\n",
      "Requirement already satisfied: py-cpuinfo in ./.config/jupyterlab-desktop/jlab_server/lib/python3.12/site-packages (from ultralytics) (9.0.0)\n",
      "Requirement already satisfied: pandas>=1.1.4 in ./.config/jupyterlab-desktop/jlab_server/lib/python3.12/site-packages (from ultralytics) (2.2.2)\n",
      "Requirement already satisfied: ultralytics-thop>=2.0.0 in ./.config/jupyterlab-desktop/jlab_server/lib/python3.12/site-packages (from ultralytics) (2.0.14)\n",
      "Requirement already satisfied: contourpy>=1.0.1 in ./.config/jupyterlab-desktop/jlab_server/lib/python3.12/site-packages (from matplotlib>=3.3.0->ultralytics) (1.2.1)\n",
      "Requirement already satisfied: cycler>=0.10 in ./.config/jupyterlab-desktop/jlab_server/lib/python3.12/site-packages (from matplotlib>=3.3.0->ultralytics) (0.12.1)\n",
      "Requirement already satisfied: fonttools>=4.22.0 in ./.config/jupyterlab-desktop/jlab_server/lib/python3.12/site-packages (from matplotlib>=3.3.0->ultralytics) (4.53.1)\n",
      "Requirement already satisfied: kiwisolver>=1.3.1 in ./.config/jupyterlab-desktop/jlab_server/lib/python3.12/site-packages (from matplotlib>=3.3.0->ultralytics) (1.4.5)\n",
      "Requirement already satisfied: packaging>=20.0 in ./.config/jupyterlab-desktop/jlab_server/lib/python3.12/site-packages (from matplotlib>=3.3.0->ultralytics) (24.1)\n",
      "Requirement already satisfied: pyparsing>=2.3.1 in ./.config/jupyterlab-desktop/jlab_server/lib/python3.12/site-packages (from matplotlib>=3.3.0->ultralytics) (3.1.4)\n",
      "Requirement already satisfied: python-dateutil>=2.7 in ./.config/jupyterlab-desktop/jlab_server/lib/python3.12/site-packages (from matplotlib>=3.3.0->ultralytics) (2.9.0)\n",
      "Requirement already satisfied: pytz>=2020.1 in ./.config/jupyterlab-desktop/jlab_server/lib/python3.12/site-packages (from pandas>=1.1.4->ultralytics) (2024.1)\n",
      "Requirement already satisfied: tzdata>=2022.7 in ./.config/jupyterlab-desktop/jlab_server/lib/python3.12/site-packages (from pandas>=1.1.4->ultralytics) (2024.1)\n",
      "Requirement already satisfied: charset-normalizer<4,>=2 in ./.config/jupyterlab-desktop/jlab_server/lib/python3.12/site-packages (from requests>=2.23.0->ultralytics) (3.3.2)\n",
      "Requirement already satisfied: idna<4,>=2.5 in ./.config/jupyterlab-desktop/jlab_server/lib/python3.12/site-packages (from requests>=2.23.0->ultralytics) (3.8)\n",
      "Requirement already satisfied: urllib3<3,>=1.21.1 in ./.config/jupyterlab-desktop/jlab_server/lib/python3.12/site-packages (from requests>=2.23.0->ultralytics) (2.2.2)\n",
      "Requirement already satisfied: certifi>=2017.4.17 in ./.config/jupyterlab-desktop/jlab_server/lib/python3.12/site-packages (from requests>=2.23.0->ultralytics) (2024.7.4)\n",
      "Requirement already satisfied: mpmath<1.4,>=1.1.0 in ./.config/jupyterlab-desktop/jlab_server/lib/python3.12/site-packages (from sympy>=1.13.3->torch) (1.3.0)\n",
      "Requirement already satisfied: MarkupSafe>=2.0 in ./.config/jupyterlab-desktop/jlab_server/lib/python3.12/site-packages (from jinja2->torch) (2.1.5)\n",
      "Requirement already satisfied: six>=1.5 in ./.config/jupyterlab-desktop/jlab_server/lib/python3.12/site-packages (from python-dateutil>=2.7->matplotlib>=3.3.0->ultralytics) (1.16.0)\n",
      "\u001b[H\u001b[2J"
     ]
    }
   ],
   "source": [
    "!pip install torch ultralytics"
   ]
  },
  {
   "cell_type": "markdown",
   "id": "e32f0377-fe36-4bb2-a3d0-aa712251dbf4",
   "metadata": {},
   "source": [
    "### Import Section\n",
    "- Stage 0 - All the necessary dependencies are imported as dependencies to the program"
   ]
  },
  {
   "cell_type": "code",
   "execution_count": 8,
   "id": "9d887516-2e5e-4654-b888-db844778486a",
   "metadata": {},
   "outputs": [
    {
     "name": "stdout",
     "output_type": "stream",
     "text": [
      "CUDA Available: True\n"
     ]
    }
   ],
   "source": [
    "# Stage 0: Imports and environment checks\n",
    "\n",
    "import os\n",
    "import shutil\n",
    "import torch\n",
    "from ultralytics import YOLO\n",
    "\n",
    "# Check GPU availability\n",
    "print(\"CUDA Available:\", torch.cuda.is_available())"
   ]
  },
  {
   "cell_type": "markdown",
   "id": "c4568b1d-6780-4375-90d4-bb09eae7f207",
   "metadata": {},
   "source": [
    "### Dataset Preparation & Cleaning\n",
    "- Stage 1 - The dataset is prepared and cleaned for the required purpose"
   ]
  },
  {
   "cell_type": "code",
   "execution_count": 9,
   "id": "3fbff850-92e6-4bbd-b4cf-9205fd70b8f9",
   "metadata": {},
   "outputs": [
    {
     "name": "stdout",
     "output_type": "stream",
     "text": [
      "Dataset directory cleaned successfully.\n"
     ]
    }
   ],
   "source": [
    "# Stage 1: Dataset Preparation & Cleaning\n",
    "\n",
    "# Define your dataset path\n",
    "dataset_path = \"/home/heytanix/Documents/VisionTrainer/dataset\"\n",
    "\n",
    "# Clean up any previously corrupted files or unsupported formats\n",
    "for root, dirs, files in os.walk(dataset_path):\n",
    "    for file in files:\n",
    "        if file.endswith(('.DS_Store', 'Thumbs.db')):\n",
    "            os.remove(os.path.join(root, file))\n",
    "\n",
    "print(\"Dataset directory cleaned successfully.\")"
   ]
  },
  {
   "cell_type": "markdown",
   "id": "16e09c3e-cd52-47af-8189-06adac6a24b6",
   "metadata": {},
   "source": [
    "### Organizing dataset into the YOLO format\n",
    "- Stage 2 - The dataset is put into the standard YOLO format of train, test, val"
   ]
  },
  {
   "cell_type": "code",
   "execution_count": 10,
   "id": "f322defd-c267-46dd-9698-6184da7fed48",
   "metadata": {},
   "outputs": [
    {
     "name": "stdout",
     "output_type": "stream",
     "text": [
      "YOLO format directories are ready.\n"
     ]
    }
   ],
   "source": [
    "# Stage 2: Organize dataset into YOLO format\n",
    "\n",
    "# Optional: Make sure you have the correct folder structure\n",
    "# Create folders if they don't exist\n",
    "os.makedirs(f\"{dataset_path}/images/train\", exist_ok=True)\n",
    "os.makedirs(f\"{dataset_path}/images/val\", exist_ok=True)\n",
    "os.makedirs(f\"{dataset_path}/labels/train\", exist_ok=True)\n",
    "os.makedirs(f\"{dataset_path}/labels/val\", exist_ok=True)\n",
    "\n",
    "print(\"YOLO format directories are ready.\")"
   ]
  },
  {
   "cell_type": "markdown",
   "id": "d9d763f8-8ffa-4933-9874-13110e16cbf6",
   "metadata": {},
   "source": [
    "### Creating the data.yaml config\n",
    "- Stage 3 - A data.yaml file is made as a definition of dataset structure to the YOLO architecture"
   ]
  },
  {
   "cell_type": "code",
   "execution_count": 11,
   "id": "fd3afc37-90db-4d69-9cbe-240b2f2f143f",
   "metadata": {},
   "outputs": [
    {
     "name": "stdout",
     "output_type": "stream",
     "text": [
      "data.yaml file created successfully.\n"
     ]
    }
   ],
   "source": [
    "# Stage 3: Create data.yaml config\n",
    "\n",
    "data_yaml = \"\"\"\n",
    "path: dataset\n",
    "train: images/train\n",
    "val: images/val\n",
    "\n",
    "nc: 3\n",
    "names: ['cat', 'dog', 'person']\n",
    "\"\"\"\n",
    "\n",
    "with open(\"data.yaml\", \"w\") as f:\n",
    "    f.write(data_yaml.strip())\n",
    "\n",
    "print(\"data.yaml file created successfully.\")"
   ]
  },
  {
   "cell_type": "markdown",
   "id": "76cf2fe0-a69d-4ab4-9e33-d2cb6252d4fe",
   "metadata": {},
   "source": [
    "### Loading the YOLOv10 model\n",
    "- Stage 4 - The prebuilt base model of YOLOv10 architecture is loaded"
   ]
  },
  {
   "cell_type": "code",
   "execution_count": 12,
   "id": "bcbfa502-ead2-477a-8c96-82bf4d19e552",
   "metadata": {},
   "outputs": [
    {
     "name": "stdout",
     "output_type": "stream",
     "text": [
      "YOLOv10m summary: 288 layers, 16,576,768 parameters, 16,576,752 gradients, 64.5 GFLOPs\n"
     ]
    },
    {
     "data": {
      "text/plain": [
       "(288, 16576768, 16576752, 64.4772096)"
      ]
     },
     "execution_count": 12,
     "metadata": {},
     "output_type": "execute_result"
    }
   ],
   "source": [
    "# Stage 4: Load the YOLOv10 model\n",
    "\n",
    "# Load the pre-trained YOLOv10-small model\n",
    "model = YOLO(\"yolov10m.pt\")\n",
    "\n",
    "# Display model info\n",
    "model.info()"
   ]
  },
  {
   "cell_type": "markdown",
   "id": "11633f54-e63a-4d77-8c53-a40d9a0905eb",
   "metadata": {},
   "source": [
    "### Training the YOLOv10 model\n",
    "- Stage 5 - The base model is used for the training to produce a stronger model"
   ]
  },
  {
   "cell_type": "code",
   "execution_count": 16,
   "id": "eb5c0c33-0bf9-4a84-965f-c132fc1f8165",
   "metadata": {},
   "outputs": [
    {
     "name": "stdout",
     "output_type": "stream",
     "text": [
      "New https://pypi.org/project/ultralytics/8.3.141 available 😃 Update with 'pip install -U ultralytics'\n",
      "Ultralytics 8.3.140 🚀 Python-3.12.5 torch-2.7.0+cu126 CUDA:0 (NVIDIA GeForce RTX 4070 Laptop GPU, 7817MiB)\n",
      "\u001b[34m\u001b[1mengine/trainer: \u001b[0magnostic_nms=False, amp=True, augment=False, auto_augment=randaugment, batch=4, bgr=0.0, box=7.5, cache=False, cfg=None, classes=None, close_mosaic=10, cls=0.5, conf=None, copy_paste=0.0, copy_paste_mode=flip, cos_lr=False, cutmix=0.0, data=data.yaml, degrees=0.0, deterministic=True, device=None, dfl=1.5, dnn=False, dropout=0.0, dynamic=False, embed=None, epochs=100, erasing=0.4, exist_ok=True, fliplr=0.5, flipud=0.0, format=torchscript, fraction=1.0, freeze=None, half=False, hsv_h=0.015, hsv_s=0.7, hsv_v=0.4, imgsz=640, int8=False, iou=0.7, keras=False, kobj=1.0, line_width=None, lr0=0.01, lrf=0.01, mask_ratio=4, max_det=300, mixup=0.0, mode=train, model=yolov10m.pt, momentum=0.937, mosaic=1.0, multi_scale=False, name=custom_model, nbs=64, nms=False, opset=None, optimize=False, optimizer=auto, overlap_mask=True, patience=100, perspective=0.0, plots=True, pose=12.0, pretrained=True, profile=False, project=YOLOv10_Training, rect=False, resume=False, retina_masks=False, save=True, save_conf=False, save_crop=False, save_dir=YOLOv10_Training/custom_model, save_frames=False, save_json=False, save_period=1, save_txt=False, scale=0.5, seed=0, shear=0.0, show=False, show_boxes=True, show_conf=True, show_labels=True, simplify=True, single_cls=False, source=None, split=val, stream_buffer=False, task=detect, time=None, tracker=botsort.yaml, translate=0.1, val=True, verbose=True, vid_stride=1, visualize=False, warmup_bias_lr=0.1, warmup_epochs=3.0, warmup_momentum=0.8, weight_decay=0.0005, workers=8, workspace=None\n",
      "\n",
      "                   from  n    params  module                                       arguments                     \n",
      "  0                  -1  1      1392  ultralytics.nn.modules.conv.Conv             [3, 48, 3, 2]                 \n",
      "  1                  -1  1     41664  ultralytics.nn.modules.conv.Conv             [48, 96, 3, 2]                \n",
      "  2                  -1  2    111360  ultralytics.nn.modules.block.C2f             [96, 96, 2, True]             \n",
      "  3                  -1  1    166272  ultralytics.nn.modules.conv.Conv             [96, 192, 3, 2]               \n",
      "  4                  -1  4    813312  ultralytics.nn.modules.block.C2f             [192, 192, 4, True]           \n",
      "  5                  -1  1     78720  ultralytics.nn.modules.block.SCDown          [192, 384, 3, 2]              \n",
      "  6                  -1  4   3248640  ultralytics.nn.modules.block.C2f             [384, 384, 4, True]           \n",
      "  7                  -1  1    228672  ultralytics.nn.modules.block.SCDown          [384, 576, 3, 2]              \n",
      "  8                  -1  2   1689984  ultralytics.nn.modules.block.C2fCIB          [576, 576, 2, True]           \n",
      "  9                  -1  1    831168  ultralytics.nn.modules.block.SPPF            [576, 576, 5]                 \n",
      " 10                  -1  1   1253088  ultralytics.nn.modules.block.PSA             [576, 576]                    \n",
      " 11                  -1  1         0  torch.nn.modules.upsampling.Upsample         [None, 2, 'nearest']          \n",
      " 12             [-1, 6]  1         0  ultralytics.nn.modules.conv.Concat           [1]                           \n",
      " 13                  -1  2   1993728  ultralytics.nn.modules.block.C2f             [960, 384, 2]                 \n",
      " 14                  -1  1         0  torch.nn.modules.upsampling.Upsample         [None, 2, 'nearest']          \n",
      " 15             [-1, 4]  1         0  ultralytics.nn.modules.conv.Concat           [1]                           \n",
      " 16                  -1  2    517632  ultralytics.nn.modules.block.C2f             [576, 192, 2]                 \n",
      " 17                  -1  1    332160  ultralytics.nn.modules.conv.Conv             [192, 192, 3, 2]              \n",
      " 18            [-1, 13]  1         0  ultralytics.nn.modules.conv.Concat           [1]                           \n",
      " 19                  -1  2    831744  ultralytics.nn.modules.block.C2fCIB          [576, 384, 2, True]           \n",
      " 20                  -1  1    152448  ultralytics.nn.modules.block.SCDown          [384, 384, 3, 2]              \n",
      " 21            [-1, 10]  1         0  ultralytics.nn.modules.conv.Concat           [1]                           \n",
      " 22                  -1  2   1911168  ultralytics.nn.modules.block.C2fCIB          [960, 576, 2, True]           \n",
      " 23        [16, 19, 22]  1   2284450  ultralytics.nn.modules.head.v10Detect        [3, [192, 384, 576]]          \n",
      "YOLOv10m summary: 288 layers, 16,487,602 parameters, 16,487,586 gradients, 64.0 GFLOPs\n",
      "\n",
      "Transferred 799/799 items from pretrained weights\n",
      "Freezing layer 'model.23.dfl.conv.weight'\n",
      "\u001b[34m\u001b[1mAMP: \u001b[0mrunning Automatic Mixed Precision (AMP) checks...\n",
      "\u001b[34m\u001b[1mAMP: \u001b[0mchecks passed ✅\n",
      "\u001b[34m\u001b[1mtrain: \u001b[0mFast image access ✅ (ping: 0.0±0.0 ms, read: 3713.3±3636.6 MB/s, size: 121.9 KB)\n"
     ]
    },
    {
     "name": "stderr",
     "output_type": "stream",
     "text": [
      "\u001b[34m\u001b[1mtrain: \u001b[0mScanning /home/heytanix/Documents/VisionTrainer/dataset/labels/train.cache... 25470 images, 18 backgrounds, 0 corrupt: 100%|██████████| 25470/25470 [00:00<?, ?it/s]\n"
     ]
    },
    {
     "name": "stdout",
     "output_type": "stream",
     "text": [
      "\u001b[34m\u001b[1mval: \u001b[0mFast image access ✅ (ping: 0.0±0.0 ms, read: 571.5±58.5 MB/s, size: 293.3 KB)\n"
     ]
    },
    {
     "name": "stderr",
     "output_type": "stream",
     "text": [
      "\u001b[34m\u001b[1mval: \u001b[0mScanning /home/heytanix/Documents/VisionTrainer/dataset/labels/val.cache... 1073 images, 0 backgrounds, 0 corrupt: 100%|██████████| 1073/1073 [00:00<?, ?it/s]\n"
     ]
    },
    {
     "name": "stdout",
     "output_type": "stream",
     "text": [
      "Plotting labels to YOLOv10_Training/custom_model/labels.jpg... \n",
      "\u001b[34m\u001b[1moptimizer:\u001b[0m 'optimizer=auto' found, ignoring 'lr0=0.01' and 'momentum=0.937' and determining best 'optimizer', 'lr0' and 'momentum' automatically... \n",
      "\u001b[34m\u001b[1moptimizer:\u001b[0m SGD(lr=0.01, momentum=0.9) with parameter groups 129 weight(decay=0.0), 142 weight(decay=0.0005), 141 bias(decay=0.0)\n",
      "Image sizes 640 train, 640 val\n",
      "Using 8 dataloader workers\n",
      "Logging results to \u001b[1mYOLOv10_Training/custom_model\u001b[0m\n",
      "Starting training for 100 epochs...\n",
      "\n",
      "      Epoch    GPU_mem   box_loss   cls_loss   dfl_loss  Instances       Size\n"
     ]
    },
    {
     "name": "stderr",
     "output_type": "stream",
     "text": [
      "      1/100      2.67G      2.609      1.378       2.58          5        640: 100%|██████████| 6368/6368 [10:04<00:00, 10.53it/s]\n",
      "                 Class     Images  Instances      Box(P          R      mAP50  mAP50-95): 100%|██████████| 135/135 [00:06<00:00, 19.57it/s]"
     ]
    },
    {
     "name": "stdout",
     "output_type": "stream",
     "text": [
      "                   all       1073       1573      0.736      0.719      0.735      0.336\n"
     ]
    },
    {
     "name": "stderr",
     "output_type": "stream",
     "text": [
      "\n"
     ]
    },
    {
     "name": "stdout",
     "output_type": "stream",
     "text": [
      "\n",
      "      Epoch    GPU_mem   box_loss   cls_loss   dfl_loss  Instances       Size\n"
     ]
    },
    {
     "name": "stderr",
     "output_type": "stream",
     "text": [
      "      2/100      3.37G      2.619      1.339      2.592          4        640: 100%|██████████| 6368/6368 [09:37<00:00, 11.03it/s]\n",
      "                 Class     Images  Instances      Box(P          R      mAP50  mAP50-95): 100%|██████████| 135/135 [00:06<00:00, 20.26it/s]"
     ]
    },
    {
     "name": "stdout",
     "output_type": "stream",
     "text": [
      "                   all       1073       1573      0.719      0.705      0.721      0.346\n"
     ]
    },
    {
     "name": "stderr",
     "output_type": "stream",
     "text": [
      "\n"
     ]
    },
    {
     "name": "stdout",
     "output_type": "stream",
     "text": [
      "\n",
      "      Epoch    GPU_mem   box_loss   cls_loss   dfl_loss  Instances       Size\n"
     ]
    },
    {
     "name": "stderr",
     "output_type": "stream",
     "text": [
      "      3/100      3.37G      2.655       1.37      2.644          3        640: 100%|██████████| 6368/6368 [09:32<00:00, 11.12it/s]\n",
      "                 Class     Images  Instances      Box(P          R      mAP50  mAP50-95): 100%|██████████| 135/135 [00:06<00:00, 20.25it/s]"
     ]
    },
    {
     "name": "stdout",
     "output_type": "stream",
     "text": [
      "                   all       1073       1573      0.765      0.639      0.697      0.325\n"
     ]
    },
    {
     "name": "stderr",
     "output_type": "stream",
     "text": [
      "\n"
     ]
    },
    {
     "name": "stdout",
     "output_type": "stream",
     "text": [
      "\n",
      "      Epoch    GPU_mem   box_loss   cls_loss   dfl_loss  Instances       Size\n"
     ]
    },
    {
     "name": "stderr",
     "output_type": "stream",
     "text": [
      "      4/100      3.37G      2.666      1.388      2.669          3        640: 100%|██████████| 6368/6368 [09:30<00:00, 11.16it/s]\n",
      "                 Class     Images  Instances      Box(P          R      mAP50  mAP50-95): 100%|██████████| 135/135 [00:06<00:00, 20.23it/s]"
     ]
    },
    {
     "name": "stdout",
     "output_type": "stream",
     "text": [
      "                   all       1073       1573      0.773      0.663      0.734       0.35\n"
     ]
    },
    {
     "name": "stderr",
     "output_type": "stream",
     "text": [
      "\n"
     ]
    },
    {
     "name": "stdout",
     "output_type": "stream",
     "text": [
      "\n",
      "      Epoch    GPU_mem   box_loss   cls_loss   dfl_loss  Instances       Size\n"
     ]
    },
    {
     "name": "stderr",
     "output_type": "stream",
     "text": [
      "      5/100      3.37G      2.632      1.355      2.623          6        640: 100%|██████████| 6368/6368 [09:31<00:00, 11.14it/s]\n",
      "                 Class     Images  Instances      Box(P          R      mAP50  mAP50-95): 100%|██████████| 135/135 [00:06<00:00, 20.28it/s]"
     ]
    },
    {
     "name": "stdout",
     "output_type": "stream",
     "text": [
      "                   all       1073       1573      0.777      0.683      0.742      0.359\n"
     ]
    },
    {
     "name": "stderr",
     "output_type": "stream",
     "text": [
      "\n"
     ]
    },
    {
     "name": "stdout",
     "output_type": "stream",
     "text": [
      "\n",
      "      Epoch    GPU_mem   box_loss   cls_loss   dfl_loss  Instances       Size\n"
     ]
    },
    {
     "name": "stderr",
     "output_type": "stream",
     "text": [
      "      6/100      3.37G      2.599      1.292      2.608          6        640: 100%|██████████| 6368/6368 [09:32<00:00, 11.12it/s]\n",
      "                 Class     Images  Instances      Box(P          R      mAP50  mAP50-95): 100%|██████████| 135/135 [00:06<00:00, 20.21it/s]"
     ]
    },
    {
     "name": "stdout",
     "output_type": "stream",
     "text": [
      "                   all       1073       1573      0.762      0.702      0.746      0.361\n"
     ]
    },
    {
     "name": "stderr",
     "output_type": "stream",
     "text": [
      "\n"
     ]
    },
    {
     "name": "stdout",
     "output_type": "stream",
     "text": [
      "\n",
      "      Epoch    GPU_mem   box_loss   cls_loss   dfl_loss  Instances       Size\n"
     ]
    },
    {
     "name": "stderr",
     "output_type": "stream",
     "text": [
      "      7/100      3.37G      2.576       1.27      2.604          1        640: 100%|██████████| 6368/6368 [09:32<00:00, 11.12it/s]\n",
      "                 Class     Images  Instances      Box(P          R      mAP50  mAP50-95): 100%|██████████| 135/135 [00:06<00:00, 20.25it/s]"
     ]
    },
    {
     "name": "stdout",
     "output_type": "stream",
     "text": [
      "                   all       1073       1573      0.798      0.723      0.771      0.366\n"
     ]
    },
    {
     "name": "stderr",
     "output_type": "stream",
     "text": [
      "\n"
     ]
    },
    {
     "name": "stdout",
     "output_type": "stream",
     "text": [
      "\n",
      "      Epoch    GPU_mem   box_loss   cls_loss   dfl_loss  Instances       Size\n"
     ]
    },
    {
     "name": "stderr",
     "output_type": "stream",
     "text": [
      "      8/100      3.37G      2.544      1.241      2.595          4        640: 100%|██████████| 6368/6368 [09:32<00:00, 11.13it/s]\n",
      "                 Class     Images  Instances      Box(P          R      mAP50  mAP50-95): 100%|██████████| 135/135 [00:06<00:00, 20.16it/s]"
     ]
    },
    {
     "name": "stdout",
     "output_type": "stream",
     "text": [
      "                   all       1073       1573      0.761      0.708      0.748      0.371\n"
     ]
    },
    {
     "name": "stderr",
     "output_type": "stream",
     "text": [
      "\n"
     ]
    },
    {
     "name": "stdout",
     "output_type": "stream",
     "text": [
      "\n",
      "      Epoch    GPU_mem   box_loss   cls_loss   dfl_loss  Instances       Size\n"
     ]
    },
    {
     "name": "stderr",
     "output_type": "stream",
     "text": [
      "      9/100      3.37G      2.533      1.205      2.567          8        640: 100%|██████████| 6368/6368 [09:32<00:00, 11.13it/s]\n",
      "                 Class     Images  Instances      Box(P          R      mAP50  mAP50-95): 100%|██████████| 135/135 [00:06<00:00, 20.27it/s]"
     ]
    },
    {
     "name": "stdout",
     "output_type": "stream",
     "text": [
      "                   all       1073       1573      0.792      0.718      0.774      0.385\n"
     ]
    },
    {
     "name": "stderr",
     "output_type": "stream",
     "text": [
      "\n"
     ]
    },
    {
     "name": "stdout",
     "output_type": "stream",
     "text": [
      "\n",
      "      Epoch    GPU_mem   box_loss   cls_loss   dfl_loss  Instances       Size\n"
     ]
    },
    {
     "name": "stderr",
     "output_type": "stream",
     "text": [
      "     10/100      3.37G      2.528      1.204      2.565          2        640: 100%|██████████| 6368/6368 [09:33<00:00, 11.11it/s]\n",
      "                 Class     Images  Instances      Box(P          R      mAP50  mAP50-95): 100%|██████████| 135/135 [00:06<00:00, 20.21it/s]"
     ]
    },
    {
     "name": "stdout",
     "output_type": "stream",
     "text": [
      "                   all       1073       1573      0.805      0.732      0.784      0.389\n"
     ]
    },
    {
     "name": "stderr",
     "output_type": "stream",
     "text": [
      "\n"
     ]
    },
    {
     "name": "stdout",
     "output_type": "stream",
     "text": [
      "\n",
      "      Epoch    GPU_mem   box_loss   cls_loss   dfl_loss  Instances       Size\n"
     ]
    },
    {
     "name": "stderr",
     "output_type": "stream",
     "text": [
      "     11/100      3.37G      2.521      1.168      2.569          1        640: 100%|██████████| 6368/6368 [09:30<00:00, 11.16it/s]\n",
      "                 Class     Images  Instances      Box(P          R      mAP50  mAP50-95): 100%|██████████| 135/135 [00:06<00:00, 20.29it/s]"
     ]
    },
    {
     "name": "stdout",
     "output_type": "stream",
     "text": [
      "                   all       1073       1573      0.803      0.731      0.779      0.391\n"
     ]
    },
    {
     "name": "stderr",
     "output_type": "stream",
     "text": [
      "\n"
     ]
    },
    {
     "name": "stdout",
     "output_type": "stream",
     "text": [
      "\n",
      "      Epoch    GPU_mem   box_loss   cls_loss   dfl_loss  Instances       Size\n"
     ]
    },
    {
     "name": "stderr",
     "output_type": "stream",
     "text": [
      "     12/100      3.37G      2.498      1.144      2.559          4        640: 100%|██████████| 6368/6368 [09:30<00:00, 11.16it/s]\n",
      "                 Class     Images  Instances      Box(P          R      mAP50  mAP50-95): 100%|██████████| 135/135 [00:06<00:00, 20.25it/s]"
     ]
    },
    {
     "name": "stdout",
     "output_type": "stream",
     "text": [
      "                   all       1073       1573        0.8      0.745        0.8      0.406\n"
     ]
    },
    {
     "name": "stderr",
     "output_type": "stream",
     "text": [
      "\n"
     ]
    },
    {
     "name": "stdout",
     "output_type": "stream",
     "text": [
      "\n",
      "      Epoch    GPU_mem   box_loss   cls_loss   dfl_loss  Instances       Size\n"
     ]
    },
    {
     "name": "stderr",
     "output_type": "stream",
     "text": [
      "     13/100      3.37G      2.506      1.148      2.573          3        640: 100%|██████████| 6368/6368 [09:30<00:00, 11.17it/s]\n",
      "                 Class     Images  Instances      Box(P          R      mAP50  mAP50-95): 100%|██████████| 135/135 [00:06<00:00, 20.23it/s]"
     ]
    },
    {
     "name": "stdout",
     "output_type": "stream",
     "text": [
      "                   all       1073       1573      0.822      0.769       0.81      0.405\n"
     ]
    },
    {
     "name": "stderr",
     "output_type": "stream",
     "text": [
      "\n"
     ]
    },
    {
     "name": "stdout",
     "output_type": "stream",
     "text": [
      "\n",
      "      Epoch    GPU_mem   box_loss   cls_loss   dfl_loss  Instances       Size\n"
     ]
    },
    {
     "name": "stderr",
     "output_type": "stream",
     "text": [
      "     14/100      3.37G      2.486      1.142      2.561          3        640: 100%|██████████| 6368/6368 [09:34<00:00, 11.09it/s]\n",
      "                 Class     Images  Instances      Box(P          R      mAP50  mAP50-95): 100%|██████████| 135/135 [00:06<00:00, 20.19it/s]"
     ]
    },
    {
     "name": "stdout",
     "output_type": "stream",
     "text": [
      "                   all       1073       1573      0.839      0.748      0.811      0.412\n"
     ]
    },
    {
     "name": "stderr",
     "output_type": "stream",
     "text": [
      "\n"
     ]
    },
    {
     "name": "stdout",
     "output_type": "stream",
     "text": [
      "\n",
      "      Epoch    GPU_mem   box_loss   cls_loss   dfl_loss  Instances       Size\n"
     ]
    },
    {
     "name": "stderr",
     "output_type": "stream",
     "text": [
      "     15/100      3.37G      2.472      1.116      2.551          2        640: 100%|██████████| 6368/6368 [09:33<00:00, 11.10it/s]\n",
      "                 Class     Images  Instances      Box(P          R      mAP50  mAP50-95): 100%|██████████| 135/135 [00:06<00:00, 20.21it/s]"
     ]
    },
    {
     "name": "stdout",
     "output_type": "stream",
     "text": [
      "                   all       1073       1573      0.807      0.773      0.813      0.415\n"
     ]
    },
    {
     "name": "stderr",
     "output_type": "stream",
     "text": [
      "\n"
     ]
    },
    {
     "name": "stdout",
     "output_type": "stream",
     "text": [
      "\n",
      "      Epoch    GPU_mem   box_loss   cls_loss   dfl_loss  Instances       Size\n"
     ]
    },
    {
     "name": "stderr",
     "output_type": "stream",
     "text": [
      "     16/100      3.37G      2.466      1.128      2.535          3        640: 100%|██████████| 6368/6368 [10:07<00:00, 10.49it/s]\n",
      "                 Class     Images  Instances      Box(P          R      mAP50  mAP50-95): 100%|██████████| 135/135 [00:06<00:00, 20.32it/s]"
     ]
    },
    {
     "name": "stdout",
     "output_type": "stream",
     "text": [
      "                   all       1073       1573      0.805      0.743      0.803      0.416\n"
     ]
    },
    {
     "name": "stderr",
     "output_type": "stream",
     "text": [
      "\n"
     ]
    },
    {
     "name": "stdout",
     "output_type": "stream",
     "text": [
      "\n",
      "      Epoch    GPU_mem   box_loss   cls_loss   dfl_loss  Instances       Size\n"
     ]
    },
    {
     "name": "stderr",
     "output_type": "stream",
     "text": [
      "     17/100      3.37G      2.446      1.101       2.54          3        640: 100%|██████████| 6368/6368 [09:32<00:00, 11.13it/s]\n",
      "                 Class     Images  Instances      Box(P          R      mAP50  mAP50-95): 100%|██████████| 135/135 [00:06<00:00, 20.39it/s]"
     ]
    },
    {
     "name": "stdout",
     "output_type": "stream",
     "text": [
      "                   all       1073       1573      0.818       0.76      0.824      0.425\n"
     ]
    },
    {
     "name": "stderr",
     "output_type": "stream",
     "text": [
      "\n"
     ]
    },
    {
     "name": "stdout",
     "output_type": "stream",
     "text": [
      "\n",
      "      Epoch    GPU_mem   box_loss   cls_loss   dfl_loss  Instances       Size\n"
     ]
    },
    {
     "name": "stderr",
     "output_type": "stream",
     "text": [
      "     18/100      3.37G      2.446      1.107      2.527          1        640: 100%|██████████| 6368/6368 [09:30<00:00, 11.17it/s]\n",
      "                 Class     Images  Instances      Box(P          R      mAP50  mAP50-95): 100%|██████████| 135/135 [00:06<00:00, 20.35it/s]"
     ]
    },
    {
     "name": "stdout",
     "output_type": "stream",
     "text": [
      "                   all       1073       1573      0.803       0.76      0.804      0.418\n"
     ]
    },
    {
     "name": "stderr",
     "output_type": "stream",
     "text": [
      "\n"
     ]
    },
    {
     "name": "stdout",
     "output_type": "stream",
     "text": [
      "\n",
      "      Epoch    GPU_mem   box_loss   cls_loss   dfl_loss  Instances       Size\n"
     ]
    },
    {
     "name": "stderr",
     "output_type": "stream",
     "text": [
      "     19/100      3.37G      2.437      1.093      2.535          3        640: 100%|██████████| 6368/6368 [09:30<00:00, 11.17it/s]\n",
      "                 Class     Images  Instances      Box(P          R      mAP50  mAP50-95): 100%|██████████| 135/135 [00:06<00:00, 20.38it/s]"
     ]
    },
    {
     "name": "stdout",
     "output_type": "stream",
     "text": [
      "                   all       1073       1573       0.79      0.769      0.812      0.417\n"
     ]
    },
    {
     "name": "stderr",
     "output_type": "stream",
     "text": [
      "\n"
     ]
    },
    {
     "name": "stdout",
     "output_type": "stream",
     "text": [
      "\n",
      "      Epoch    GPU_mem   box_loss   cls_loss   dfl_loss  Instances       Size\n"
     ]
    },
    {
     "name": "stderr",
     "output_type": "stream",
     "text": [
      "     20/100      3.37G      2.425      1.081      2.516          3        640: 100%|██████████| 6368/6368 [09:30<00:00, 11.16it/s]\n",
      "                 Class     Images  Instances      Box(P          R      mAP50  mAP50-95): 100%|██████████| 135/135 [00:06<00:00, 20.30it/s]"
     ]
    },
    {
     "name": "stdout",
     "output_type": "stream",
     "text": [
      "                   all       1073       1573       0.82      0.755      0.817      0.426\n"
     ]
    },
    {
     "name": "stderr",
     "output_type": "stream",
     "text": [
      "\n"
     ]
    },
    {
     "name": "stdout",
     "output_type": "stream",
     "text": [
      "\n",
      "      Epoch    GPU_mem   box_loss   cls_loss   dfl_loss  Instances       Size\n"
     ]
    },
    {
     "name": "stderr",
     "output_type": "stream",
     "text": [
      "     21/100      3.37G      2.426      1.074      2.507          3        640: 100%|██████████| 6368/6368 [09:32<00:00, 11.13it/s]\n",
      "                 Class     Images  Instances      Box(P          R      mAP50  mAP50-95): 100%|██████████| 135/135 [00:06<00:00, 20.30it/s]"
     ]
    },
    {
     "name": "stdout",
     "output_type": "stream",
     "text": [
      "                   all       1073       1573      0.818      0.779      0.824      0.421\n"
     ]
    },
    {
     "name": "stderr",
     "output_type": "stream",
     "text": [
      "\n"
     ]
    },
    {
     "name": "stdout",
     "output_type": "stream",
     "text": [
      "\n",
      "      Epoch    GPU_mem   box_loss   cls_loss   dfl_loss  Instances       Size\n"
     ]
    },
    {
     "name": "stderr",
     "output_type": "stream",
     "text": [
      "     22/100      3.37G      2.424      1.073      2.497          4        640: 100%|██████████| 6368/6368 [09:31<00:00, 11.13it/s]\n",
      "                 Class     Images  Instances      Box(P          R      mAP50  mAP50-95): 100%|██████████| 135/135 [00:06<00:00, 20.33it/s]"
     ]
    },
    {
     "name": "stdout",
     "output_type": "stream",
     "text": [
      "                   all       1073       1573      0.816      0.789       0.83      0.421\n"
     ]
    },
    {
     "name": "stderr",
     "output_type": "stream",
     "text": [
      "\n"
     ]
    },
    {
     "name": "stdout",
     "output_type": "stream",
     "text": [
      "\n",
      "      Epoch    GPU_mem   box_loss   cls_loss   dfl_loss  Instances       Size\n"
     ]
    },
    {
     "name": "stderr",
     "output_type": "stream",
     "text": [
      "     23/100      3.37G      2.415      1.071      2.495          2        640: 100%|██████████| 6368/6368 [09:32<00:00, 11.12it/s]\n",
      "                 Class     Images  Instances      Box(P          R      mAP50  mAP50-95): 100%|██████████| 135/135 [00:06<00:00, 20.35it/s]"
     ]
    },
    {
     "name": "stdout",
     "output_type": "stream",
     "text": [
      "                   all       1073       1573      0.814      0.788      0.812      0.417\n"
     ]
    },
    {
     "name": "stderr",
     "output_type": "stream",
     "text": [
      "\n"
     ]
    },
    {
     "name": "stdout",
     "output_type": "stream",
     "text": [
      "\n",
      "      Epoch    GPU_mem   box_loss   cls_loss   dfl_loss  Instances       Size\n"
     ]
    },
    {
     "name": "stderr",
     "output_type": "stream",
     "text": [
      "     24/100      3.37G      2.394      1.057      2.506          4        640: 100%|██████████| 6368/6368 [09:32<00:00, 11.12it/s]\n",
      "                 Class     Images  Instances      Box(P          R      mAP50  mAP50-95): 100%|██████████| 135/135 [00:06<00:00, 20.33it/s]"
     ]
    },
    {
     "name": "stdout",
     "output_type": "stream",
     "text": [
      "                   all       1073       1573      0.828      0.773      0.824      0.422\n"
     ]
    },
    {
     "name": "stderr",
     "output_type": "stream",
     "text": [
      "\n"
     ]
    },
    {
     "name": "stdout",
     "output_type": "stream",
     "text": [
      "\n",
      "      Epoch    GPU_mem   box_loss   cls_loss   dfl_loss  Instances       Size\n"
     ]
    },
    {
     "name": "stderr",
     "output_type": "stream",
     "text": [
      "     25/100      3.37G       2.39      1.053      2.511          0        640: 100%|██████████| 6368/6368 [09:33<00:00, 11.11it/s]\n",
      "                 Class     Images  Instances      Box(P          R      mAP50  mAP50-95): 100%|██████████| 135/135 [00:06<00:00, 20.32it/s]"
     ]
    },
    {
     "name": "stdout",
     "output_type": "stream",
     "text": [
      "                   all       1073       1573      0.829      0.778      0.829      0.426\n"
     ]
    },
    {
     "name": "stderr",
     "output_type": "stream",
     "text": [
      "\n"
     ]
    },
    {
     "name": "stdout",
     "output_type": "stream",
     "text": [
      "\n",
      "      Epoch    GPU_mem   box_loss   cls_loss   dfl_loss  Instances       Size\n"
     ]
    },
    {
     "name": "stderr",
     "output_type": "stream",
     "text": [
      "     26/100      3.37G      2.385      1.036      2.494          4        640: 100%|██████████| 6368/6368 [09:30<00:00, 11.17it/s]\n",
      "                 Class     Images  Instances      Box(P          R      mAP50  mAP50-95): 100%|██████████| 135/135 [00:06<00:00, 20.39it/s]"
     ]
    },
    {
     "name": "stdout",
     "output_type": "stream",
     "text": [
      "                   all       1073       1573      0.837      0.771      0.824      0.422\n"
     ]
    },
    {
     "name": "stderr",
     "output_type": "stream",
     "text": [
      "\n"
     ]
    },
    {
     "name": "stdout",
     "output_type": "stream",
     "text": [
      "\n",
      "      Epoch    GPU_mem   box_loss   cls_loss   dfl_loss  Instances       Size\n"
     ]
    },
    {
     "name": "stderr",
     "output_type": "stream",
     "text": [
      "     27/100      3.37G      2.375      1.038      2.498          4        640: 100%|██████████| 6368/6368 [09:30<00:00, 11.16it/s]\n",
      "                 Class     Images  Instances      Box(P          R      mAP50  mAP50-95): 100%|██████████| 135/135 [00:06<00:00, 20.38it/s]"
     ]
    },
    {
     "name": "stdout",
     "output_type": "stream",
     "text": [
      "                   all       1073       1573      0.833      0.769      0.815       0.42\n"
     ]
    },
    {
     "name": "stderr",
     "output_type": "stream",
     "text": [
      "\n"
     ]
    },
    {
     "name": "stdout",
     "output_type": "stream",
     "text": [
      "\n",
      "      Epoch    GPU_mem   box_loss   cls_loss   dfl_loss  Instances       Size\n"
     ]
    },
    {
     "name": "stderr",
     "output_type": "stream",
     "text": [
      "     28/100      3.37G      2.387      1.033      2.497          3        640: 100%|██████████| 6368/6368 [09:30<00:00, 11.15it/s]\n",
      "                 Class     Images  Instances      Box(P          R      mAP50  mAP50-95): 100%|██████████| 135/135 [00:06<00:00, 20.42it/s]"
     ]
    },
    {
     "name": "stdout",
     "output_type": "stream",
     "text": [
      "                   all       1073       1573      0.811      0.782       0.81      0.421\n"
     ]
    },
    {
     "name": "stderr",
     "output_type": "stream",
     "text": [
      "\n"
     ]
    },
    {
     "name": "stdout",
     "output_type": "stream",
     "text": [
      "\n",
      "      Epoch    GPU_mem   box_loss   cls_loss   dfl_loss  Instances       Size\n"
     ]
    },
    {
     "name": "stderr",
     "output_type": "stream",
     "text": [
      "     29/100      3.37G      2.371      1.014      2.473          2        640: 100%|██████████| 6368/6368 [09:31<00:00, 11.15it/s]\n",
      "                 Class     Images  Instances      Box(P          R      mAP50  mAP50-95): 100%|██████████| 135/135 [00:06<00:00, 20.33it/s]"
     ]
    },
    {
     "name": "stdout",
     "output_type": "stream",
     "text": [
      "                   all       1073       1573      0.829      0.783      0.825      0.424\n"
     ]
    },
    {
     "name": "stderr",
     "output_type": "stream",
     "text": [
      "\n"
     ]
    },
    {
     "name": "stdout",
     "output_type": "stream",
     "text": [
      "\n",
      "      Epoch    GPU_mem   box_loss   cls_loss   dfl_loss  Instances       Size\n"
     ]
    },
    {
     "name": "stderr",
     "output_type": "stream",
     "text": [
      "     30/100      3.37G      2.362      1.017      2.493          2        640: 100%|██████████| 6368/6368 [09:31<00:00, 11.15it/s]\n",
      "                 Class     Images  Instances      Box(P          R      mAP50  mAP50-95): 100%|██████████| 135/135 [00:06<00:00, 20.35it/s]"
     ]
    },
    {
     "name": "stdout",
     "output_type": "stream",
     "text": [
      "                   all       1073       1573      0.837      0.798       0.84      0.434\n"
     ]
    },
    {
     "name": "stderr",
     "output_type": "stream",
     "text": [
      "\n"
     ]
    },
    {
     "name": "stdout",
     "output_type": "stream",
     "text": [
      "\n",
      "      Epoch    GPU_mem   box_loss   cls_loss   dfl_loss  Instances       Size\n"
     ]
    },
    {
     "name": "stderr",
     "output_type": "stream",
     "text": [
      "     31/100      3.37G      2.359      1.007      2.493          5        640: 100%|██████████| 6368/6368 [09:31<00:00, 11.14it/s]\n",
      "                 Class     Images  Instances      Box(P          R      mAP50  mAP50-95): 100%|██████████| 135/135 [00:06<00:00, 20.36it/s]"
     ]
    },
    {
     "name": "stdout",
     "output_type": "stream",
     "text": [
      "                   all       1073       1573      0.845       0.79      0.835       0.43\n"
     ]
    },
    {
     "name": "stderr",
     "output_type": "stream",
     "text": [
      "\n"
     ]
    },
    {
     "name": "stdout",
     "output_type": "stream",
     "text": [
      "\n",
      "      Epoch    GPU_mem   box_loss   cls_loss   dfl_loss  Instances       Size\n"
     ]
    },
    {
     "name": "stderr",
     "output_type": "stream",
     "text": [
      "     32/100      3.37G      2.353      1.006       2.49          2        640: 100%|██████████| 6368/6368 [09:31<00:00, 11.13it/s]\n",
      "                 Class     Images  Instances      Box(P          R      mAP50  mAP50-95): 100%|██████████| 135/135 [00:06<00:00, 20.37it/s]"
     ]
    },
    {
     "name": "stdout",
     "output_type": "stream",
     "text": [
      "                   all       1073       1573      0.824      0.798      0.835      0.433\n"
     ]
    },
    {
     "name": "stderr",
     "output_type": "stream",
     "text": [
      "\n"
     ]
    },
    {
     "name": "stdout",
     "output_type": "stream",
     "text": [
      "\n",
      "      Epoch    GPU_mem   box_loss   cls_loss   dfl_loss  Instances       Size\n"
     ]
    },
    {
     "name": "stderr",
     "output_type": "stream",
     "text": [
      "     33/100      3.37G      2.357      1.017      2.486          2        640: 100%|██████████| 6368/6368 [09:31<00:00, 11.14it/s]\n",
      "                 Class     Images  Instances      Box(P          R      mAP50  mAP50-95): 100%|██████████| 135/135 [00:06<00:00, 20.34it/s]"
     ]
    },
    {
     "name": "stdout",
     "output_type": "stream",
     "text": [
      "                   all       1073       1573      0.805      0.805      0.828      0.429\n"
     ]
    },
    {
     "name": "stderr",
     "output_type": "stream",
     "text": [
      "\n"
     ]
    },
    {
     "name": "stdout",
     "output_type": "stream",
     "text": [
      "\n",
      "      Epoch    GPU_mem   box_loss   cls_loss   dfl_loss  Instances       Size\n"
     ]
    },
    {
     "name": "stderr",
     "output_type": "stream",
     "text": [
      "     34/100      3.37G      2.349      1.002      2.481          4        640: 100%|██████████| 6368/6368 [09:32<00:00, 11.13it/s]\n",
      "                 Class     Images  Instances      Box(P          R      mAP50  mAP50-95): 100%|██████████| 135/135 [00:06<00:00, 20.38it/s]"
     ]
    },
    {
     "name": "stdout",
     "output_type": "stream",
     "text": [
      "                   all       1073       1573      0.819        0.8      0.829       0.43\n"
     ]
    },
    {
     "name": "stderr",
     "output_type": "stream",
     "text": [
      "\n"
     ]
    },
    {
     "name": "stdout",
     "output_type": "stream",
     "text": [
      "\n",
      "      Epoch    GPU_mem   box_loss   cls_loss   dfl_loss  Instances       Size\n"
     ]
    },
    {
     "name": "stderr",
     "output_type": "stream",
     "text": [
      "     35/100      3.37G      2.331     0.9883      2.462          6        640: 100%|██████████| 6368/6368 [09:32<00:00, 11.13it/s]\n",
      "                 Class     Images  Instances      Box(P          R      mAP50  mAP50-95): 100%|██████████| 135/135 [00:06<00:00, 20.38it/s]"
     ]
    },
    {
     "name": "stdout",
     "output_type": "stream",
     "text": [
      "                   all       1073       1573      0.832      0.799      0.836      0.435\n"
     ]
    },
    {
     "name": "stderr",
     "output_type": "stream",
     "text": [
      "\n"
     ]
    },
    {
     "name": "stdout",
     "output_type": "stream",
     "text": [
      "\n",
      "      Epoch    GPU_mem   box_loss   cls_loss   dfl_loss  Instances       Size\n"
     ]
    },
    {
     "name": "stderr",
     "output_type": "stream",
     "text": [
      "     36/100      3.37G      2.333     0.9884      2.474          5        640: 100%|██████████| 6368/6368 [09:31<00:00, 11.14it/s]\n",
      "                 Class     Images  Instances      Box(P          R      mAP50  mAP50-95): 100%|██████████| 135/135 [00:06<00:00, 20.34it/s]"
     ]
    },
    {
     "name": "stdout",
     "output_type": "stream",
     "text": [
      "                   all       1073       1573      0.833      0.801       0.84      0.435\n"
     ]
    },
    {
     "name": "stderr",
     "output_type": "stream",
     "text": [
      "\n"
     ]
    },
    {
     "name": "stdout",
     "output_type": "stream",
     "text": [
      "\n",
      "      Epoch    GPU_mem   box_loss   cls_loss   dfl_loss  Instances       Size\n"
     ]
    },
    {
     "name": "stderr",
     "output_type": "stream",
     "text": [
      "     37/100      3.37G      2.313     0.9982      2.452          5        640: 100%|██████████| 6368/6368 [09:32<00:00, 11.12it/s]\n",
      "                 Class     Images  Instances      Box(P          R      mAP50  mAP50-95): 100%|██████████| 135/135 [00:06<00:00, 20.37it/s]"
     ]
    },
    {
     "name": "stdout",
     "output_type": "stream",
     "text": [
      "                   all       1073       1573       0.83      0.802      0.839      0.434\n"
     ]
    },
    {
     "name": "stderr",
     "output_type": "stream",
     "text": [
      "\n"
     ]
    },
    {
     "name": "stdout",
     "output_type": "stream",
     "text": [
      "\n",
      "      Epoch    GPU_mem   box_loss   cls_loss   dfl_loss  Instances       Size\n"
     ]
    },
    {
     "name": "stderr",
     "output_type": "stream",
     "text": [
      "     38/100      3.37G      2.324     0.9935      2.458          6        640: 100%|██████████| 6368/6368 [09:32<00:00, 11.12it/s]\n",
      "                 Class     Images  Instances      Box(P          R      mAP50  mAP50-95): 100%|██████████| 135/135 [00:06<00:00, 20.32it/s]"
     ]
    },
    {
     "name": "stdout",
     "output_type": "stream",
     "text": [
      "                   all       1073       1573      0.831      0.806      0.844      0.436\n"
     ]
    },
    {
     "name": "stderr",
     "output_type": "stream",
     "text": [
      "\n"
     ]
    },
    {
     "name": "stdout",
     "output_type": "stream",
     "text": [
      "\n",
      "      Epoch    GPU_mem   box_loss   cls_loss   dfl_loss  Instances       Size\n"
     ]
    },
    {
     "name": "stderr",
     "output_type": "stream",
     "text": [
      "     39/100      3.37G       2.31     0.9784      2.447          3        640: 100%|██████████| 6368/6368 [09:33<00:00, 11.11it/s]\n",
      "                 Class     Images  Instances      Box(P          R      mAP50  mAP50-95): 100%|██████████| 135/135 [00:06<00:00, 20.36it/s]"
     ]
    },
    {
     "name": "stdout",
     "output_type": "stream",
     "text": [
      "                   all       1073       1573      0.832      0.808      0.849       0.44\n"
     ]
    },
    {
     "name": "stderr",
     "output_type": "stream",
     "text": [
      "\n"
     ]
    },
    {
     "name": "stdout",
     "output_type": "stream",
     "text": [
      "\n",
      "      Epoch    GPU_mem   box_loss   cls_loss   dfl_loss  Instances       Size\n"
     ]
    },
    {
     "name": "stderr",
     "output_type": "stream",
     "text": [
      "     40/100      3.37G      2.315     0.9824      2.431          2        640: 100%|██████████| 6368/6368 [09:33<00:00, 11.11it/s]\n",
      "                 Class     Images  Instances      Box(P          R      mAP50  mAP50-95): 100%|██████████| 135/135 [00:06<00:00, 20.35it/s]"
     ]
    },
    {
     "name": "stdout",
     "output_type": "stream",
     "text": [
      "                   all       1073       1573      0.833      0.809      0.849      0.441\n"
     ]
    },
    {
     "name": "stderr",
     "output_type": "stream",
     "text": [
      "\n"
     ]
    },
    {
     "name": "stdout",
     "output_type": "stream",
     "text": [
      "\n",
      "      Epoch    GPU_mem   box_loss   cls_loss   dfl_loss  Instances       Size\n"
     ]
    },
    {
     "name": "stderr",
     "output_type": "stream",
     "text": [
      "     41/100      3.37G      2.308     0.9814      2.453          6        640: 100%|██████████| 6368/6368 [09:32<00:00, 11.12it/s]\n",
      "                 Class     Images  Instances      Box(P          R      mAP50  mAP50-95): 100%|██████████| 135/135 [00:06<00:00, 20.33it/s]"
     ]
    },
    {
     "name": "stdout",
     "output_type": "stream",
     "text": [
      "                   all       1073       1573      0.835      0.805       0.85      0.441\n"
     ]
    },
    {
     "name": "stderr",
     "output_type": "stream",
     "text": [
      "\n"
     ]
    },
    {
     "name": "stdout",
     "output_type": "stream",
     "text": [
      "\n",
      "      Epoch    GPU_mem   box_loss   cls_loss   dfl_loss  Instances       Size\n"
     ]
    },
    {
     "name": "stderr",
     "output_type": "stream",
     "text": [
      "     42/100      3.37G      2.304     0.9702      2.431          1        640: 100%|██████████| 6368/6368 [09:33<00:00, 11.10it/s]\n",
      "                 Class     Images  Instances      Box(P          R      mAP50  mAP50-95): 100%|██████████| 135/135 [00:06<00:00, 20.34it/s]"
     ]
    },
    {
     "name": "stdout",
     "output_type": "stream",
     "text": [
      "                   all       1073       1573      0.832      0.808      0.851      0.442\n"
     ]
    },
    {
     "name": "stderr",
     "output_type": "stream",
     "text": [
      "\n"
     ]
    },
    {
     "name": "stdout",
     "output_type": "stream",
     "text": [
      "\n",
      "      Epoch    GPU_mem   box_loss   cls_loss   dfl_loss  Instances       Size\n"
     ]
    },
    {
     "name": "stderr",
     "output_type": "stream",
     "text": [
      "     43/100      3.37G      2.296     0.9618      2.423          1        640: 100%|██████████| 6368/6368 [09:33<00:00, 11.10it/s]\n",
      "                 Class     Images  Instances      Box(P          R      mAP50  mAP50-95): 100%|██████████| 135/135 [00:06<00:00, 20.31it/s]"
     ]
    },
    {
     "name": "stdout",
     "output_type": "stream",
     "text": [
      "                   all       1073       1573      0.829      0.805      0.851      0.442\n"
     ]
    },
    {
     "name": "stderr",
     "output_type": "stream",
     "text": [
      "\n"
     ]
    },
    {
     "name": "stdout",
     "output_type": "stream",
     "text": [
      "\n",
      "      Epoch    GPU_mem   box_loss   cls_loss   dfl_loss  Instances       Size\n"
     ]
    },
    {
     "name": "stderr",
     "output_type": "stream",
     "text": [
      "     44/100      3.37G      2.304     0.9533      2.449          2        640: 100%|██████████| 6368/6368 [09:33<00:00, 11.11it/s]\n",
      "                 Class     Images  Instances      Box(P          R      mAP50  mAP50-95): 100%|██████████| 135/135 [00:06<00:00, 20.33it/s]"
     ]
    },
    {
     "name": "stdout",
     "output_type": "stream",
     "text": [
      "                   all       1073       1573      0.828      0.806      0.852      0.442\n"
     ]
    },
    {
     "name": "stderr",
     "output_type": "stream",
     "text": [
      "\n"
     ]
    },
    {
     "name": "stdout",
     "output_type": "stream",
     "text": [
      "\n",
      "      Epoch    GPU_mem   box_loss   cls_loss   dfl_loss  Instances       Size\n"
     ]
    },
    {
     "name": "stderr",
     "output_type": "stream",
     "text": [
      "     45/100      3.37G      2.286     0.9581      2.423          4        640: 100%|██████████| 6368/6368 [09:33<00:00, 11.11it/s]\n",
      "                 Class     Images  Instances      Box(P          R      mAP50  mAP50-95): 100%|██████████| 135/135 [00:06<00:00, 20.34it/s]"
     ]
    },
    {
     "name": "stdout",
     "output_type": "stream",
     "text": [
      "                   all       1073       1573      0.829      0.801      0.851      0.441\n"
     ]
    },
    {
     "name": "stderr",
     "output_type": "stream",
     "text": [
      "\n"
     ]
    },
    {
     "name": "stdout",
     "output_type": "stream",
     "text": [
      "\n",
      "      Epoch    GPU_mem   box_loss   cls_loss   dfl_loss  Instances       Size\n"
     ]
    },
    {
     "name": "stderr",
     "output_type": "stream",
     "text": [
      "     46/100      3.37G      2.282     0.9436      2.423          7        640: 100%|██████████| 6368/6368 [09:32<00:00, 11.11it/s]\n",
      "                 Class     Images  Instances      Box(P          R      mAP50  mAP50-95): 100%|██████████| 135/135 [00:06<00:00, 20.30it/s]"
     ]
    },
    {
     "name": "stdout",
     "output_type": "stream",
     "text": [
      "                   all       1073       1573      0.838      0.796      0.852      0.443\n"
     ]
    },
    {
     "name": "stderr",
     "output_type": "stream",
     "text": [
      "\n"
     ]
    },
    {
     "name": "stdout",
     "output_type": "stream",
     "text": [
      "\n",
      "      Epoch    GPU_mem   box_loss   cls_loss   dfl_loss  Instances       Size\n"
     ]
    },
    {
     "name": "stderr",
     "output_type": "stream",
     "text": [
      "     47/100      3.37G      2.269     0.9322      2.407          4        640: 100%|██████████| 6368/6368 [09:33<00:00, 11.11it/s]\n",
      "                 Class     Images  Instances      Box(P          R      mAP50  mAP50-95): 100%|██████████| 135/135 [00:06<00:00, 20.33it/s]"
     ]
    },
    {
     "name": "stdout",
     "output_type": "stream",
     "text": [
      "                   all       1073       1573       0.84      0.797      0.852      0.444\n"
     ]
    },
    {
     "name": "stderr",
     "output_type": "stream",
     "text": [
      "\n"
     ]
    },
    {
     "name": "stdout",
     "output_type": "stream",
     "text": [
      "\n",
      "      Epoch    GPU_mem   box_loss   cls_loss   dfl_loss  Instances       Size\n"
     ]
    },
    {
     "name": "stderr",
     "output_type": "stream",
     "text": [
      "     48/100      3.37G      2.269     0.9405      2.427          5        640: 100%|██████████| 6368/6368 [09:32<00:00, 11.11it/s]\n",
      "                 Class     Images  Instances      Box(P          R      mAP50  mAP50-95): 100%|██████████| 135/135 [00:06<00:00, 20.29it/s]"
     ]
    },
    {
     "name": "stdout",
     "output_type": "stream",
     "text": [
      "                   all       1073       1573      0.836      0.791      0.849      0.441\n"
     ]
    },
    {
     "name": "stderr",
     "output_type": "stream",
     "text": [
      "\n"
     ]
    },
    {
     "name": "stdout",
     "output_type": "stream",
     "text": [
      "\n",
      "      Epoch    GPU_mem   box_loss   cls_loss   dfl_loss  Instances       Size\n"
     ]
    },
    {
     "name": "stderr",
     "output_type": "stream",
     "text": [
      "     49/100      3.37G      2.263     0.9392      2.405          4        640: 100%|██████████| 6368/6368 [09:33<00:00, 11.11it/s]\n",
      "                 Class     Images  Instances      Box(P          R      mAP50  mAP50-95): 100%|██████████| 135/135 [00:06<00:00, 20.30it/s]"
     ]
    },
    {
     "name": "stdout",
     "output_type": "stream",
     "text": [
      "                   all       1073       1573      0.831      0.793      0.847       0.44\n"
     ]
    },
    {
     "name": "stderr",
     "output_type": "stream",
     "text": [
      "\n"
     ]
    },
    {
     "name": "stdout",
     "output_type": "stream",
     "text": [
      "\n",
      "      Epoch    GPU_mem   box_loss   cls_loss   dfl_loss  Instances       Size\n"
     ]
    },
    {
     "name": "stderr",
     "output_type": "stream",
     "text": [
      "     50/100      3.37G      2.255     0.9379      2.416          5        640: 100%|██████████| 6368/6368 [09:33<00:00, 11.11it/s]\n",
      "                 Class     Images  Instances      Box(P          R      mAP50  mAP50-95): 100%|██████████| 135/135 [00:06<00:00, 20.28it/s]"
     ]
    },
    {
     "name": "stdout",
     "output_type": "stream",
     "text": [
      "                   all       1073       1573      0.828      0.791      0.842      0.438\n"
     ]
    },
    {
     "name": "stderr",
     "output_type": "stream",
     "text": [
      "\n"
     ]
    },
    {
     "name": "stdout",
     "output_type": "stream",
     "text": [
      "\n",
      "      Epoch    GPU_mem   box_loss   cls_loss   dfl_loss  Instances       Size\n"
     ]
    },
    {
     "name": "stderr",
     "output_type": "stream",
     "text": [
      "     51/100      3.37G      2.242     0.9306      2.414          6        640: 100%|██████████| 6368/6368 [09:32<00:00, 11.12it/s]\n",
      "                 Class     Images  Instances      Box(P          R      mAP50  mAP50-95): 100%|██████████| 135/135 [00:06<00:00, 20.27it/s]"
     ]
    },
    {
     "name": "stdout",
     "output_type": "stream",
     "text": [
      "                   all       1073       1573      0.823      0.787      0.841      0.436\n"
     ]
    },
    {
     "name": "stderr",
     "output_type": "stream",
     "text": [
      "\n"
     ]
    },
    {
     "name": "stdout",
     "output_type": "stream",
     "text": [
      "\n",
      "      Epoch    GPU_mem   box_loss   cls_loss   dfl_loss  Instances       Size\n"
     ]
    },
    {
     "name": "stderr",
     "output_type": "stream",
     "text": [
      "     52/100      3.37G      2.257     0.9314      2.405          3        640: 100%|██████████| 6368/6368 [09:32<00:00, 11.13it/s]\n",
      "                 Class     Images  Instances      Box(P          R      mAP50  mAP50-95): 100%|██████████| 135/135 [00:06<00:00, 20.33it/s]"
     ]
    },
    {
     "name": "stdout",
     "output_type": "stream",
     "text": [
      "                   all       1073       1573      0.819      0.786      0.838      0.435\n"
     ]
    },
    {
     "name": "stderr",
     "output_type": "stream",
     "text": [
      "\n"
     ]
    },
    {
     "name": "stdout",
     "output_type": "stream",
     "text": [
      "\n",
      "      Epoch    GPU_mem   box_loss   cls_loss   dfl_loss  Instances       Size\n"
     ]
    },
    {
     "name": "stderr",
     "output_type": "stream",
     "text": [
      "     53/100      3.37G      2.241     0.9171       2.41          2        640: 100%|██████████| 6368/6368 [09:32<00:00, 11.11it/s]\n",
      "                 Class     Images  Instances      Box(P          R      mAP50  mAP50-95): 100%|██████████| 135/135 [00:06<00:00, 20.27it/s]"
     ]
    },
    {
     "name": "stdout",
     "output_type": "stream",
     "text": [
      "                   all       1073       1573      0.817      0.787      0.836      0.432\n"
     ]
    },
    {
     "name": "stderr",
     "output_type": "stream",
     "text": [
      "\n"
     ]
    },
    {
     "name": "stdout",
     "output_type": "stream",
     "text": [
      "\n",
      "      Epoch    GPU_mem   box_loss   cls_loss   dfl_loss  Instances       Size\n"
     ]
    },
    {
     "name": "stderr",
     "output_type": "stream",
     "text": [
      "     54/100      3.37G      2.238     0.9177      2.405          2        640: 100%|██████████| 6368/6368 [09:32<00:00, 11.12it/s]\n",
      "                 Class     Images  Instances      Box(P          R      mAP50  mAP50-95): 100%|██████████| 135/135 [00:06<00:00, 20.25it/s]"
     ]
    },
    {
     "name": "stdout",
     "output_type": "stream",
     "text": [
      "                   all       1073       1573      0.819       0.79      0.837      0.433\n"
     ]
    },
    {
     "name": "stderr",
     "output_type": "stream",
     "text": [
      "\n"
     ]
    },
    {
     "name": "stdout",
     "output_type": "stream",
     "text": [
      "\n",
      "      Epoch    GPU_mem   box_loss   cls_loss   dfl_loss  Instances       Size\n"
     ]
    },
    {
     "name": "stderr",
     "output_type": "stream",
     "text": [
      "     55/100      3.37G      2.238     0.9149      2.385          3        640: 100%|██████████| 6368/6368 [09:33<00:00, 11.11it/s]\n",
      "                 Class     Images  Instances      Box(P          R      mAP50  mAP50-95): 100%|██████████| 135/135 [00:06<00:00, 20.28it/s]"
     ]
    },
    {
     "name": "stdout",
     "output_type": "stream",
     "text": [
      "                   all       1073       1573      0.814      0.795      0.833      0.431\n"
     ]
    },
    {
     "name": "stderr",
     "output_type": "stream",
     "text": [
      "\n"
     ]
    },
    {
     "name": "stdout",
     "output_type": "stream",
     "text": [
      "\n",
      "      Epoch    GPU_mem   box_loss   cls_loss   dfl_loss  Instances       Size\n"
     ]
    },
    {
     "name": "stderr",
     "output_type": "stream",
     "text": [
      "     56/100      3.37G      2.242     0.9133       2.38          4        640: 100%|██████████| 6368/6368 [09:31<00:00, 11.15it/s]\n",
      "                 Class     Images  Instances      Box(P          R      mAP50  mAP50-95): 100%|██████████| 135/135 [00:06<00:00, 20.29it/s]"
     ]
    },
    {
     "name": "stdout",
     "output_type": "stream",
     "text": [
      "                   all       1073       1573      0.819      0.791      0.835      0.431\n"
     ]
    },
    {
     "name": "stderr",
     "output_type": "stream",
     "text": [
      "\n"
     ]
    },
    {
     "name": "stdout",
     "output_type": "stream",
     "text": [
      "\n",
      "      Epoch    GPU_mem   box_loss   cls_loss   dfl_loss  Instances       Size\n"
     ]
    },
    {
     "name": "stderr",
     "output_type": "stream",
     "text": [
      "     57/100      3.37G      2.235     0.9068      2.401          8        640: 100%|██████████| 6368/6368 [09:31<00:00, 11.13it/s]\n",
      "                 Class     Images  Instances      Box(P          R      mAP50  mAP50-95): 100%|██████████| 135/135 [00:06<00:00, 20.27it/s]"
     ]
    },
    {
     "name": "stdout",
     "output_type": "stream",
     "text": [
      "                   all       1073       1573      0.817      0.793      0.834      0.432\n"
     ]
    },
    {
     "name": "stderr",
     "output_type": "stream",
     "text": [
      "\n"
     ]
    },
    {
     "name": "stdout",
     "output_type": "stream",
     "text": [
      "\n",
      "      Epoch    GPU_mem   box_loss   cls_loss   dfl_loss  Instances       Size\n"
     ]
    },
    {
     "name": "stderr",
     "output_type": "stream",
     "text": [
      "     58/100      3.37G       2.22     0.9038      2.371          2        640: 100%|██████████| 6368/6368 [09:32<00:00, 11.13it/s]\n",
      "                 Class     Images  Instances      Box(P          R      mAP50  mAP50-95): 100%|██████████| 135/135 [00:06<00:00, 20.27it/s]"
     ]
    },
    {
     "name": "stdout",
     "output_type": "stream",
     "text": [
      "                   all       1073       1573      0.816      0.791      0.833      0.431\n"
     ]
    },
    {
     "name": "stderr",
     "output_type": "stream",
     "text": [
      "\n"
     ]
    },
    {
     "name": "stdout",
     "output_type": "stream",
     "text": [
      "\n",
      "      Epoch    GPU_mem   box_loss   cls_loss   dfl_loss  Instances       Size\n"
     ]
    },
    {
     "name": "stderr",
     "output_type": "stream",
     "text": [
      "     59/100      3.37G      2.215     0.8978      2.349          5        640: 100%|██████████| 6368/6368 [09:32<00:00, 11.12it/s]\n",
      "                 Class     Images  Instances      Box(P          R      mAP50  mAP50-95): 100%|██████████| 135/135 [00:06<00:00, 20.31it/s]"
     ]
    },
    {
     "name": "stdout",
     "output_type": "stream",
     "text": [
      "                   all       1073       1573      0.813      0.795      0.834      0.432\n"
     ]
    },
    {
     "name": "stderr",
     "output_type": "stream",
     "text": [
      "\n"
     ]
    },
    {
     "name": "stdout",
     "output_type": "stream",
     "text": [
      "\n",
      "      Epoch    GPU_mem   box_loss   cls_loss   dfl_loss  Instances       Size\n"
     ]
    },
    {
     "name": "stderr",
     "output_type": "stream",
     "text": [
      "     60/100      3.37G      2.215     0.8894      2.366          5        640: 100%|██████████| 6368/6368 [09:33<00:00, 11.11it/s]\n",
      "                 Class     Images  Instances      Box(P          R      mAP50  mAP50-95): 100%|██████████| 135/135 [00:06<00:00, 20.29it/s]"
     ]
    },
    {
     "name": "stdout",
     "output_type": "stream",
     "text": [
      "                   all       1073       1573      0.809        0.8      0.833      0.433\n"
     ]
    },
    {
     "name": "stderr",
     "output_type": "stream",
     "text": [
      "\n"
     ]
    },
    {
     "name": "stdout",
     "output_type": "stream",
     "text": [
      "\n",
      "      Epoch    GPU_mem   box_loss   cls_loss   dfl_loss  Instances       Size\n"
     ]
    },
    {
     "name": "stderr",
     "output_type": "stream",
     "text": [
      "     61/100      3.37G      2.201      0.895      2.352          9        640: 100%|██████████| 6368/6368 [09:33<00:00, 11.11it/s]\n",
      "                 Class     Images  Instances      Box(P          R      mAP50  mAP50-95): 100%|██████████| 135/135 [00:06<00:00, 20.28it/s]"
     ]
    },
    {
     "name": "stdout",
     "output_type": "stream",
     "text": [
      "                   all       1073       1573      0.815      0.796       0.83      0.432\n"
     ]
    },
    {
     "name": "stderr",
     "output_type": "stream",
     "text": [
      "\n"
     ]
    },
    {
     "name": "stdout",
     "output_type": "stream",
     "text": [
      "\n",
      "      Epoch    GPU_mem   box_loss   cls_loss   dfl_loss  Instances       Size\n"
     ]
    },
    {
     "name": "stderr",
     "output_type": "stream",
     "text": [
      "     62/100      3.37G      2.203     0.8926      2.349          1        640: 100%|██████████| 6368/6368 [09:33<00:00, 11.10it/s]\n",
      "                 Class     Images  Instances      Box(P          R      mAP50  mAP50-95): 100%|██████████| 135/135 [00:06<00:00, 20.24it/s]"
     ]
    },
    {
     "name": "stdout",
     "output_type": "stream",
     "text": [
      "                   all       1073       1573      0.814      0.796       0.83      0.432\n"
     ]
    },
    {
     "name": "stderr",
     "output_type": "stream",
     "text": [
      "\n"
     ]
    },
    {
     "name": "stdout",
     "output_type": "stream",
     "text": [
      "\n",
      "      Epoch    GPU_mem   box_loss   cls_loss   dfl_loss  Instances       Size\n"
     ]
    },
    {
     "name": "stderr",
     "output_type": "stream",
     "text": [
      "     63/100      3.37G      2.193     0.8914      2.359          1        640: 100%|██████████| 6368/6368 [09:34<00:00, 11.08it/s]\n",
      "                 Class     Images  Instances      Box(P          R      mAP50  mAP50-95): 100%|██████████| 135/135 [00:06<00:00, 20.26it/s]"
     ]
    },
    {
     "name": "stdout",
     "output_type": "stream",
     "text": [
      "                   all       1073       1573      0.817      0.798      0.831      0.434\n"
     ]
    },
    {
     "name": "stderr",
     "output_type": "stream",
     "text": [
      "\n"
     ]
    },
    {
     "name": "stdout",
     "output_type": "stream",
     "text": [
      "\n",
      "      Epoch    GPU_mem   box_loss   cls_loss   dfl_loss  Instances       Size\n"
     ]
    },
    {
     "name": "stderr",
     "output_type": "stream",
     "text": [
      "     64/100      3.37G      2.198     0.8903      2.361          1        640: 100%|██████████| 6368/6368 [09:35<00:00, 11.07it/s]\n",
      "                 Class     Images  Instances      Box(P          R      mAP50  mAP50-95): 100%|██████████| 135/135 [00:06<00:00, 20.24it/s]"
     ]
    },
    {
     "name": "stdout",
     "output_type": "stream",
     "text": [
      "                   all       1073       1573      0.816      0.798      0.835      0.435\n"
     ]
    },
    {
     "name": "stderr",
     "output_type": "stream",
     "text": [
      "\n"
     ]
    },
    {
     "name": "stdout",
     "output_type": "stream",
     "text": [
      "\n",
      "      Epoch    GPU_mem   box_loss   cls_loss   dfl_loss  Instances       Size\n"
     ]
    },
    {
     "name": "stderr",
     "output_type": "stream",
     "text": [
      "     65/100      3.37G      2.177     0.8807      2.336          3        640: 100%|██████████| 6368/6368 [09:35<00:00, 11.07it/s]\n",
      "                 Class     Images  Instances      Box(P          R      mAP50  mAP50-95): 100%|██████████| 135/135 [00:06<00:00, 20.26it/s]"
     ]
    },
    {
     "name": "stdout",
     "output_type": "stream",
     "text": [
      "                   all       1073       1573      0.814      0.799      0.833      0.434\n"
     ]
    },
    {
     "name": "stderr",
     "output_type": "stream",
     "text": [
      "\n"
     ]
    },
    {
     "name": "stdout",
     "output_type": "stream",
     "text": [
      "\n",
      "      Epoch    GPU_mem   box_loss   cls_loss   dfl_loss  Instances       Size\n"
     ]
    },
    {
     "name": "stderr",
     "output_type": "stream",
     "text": [
      "     66/100      3.37G      2.165     0.8746      2.334          3        640: 100%|██████████| 6368/6368 [09:35<00:00, 11.06it/s]\n",
      "                 Class     Images  Instances      Box(P          R      mAP50  mAP50-95): 100%|██████████| 135/135 [00:06<00:00, 20.24it/s]"
     ]
    },
    {
     "name": "stdout",
     "output_type": "stream",
     "text": [
      "                   all       1073       1573      0.811       0.79      0.832      0.433\n"
     ]
    },
    {
     "name": "stderr",
     "output_type": "stream",
     "text": [
      "\n"
     ]
    },
    {
     "name": "stdout",
     "output_type": "stream",
     "text": [
      "\n",
      "      Epoch    GPU_mem   box_loss   cls_loss   dfl_loss  Instances       Size\n"
     ]
    },
    {
     "name": "stderr",
     "output_type": "stream",
     "text": [
      "     67/100      3.37G      2.163     0.8714      2.302          3        640: 100%|██████████| 6368/6368 [09:33<00:00, 11.09it/s]\n",
      "                 Class     Images  Instances      Box(P          R      mAP50  mAP50-95): 100%|██████████| 135/135 [00:06<00:00, 20.23it/s]"
     ]
    },
    {
     "name": "stdout",
     "output_type": "stream",
     "text": [
      "                   all       1073       1573      0.816      0.792       0.83      0.433\n"
     ]
    },
    {
     "name": "stderr",
     "output_type": "stream",
     "text": [
      "\n"
     ]
    },
    {
     "name": "stdout",
     "output_type": "stream",
     "text": [
      "\n",
      "      Epoch    GPU_mem   box_loss   cls_loss   dfl_loss  Instances       Size\n"
     ]
    },
    {
     "name": "stderr",
     "output_type": "stream",
     "text": [
      "     68/100      3.37G      2.156      0.866       2.33          3        640: 100%|██████████| 6368/6368 [09:35<00:00, 11.07it/s]\n",
      "                 Class     Images  Instances      Box(P          R      mAP50  mAP50-95): 100%|██████████| 135/135 [00:06<00:00, 20.23it/s]"
     ]
    },
    {
     "name": "stdout",
     "output_type": "stream",
     "text": [
      "                   all       1073       1573      0.819      0.782       0.83      0.432\n"
     ]
    },
    {
     "name": "stderr",
     "output_type": "stream",
     "text": [
      "\n"
     ]
    },
    {
     "name": "stdout",
     "output_type": "stream",
     "text": [
      "\n",
      "      Epoch    GPU_mem   box_loss   cls_loss   dfl_loss  Instances       Size\n"
     ]
    },
    {
     "name": "stderr",
     "output_type": "stream",
     "text": [
      "     69/100      3.37G       2.15     0.8617      2.321          4        640: 100%|██████████| 6368/6368 [09:34<00:00, 11.09it/s]\n",
      "                 Class     Images  Instances      Box(P          R      mAP50  mAP50-95): 100%|██████████| 135/135 [00:06<00:00, 20.19it/s]"
     ]
    },
    {
     "name": "stdout",
     "output_type": "stream",
     "text": [
      "                   all       1073       1573      0.817      0.788      0.825       0.43\n"
     ]
    },
    {
     "name": "stderr",
     "output_type": "stream",
     "text": [
      "\n"
     ]
    },
    {
     "name": "stdout",
     "output_type": "stream",
     "text": [
      "\n",
      "      Epoch    GPU_mem   box_loss   cls_loss   dfl_loss  Instances       Size\n"
     ]
    },
    {
     "name": "stderr",
     "output_type": "stream",
     "text": [
      "     70/100      3.37G      2.155     0.8676      2.307          5        640: 100%|██████████| 6368/6368 [09:33<00:00, 11.11it/s]\n",
      "                 Class     Images  Instances      Box(P          R      mAP50  mAP50-95): 100%|██████████| 135/135 [00:06<00:00, 20.04it/s]"
     ]
    },
    {
     "name": "stdout",
     "output_type": "stream",
     "text": [
      "                   all       1073       1573      0.817      0.786      0.822      0.429\n"
     ]
    },
    {
     "name": "stderr",
     "output_type": "stream",
     "text": [
      "\n"
     ]
    },
    {
     "name": "stdout",
     "output_type": "stream",
     "text": [
      "\n",
      "      Epoch    GPU_mem   box_loss   cls_loss   dfl_loss  Instances       Size\n"
     ]
    },
    {
     "name": "stderr",
     "output_type": "stream",
     "text": [
      "     71/100      3.37G      2.141     0.8519      2.317          4        640: 100%|██████████| 6368/6368 [09:35<00:00, 11.07it/s]\n",
      "                 Class     Images  Instances      Box(P          R      mAP50  mAP50-95): 100%|██████████| 135/135 [00:06<00:00, 20.09it/s]"
     ]
    },
    {
     "name": "stdout",
     "output_type": "stream",
     "text": [
      "                   all       1073       1573      0.819      0.781       0.82      0.427\n"
     ]
    },
    {
     "name": "stderr",
     "output_type": "stream",
     "text": [
      "\n"
     ]
    },
    {
     "name": "stdout",
     "output_type": "stream",
     "text": [
      "\n",
      "      Epoch    GPU_mem   box_loss   cls_loss   dfl_loss  Instances       Size\n"
     ]
    },
    {
     "name": "stderr",
     "output_type": "stream",
     "text": [
      "     72/100      3.37G      2.133     0.8565      2.323          3        640: 100%|██████████| 6368/6368 [09:33<00:00, 11.10it/s]\n",
      "                 Class     Images  Instances      Box(P          R      mAP50  mAP50-95): 100%|██████████| 135/135 [00:06<00:00, 20.05it/s]"
     ]
    },
    {
     "name": "stdout",
     "output_type": "stream",
     "text": [
      "                   all       1073       1573      0.807      0.789      0.819      0.426\n"
     ]
    },
    {
     "name": "stderr",
     "output_type": "stream",
     "text": [
      "\n"
     ]
    },
    {
     "name": "stdout",
     "output_type": "stream",
     "text": [
      "\n",
      "      Epoch    GPU_mem   box_loss   cls_loss   dfl_loss  Instances       Size\n"
     ]
    },
    {
     "name": "stderr",
     "output_type": "stream",
     "text": [
      "     73/100      3.37G      2.123     0.8471      2.321          2        640: 100%|██████████| 6368/6368 [09:34<00:00, 11.08it/s]\n",
      "                 Class     Images  Instances      Box(P          R      mAP50  mAP50-95): 100%|██████████| 135/135 [00:06<00:00, 20.03it/s]"
     ]
    },
    {
     "name": "stdout",
     "output_type": "stream",
     "text": [
      "                   all       1073       1573      0.802      0.785      0.819      0.427\n"
     ]
    },
    {
     "name": "stderr",
     "output_type": "stream",
     "text": [
      "\n"
     ]
    },
    {
     "name": "stdout",
     "output_type": "stream",
     "text": [
      "\n",
      "      Epoch    GPU_mem   box_loss   cls_loss   dfl_loss  Instances       Size\n"
     ]
    },
    {
     "name": "stderr",
     "output_type": "stream",
     "text": [
      "     74/100      3.37G      2.117     0.8423       2.33          5        640: 100%|██████████| 6368/6368 [09:33<00:00, 11.10it/s]\n",
      "                 Class     Images  Instances      Box(P          R      mAP50  mAP50-95): 100%|██████████| 135/135 [00:06<00:00, 20.08it/s]"
     ]
    },
    {
     "name": "stdout",
     "output_type": "stream",
     "text": [
      "                   all       1073       1573      0.799      0.786      0.816      0.426\n"
     ]
    },
    {
     "name": "stderr",
     "output_type": "stream",
     "text": [
      "\n"
     ]
    },
    {
     "name": "stdout",
     "output_type": "stream",
     "text": [
      "\n",
      "      Epoch    GPU_mem   box_loss   cls_loss   dfl_loss  Instances       Size\n"
     ]
    },
    {
     "name": "stderr",
     "output_type": "stream",
     "text": [
      "     75/100      3.37G      2.103     0.8342      2.319          4        640: 100%|██████████| 6368/6368 [09:33<00:00, 11.10it/s]\n",
      "                 Class     Images  Instances      Box(P          R      mAP50  mAP50-95): 100%|██████████| 135/135 [00:06<00:00, 20.05it/s]"
     ]
    },
    {
     "name": "stdout",
     "output_type": "stream",
     "text": [
      "                   all       1073       1573      0.804      0.779      0.813      0.425\n"
     ]
    },
    {
     "name": "stderr",
     "output_type": "stream",
     "text": [
      "\n"
     ]
    },
    {
     "name": "stdout",
     "output_type": "stream",
     "text": [
      "\n",
      "      Epoch    GPU_mem   box_loss   cls_loss   dfl_loss  Instances       Size\n"
     ]
    },
    {
     "name": "stderr",
     "output_type": "stream",
     "text": [
      "     76/100      3.37G      2.101      0.836      2.308          1        640: 100%|██████████| 6368/6368 [09:33<00:00, 11.10it/s]\n",
      "                 Class     Images  Instances      Box(P          R      mAP50  mAP50-95): 100%|██████████| 135/135 [00:06<00:00, 20.14it/s]"
     ]
    },
    {
     "name": "stdout",
     "output_type": "stream",
     "text": [
      "                   all       1073       1573        0.8      0.784      0.812      0.427\n"
     ]
    },
    {
     "name": "stderr",
     "output_type": "stream",
     "text": [
      "\n"
     ]
    },
    {
     "name": "stdout",
     "output_type": "stream",
     "text": [
      "\n",
      "      Epoch    GPU_mem   box_loss   cls_loss   dfl_loss  Instances       Size\n"
     ]
    },
    {
     "name": "stderr",
     "output_type": "stream",
     "text": [
      "     77/100      3.37G      2.099     0.8303      2.298          3        640: 100%|██████████| 6368/6368 [09:34<00:00, 11.09it/s]\n",
      "                 Class     Images  Instances      Box(P          R      mAP50  mAP50-95): 100%|██████████| 135/135 [00:06<00:00, 20.07it/s]"
     ]
    },
    {
     "name": "stdout",
     "output_type": "stream",
     "text": [
      "                   all       1073       1573      0.814      0.771      0.813      0.427\n"
     ]
    },
    {
     "name": "stderr",
     "output_type": "stream",
     "text": [
      "\n"
     ]
    },
    {
     "name": "stdout",
     "output_type": "stream",
     "text": [
      "\n",
      "      Epoch    GPU_mem   box_loss   cls_loss   dfl_loss  Instances       Size\n"
     ]
    },
    {
     "name": "stderr",
     "output_type": "stream",
     "text": [
      "     78/100      3.37G      2.086     0.8208      2.284          4        640: 100%|██████████| 6368/6368 [09:35<00:00, 11.07it/s]\n",
      "                 Class     Images  Instances      Box(P          R      mAP50  mAP50-95): 100%|██████████| 135/135 [00:06<00:00, 20.05it/s]"
     ]
    },
    {
     "name": "stdout",
     "output_type": "stream",
     "text": [
      "                   all       1073       1573      0.806       0.78      0.814      0.428\n"
     ]
    },
    {
     "name": "stderr",
     "output_type": "stream",
     "text": [
      "\n"
     ]
    },
    {
     "name": "stdout",
     "output_type": "stream",
     "text": [
      "\n",
      "      Epoch    GPU_mem   box_loss   cls_loss   dfl_loss  Instances       Size\n"
     ]
    },
    {
     "name": "stderr",
     "output_type": "stream",
     "text": [
      "     79/100      3.37G      2.076     0.8208      2.274          4        640: 100%|██████████| 6368/6368 [09:35<00:00, 11.07it/s]\n",
      "                 Class     Images  Instances      Box(P          R      mAP50  mAP50-95): 100%|██████████| 135/135 [00:06<00:00, 19.99it/s]"
     ]
    },
    {
     "name": "stdout",
     "output_type": "stream",
     "text": [
      "                   all       1073       1573      0.813      0.771      0.812      0.427\n"
     ]
    },
    {
     "name": "stderr",
     "output_type": "stream",
     "text": [
      "\n"
     ]
    },
    {
     "name": "stdout",
     "output_type": "stream",
     "text": [
      "\n",
      "      Epoch    GPU_mem   box_loss   cls_loss   dfl_loss  Instances       Size\n"
     ]
    },
    {
     "name": "stderr",
     "output_type": "stream",
     "text": [
      "     80/100      3.37G      2.063     0.8072      2.268          2        640: 100%|██████████| 6368/6368 [09:33<00:00, 11.10it/s]\n",
      "                 Class     Images  Instances      Box(P          R      mAP50  mAP50-95): 100%|██████████| 135/135 [00:06<00:00, 20.08it/s]"
     ]
    },
    {
     "name": "stdout",
     "output_type": "stream",
     "text": [
      "                   all       1073       1573      0.808      0.781      0.813      0.427\n"
     ]
    },
    {
     "name": "stderr",
     "output_type": "stream",
     "text": [
      "\n"
     ]
    },
    {
     "name": "stdout",
     "output_type": "stream",
     "text": [
      "\n",
      "      Epoch    GPU_mem   box_loss   cls_loss   dfl_loss  Instances       Size\n"
     ]
    },
    {
     "name": "stderr",
     "output_type": "stream",
     "text": [
      "     81/100      3.37G      2.067     0.8045      2.246          3        640: 100%|██████████| 6368/6368 [09:34<00:00, 11.08it/s]\n",
      "                 Class     Images  Instances      Box(P          R      mAP50  mAP50-95): 100%|██████████| 135/135 [00:06<00:00, 20.05it/s]"
     ]
    },
    {
     "name": "stdout",
     "output_type": "stream",
     "text": [
      "                   all       1073       1573      0.822      0.768      0.812      0.427\n"
     ]
    },
    {
     "name": "stderr",
     "output_type": "stream",
     "text": [
      "\n"
     ]
    },
    {
     "name": "stdout",
     "output_type": "stream",
     "text": [
      "\n",
      "      Epoch    GPU_mem   box_loss   cls_loss   dfl_loss  Instances       Size\n"
     ]
    },
    {
     "name": "stderr",
     "output_type": "stream",
     "text": [
      "     82/100      3.37G      2.052     0.8032      2.238          2        640: 100%|██████████| 6368/6368 [09:35<00:00, 11.07it/s]\n",
      "                 Class     Images  Instances      Box(P          R      mAP50  mAP50-95): 100%|██████████| 135/135 [00:06<00:00, 20.04it/s]"
     ]
    },
    {
     "name": "stdout",
     "output_type": "stream",
     "text": [
      "                   all       1073       1573      0.812      0.781      0.811      0.426\n"
     ]
    },
    {
     "name": "stderr",
     "output_type": "stream",
     "text": [
      "\n"
     ]
    },
    {
     "name": "stdout",
     "output_type": "stream",
     "text": [
      "\n",
      "      Epoch    GPU_mem   box_loss   cls_loss   dfl_loss  Instances       Size\n"
     ]
    },
    {
     "name": "stderr",
     "output_type": "stream",
     "text": [
      "     83/100      3.37G      2.043     0.8027      2.258          4        640: 100%|██████████| 6368/6368 [09:34<00:00, 11.09it/s]\n",
      "                 Class     Images  Instances      Box(P          R      mAP50  mAP50-95): 100%|██████████| 135/135 [00:06<00:00, 20.07it/s]"
     ]
    },
    {
     "name": "stdout",
     "output_type": "stream",
     "text": [
      "                   all       1073       1573      0.809       0.78      0.809      0.425\n"
     ]
    },
    {
     "name": "stderr",
     "output_type": "stream",
     "text": [
      "\n"
     ]
    },
    {
     "name": "stdout",
     "output_type": "stream",
     "text": [
      "\n",
      "      Epoch    GPU_mem   box_loss   cls_loss   dfl_loss  Instances       Size\n"
     ]
    },
    {
     "name": "stderr",
     "output_type": "stream",
     "text": [
      "     84/100      3.37G      2.031     0.7961      2.262          2        640: 100%|██████████| 6368/6368 [09:34<00:00, 11.09it/s]\n",
      "                 Class     Images  Instances      Box(P          R      mAP50  mAP50-95): 100%|██████████| 135/135 [00:06<00:00, 20.03it/s]"
     ]
    },
    {
     "name": "stdout",
     "output_type": "stream",
     "text": [
      "                   all       1073       1573      0.808      0.777      0.812      0.426\n"
     ]
    },
    {
     "name": "stderr",
     "output_type": "stream",
     "text": [
      "\n"
     ]
    },
    {
     "name": "stdout",
     "output_type": "stream",
     "text": [
      "\n",
      "      Epoch    GPU_mem   box_loss   cls_loss   dfl_loss  Instances       Size\n"
     ]
    },
    {
     "name": "stderr",
     "output_type": "stream",
     "text": [
      "     85/100      3.37G      2.018     0.7896      2.259          3        640: 100%|██████████| 6368/6368 [09:33<00:00, 11.10it/s]\n",
      "                 Class     Images  Instances      Box(P          R      mAP50  mAP50-95): 100%|██████████| 135/135 [00:06<00:00, 20.07it/s]"
     ]
    },
    {
     "name": "stdout",
     "output_type": "stream",
     "text": [
      "                   all       1073       1573      0.811      0.779      0.812      0.426\n"
     ]
    },
    {
     "name": "stderr",
     "output_type": "stream",
     "text": [
      "\n"
     ]
    },
    {
     "name": "stdout",
     "output_type": "stream",
     "text": [
      "\n",
      "      Epoch    GPU_mem   box_loss   cls_loss   dfl_loss  Instances       Size\n"
     ]
    },
    {
     "name": "stderr",
     "output_type": "stream",
     "text": [
      "     86/100      3.37G      2.015      0.792      2.258          3        640: 100%|██████████| 6368/6368 [09:34<00:00, 11.08it/s]\n",
      "                 Class     Images  Instances      Box(P          R      mAP50  mAP50-95): 100%|██████████| 135/135 [00:06<00:00, 20.03it/s]"
     ]
    },
    {
     "name": "stdout",
     "output_type": "stream",
     "text": [
      "                   all       1073       1573      0.803      0.793      0.812      0.426\n"
     ]
    },
    {
     "name": "stderr",
     "output_type": "stream",
     "text": [
      "\n"
     ]
    },
    {
     "name": "stdout",
     "output_type": "stream",
     "text": [
      "\n",
      "      Epoch    GPU_mem   box_loss   cls_loss   dfl_loss  Instances       Size\n"
     ]
    },
    {
     "name": "stderr",
     "output_type": "stream",
     "text": [
      "     87/100      3.37G      2.001      0.786      2.249          5        640: 100%|██████████| 6368/6368 [09:33<00:00, 11.11it/s]\n",
      "                 Class     Images  Instances      Box(P          R      mAP50  mAP50-95): 100%|██████████| 135/135 [00:06<00:00, 20.01it/s]"
     ]
    },
    {
     "name": "stdout",
     "output_type": "stream",
     "text": [
      "                   all       1073       1573      0.803      0.796      0.812      0.427\n"
     ]
    },
    {
     "name": "stderr",
     "output_type": "stream",
     "text": [
      "\n"
     ]
    },
    {
     "name": "stdout",
     "output_type": "stream",
     "text": [
      "\n",
      "      Epoch    GPU_mem   box_loss   cls_loss   dfl_loss  Instances       Size\n"
     ]
    },
    {
     "name": "stderr",
     "output_type": "stream",
     "text": [
      "     88/100      3.37G      1.991     0.7827      2.238          2        640: 100%|██████████| 6368/6368 [09:34<00:00, 11.09it/s]\n",
      "                 Class     Images  Instances      Box(P          R      mAP50  mAP50-95): 100%|██████████| 135/135 [00:06<00:00, 20.06it/s]"
     ]
    },
    {
     "name": "stdout",
     "output_type": "stream",
     "text": [
      "                   all       1073       1573      0.813      0.786      0.813      0.427\n"
     ]
    },
    {
     "name": "stderr",
     "output_type": "stream",
     "text": [
      "\n"
     ]
    },
    {
     "name": "stdout",
     "output_type": "stream",
     "text": [
      "\n",
      "      Epoch    GPU_mem   box_loss   cls_loss   dfl_loss  Instances       Size\n"
     ]
    },
    {
     "name": "stderr",
     "output_type": "stream",
     "text": [
      "     89/100      3.37G      1.989     0.7716      2.237          7        640: 100%|██████████| 6368/6368 [09:34<00:00, 11.08it/s]\n",
      "                 Class     Images  Instances      Box(P          R      mAP50  mAP50-95): 100%|██████████| 135/135 [00:06<00:00, 20.01it/s]"
     ]
    },
    {
     "name": "stdout",
     "output_type": "stream",
     "text": [
      "                   all       1073       1573      0.806      0.794      0.811      0.426\n"
     ]
    },
    {
     "name": "stderr",
     "output_type": "stream",
     "text": [
      "\n"
     ]
    },
    {
     "name": "stdout",
     "output_type": "stream",
     "text": [
      "\n",
      "      Epoch    GPU_mem   box_loss   cls_loss   dfl_loss  Instances       Size\n"
     ]
    },
    {
     "name": "stderr",
     "output_type": "stream",
     "text": [
      "     90/100      3.37G      1.973     0.7677      2.224          3        640: 100%|██████████| 6368/6368 [09:47<00:00, 10.84it/s]\n",
      "                 Class     Images  Instances      Box(P          R      mAP50  mAP50-95): 100%|██████████| 135/135 [00:07<00:00, 18.95it/s]"
     ]
    },
    {
     "name": "stdout",
     "output_type": "stream",
     "text": [
      "                   all       1073       1573      0.805      0.793      0.811      0.426\n"
     ]
    },
    {
     "name": "stderr",
     "output_type": "stream",
     "text": [
      "\n"
     ]
    },
    {
     "name": "stdout",
     "output_type": "stream",
     "text": [
      "Closing dataloader mosaic\n",
      "\n",
      "      Epoch    GPU_mem   box_loss   cls_loss   dfl_loss  Instances       Size\n"
     ]
    },
    {
     "name": "stderr",
     "output_type": "stream",
     "text": [
      "     91/100      3.37G       1.92      0.658      2.218          2        640: 100%|██████████| 6368/6368 [09:53<00:00, 10.73it/s]\n",
      "                 Class     Images  Instances      Box(P          R      mAP50  mAP50-95): 100%|██████████| 135/135 [00:07<00:00, 18.93it/s]"
     ]
    },
    {
     "name": "stdout",
     "output_type": "stream",
     "text": [
      "                   all       1073       1573      0.819      0.776       0.81      0.427\n"
     ]
    },
    {
     "name": "stderr",
     "output_type": "stream",
     "text": [
      "\n"
     ]
    },
    {
     "name": "stdout",
     "output_type": "stream",
     "text": [
      "\n",
      "      Epoch    GPU_mem   box_loss   cls_loss   dfl_loss  Instances       Size\n"
     ]
    },
    {
     "name": "stderr",
     "output_type": "stream",
     "text": [
      "     92/100      3.37G      1.896     0.6482      2.199          2        640: 100%|██████████| 6368/6368 [09:53<00:00, 10.73it/s]\n",
      "                 Class     Images  Instances      Box(P          R      mAP50  mAP50-95): 100%|██████████| 135/135 [00:07<00:00, 18.84it/s]"
     ]
    },
    {
     "name": "stdout",
     "output_type": "stream",
     "text": [
      "                   all       1073       1573      0.817      0.774      0.807      0.426\n"
     ]
    },
    {
     "name": "stderr",
     "output_type": "stream",
     "text": [
      "\n"
     ]
    },
    {
     "name": "stdout",
     "output_type": "stream",
     "text": [
      "\n",
      "      Epoch    GPU_mem   box_loss   cls_loss   dfl_loss  Instances       Size\n"
     ]
    },
    {
     "name": "stderr",
     "output_type": "stream",
     "text": [
      "     93/100      3.37G      1.878     0.6395       2.18          2        640: 100%|██████████| 6368/6368 [09:44<00:00, 10.89it/s]\n",
      "                 Class     Images  Instances      Box(P          R      mAP50  mAP50-95): 100%|██████████| 135/135 [00:06<00:00, 19.40it/s]"
     ]
    },
    {
     "name": "stdout",
     "output_type": "stream",
     "text": [
      "                   all       1073       1573      0.804      0.785      0.801      0.424\n"
     ]
    },
    {
     "name": "stderr",
     "output_type": "stream",
     "text": [
      "\n"
     ]
    },
    {
     "name": "stdout",
     "output_type": "stream",
     "text": [
      "\n",
      "      Epoch    GPU_mem   box_loss   cls_loss   dfl_loss  Instances       Size\n"
     ]
    },
    {
     "name": "stderr",
     "output_type": "stream",
     "text": [
      "     94/100      3.37G      1.864      0.637       2.17          2        640: 100%|██████████| 6368/6368 [09:37<00:00, 11.02it/s]\n",
      "                 Class     Images  Instances      Box(P          R      mAP50  mAP50-95): 100%|██████████| 135/135 [00:06<00:00, 19.78it/s]"
     ]
    },
    {
     "name": "stdout",
     "output_type": "stream",
     "text": [
      "                   all       1073       1573      0.801      0.784      0.797      0.421\n"
     ]
    },
    {
     "name": "stderr",
     "output_type": "stream",
     "text": [
      "\n"
     ]
    },
    {
     "name": "stdout",
     "output_type": "stream",
     "text": [
      "\n",
      "      Epoch    GPU_mem   box_loss   cls_loss   dfl_loss  Instances       Size\n"
     ]
    },
    {
     "name": "stderr",
     "output_type": "stream",
     "text": [
      "     95/100      3.37G      1.852     0.6274      2.161          2        640: 100%|██████████| 6368/6368 [09:38<00:00, 11.00it/s]\n",
      "                 Class     Images  Instances      Box(P          R      mAP50  mAP50-95): 100%|██████████| 135/135 [00:06<00:00, 19.74it/s]"
     ]
    },
    {
     "name": "stdout",
     "output_type": "stream",
     "text": [
      "                   all       1073       1573      0.799      0.784      0.797      0.421\n"
     ]
    },
    {
     "name": "stderr",
     "output_type": "stream",
     "text": [
      "\n"
     ]
    },
    {
     "name": "stdout",
     "output_type": "stream",
     "text": [
      "\n",
      "      Epoch    GPU_mem   box_loss   cls_loss   dfl_loss  Instances       Size\n"
     ]
    },
    {
     "name": "stderr",
     "output_type": "stream",
     "text": [
      "     96/100      3.37G      1.842      0.623      2.151          2        640: 100%|██████████| 6368/6368 [09:38<00:00, 11.01it/s]\n",
      "                 Class     Images  Instances      Box(P          R      mAP50  mAP50-95): 100%|██████████| 135/135 [00:06<00:00, 19.83it/s]"
     ]
    },
    {
     "name": "stdout",
     "output_type": "stream",
     "text": [
      "                   all       1073       1573      0.795      0.789      0.796       0.42\n"
     ]
    },
    {
     "name": "stderr",
     "output_type": "stream",
     "text": [
      "\n"
     ]
    },
    {
     "name": "stdout",
     "output_type": "stream",
     "text": [
      "\n",
      "      Epoch    GPU_mem   box_loss   cls_loss   dfl_loss  Instances       Size\n"
     ]
    },
    {
     "name": "stderr",
     "output_type": "stream",
     "text": [
      "     97/100      3.37G      1.825     0.6223      2.152          2        640: 100%|██████████| 6368/6368 [09:37<00:00, 11.02it/s]\n",
      "                 Class     Images  Instances      Box(P          R      mAP50  mAP50-95): 100%|██████████| 135/135 [00:06<00:00, 19.81it/s]"
     ]
    },
    {
     "name": "stdout",
     "output_type": "stream",
     "text": [
      "                   all       1073       1573        0.8      0.786      0.791      0.418\n"
     ]
    },
    {
     "name": "stderr",
     "output_type": "stream",
     "text": [
      "\n"
     ]
    },
    {
     "name": "stdout",
     "output_type": "stream",
     "text": [
      "\n",
      "      Epoch    GPU_mem   box_loss   cls_loss   dfl_loss  Instances       Size\n"
     ]
    },
    {
     "name": "stderr",
     "output_type": "stream",
     "text": [
      "     98/100      3.37G      1.812     0.6173      2.139          2        640: 100%|██████████| 6368/6368 [09:37<00:00, 11.02it/s]\n",
      "                 Class     Images  Instances      Box(P          R      mAP50  mAP50-95): 100%|██████████| 135/135 [00:06<00:00, 19.70it/s]"
     ]
    },
    {
     "name": "stdout",
     "output_type": "stream",
     "text": [
      "                   all       1073       1573      0.795       0.79      0.791      0.418\n"
     ]
    },
    {
     "name": "stderr",
     "output_type": "stream",
     "text": [
      "\n"
     ]
    },
    {
     "name": "stdout",
     "output_type": "stream",
     "text": [
      "\n",
      "      Epoch    GPU_mem   box_loss   cls_loss   dfl_loss  Instances       Size\n"
     ]
    },
    {
     "name": "stderr",
     "output_type": "stream",
     "text": [
      "     99/100      3.37G       1.81     0.6118      2.133          2        640: 100%|██████████| 6368/6368 [09:37<00:00, 11.02it/s]\n",
      "                 Class     Images  Instances      Box(P          R      mAP50  mAP50-95): 100%|██████████| 135/135 [00:06<00:00, 19.71it/s]"
     ]
    },
    {
     "name": "stdout",
     "output_type": "stream",
     "text": [
      "                   all       1073       1573      0.799      0.784      0.789      0.417\n"
     ]
    },
    {
     "name": "stderr",
     "output_type": "stream",
     "text": [
      "\n"
     ]
    },
    {
     "name": "stdout",
     "output_type": "stream",
     "text": [
      "\n",
      "      Epoch    GPU_mem   box_loss   cls_loss   dfl_loss  Instances       Size\n"
     ]
    },
    {
     "name": "stderr",
     "output_type": "stream",
     "text": [
      "    100/100      3.37G      1.794      0.607      2.125          2        640: 100%|██████████| 6368/6368 [09:38<00:00, 11.02it/s]\n",
      "                 Class     Images  Instances      Box(P          R      mAP50  mAP50-95): 100%|██████████| 135/135 [00:06<00:00, 19.82it/s]"
     ]
    },
    {
     "name": "stdout",
     "output_type": "stream",
     "text": [
      "                   all       1073       1573      0.796      0.791      0.788      0.417\n"
     ]
    },
    {
     "name": "stderr",
     "output_type": "stream",
     "text": [
      "\n"
     ]
    },
    {
     "name": "stdout",
     "output_type": "stream",
     "text": [
      "\n",
      "100 epochs completed in 16.158 hours.\n",
      "Optimizer stripped from YOLOv10_Training/custom_model/weights/last.pt, 33.5MB\n",
      "Optimizer stripped from YOLOv10_Training/custom_model/weights/best.pt, 33.5MB\n",
      "\n",
      "Validating YOLOv10_Training/custom_model/weights/best.pt...\n",
      "Ultralytics 8.3.140 🚀 Python-3.12.5 torch-2.7.0+cu126 CUDA:0 (NVIDIA GeForce RTX 4070 Laptop GPU, 7817MiB)\n",
      "YOLOv10m summary (fused): 136 layers, 15,314,905 parameters, 0 gradients, 58.9 GFLOPs\n"
     ]
    },
    {
     "name": "stderr",
     "output_type": "stream",
     "text": [
      "                 Class     Images  Instances      Box(P          R      mAP50  mAP50-95): 100%|██████████| 135/135 [00:05<00:00, 24.91it/s]\n"
     ]
    },
    {
     "name": "stdout",
     "output_type": "stream",
     "text": [
      "                   all       1073       1573      0.841      0.796      0.852      0.443\n",
      "                   cat       1073       1573      0.841      0.796      0.852      0.443\n",
      "Speed: 0.1ms preprocess, 3.7ms inference, 0.0ms loss, 0.1ms postprocess per image\n",
      "Results saved to \u001b[1mYOLOv10_Training/custom_model\u001b[0m\n"
     ]
    },
    {
     "data": {
      "text/plain": [
       "ultralytics.utils.metrics.DetMetrics object with attributes:\n",
       "\n",
       "ap_class_index: array([0])\n",
       "box: ultralytics.utils.metrics.Metric object\n",
       "confusion_matrix: <ultralytics.utils.metrics.ConfusionMatrix object at 0x792b90f2eff0>\n",
       "curves: ['Precision-Recall(B)', 'F1-Confidence(B)', 'Precision-Confidence(B)', 'Recall-Confidence(B)']\n",
       "curves_results: [[array([          0,    0.001001,    0.002002,    0.003003,    0.004004,    0.005005,    0.006006,    0.007007,    0.008008,    0.009009,     0.01001,    0.011011,    0.012012,    0.013013,    0.014014,    0.015015,    0.016016,    0.017017,    0.018018,    0.019019,     0.02002,    0.021021,    0.022022,    0.023023,\n",
       "          0.024024,    0.025025,    0.026026,    0.027027,    0.028028,    0.029029,     0.03003,    0.031031,    0.032032,    0.033033,    0.034034,    0.035035,    0.036036,    0.037037,    0.038038,    0.039039,     0.04004,    0.041041,    0.042042,    0.043043,    0.044044,    0.045045,    0.046046,    0.047047,\n",
       "          0.048048,    0.049049,     0.05005,    0.051051,    0.052052,    0.053053,    0.054054,    0.055055,    0.056056,    0.057057,    0.058058,    0.059059,     0.06006,    0.061061,    0.062062,    0.063063,    0.064064,    0.065065,    0.066066,    0.067067,    0.068068,    0.069069,     0.07007,    0.071071,\n",
       "          0.072072,    0.073073,    0.074074,    0.075075,    0.076076,    0.077077,    0.078078,    0.079079,     0.08008,    0.081081,    0.082082,    0.083083,    0.084084,    0.085085,    0.086086,    0.087087,    0.088088,    0.089089,     0.09009,    0.091091,    0.092092,    0.093093,    0.094094,    0.095095,\n",
       "          0.096096,    0.097097,    0.098098,    0.099099,      0.1001,      0.1011,      0.1021,      0.1031,      0.1041,     0.10511,     0.10611,     0.10711,     0.10811,     0.10911,     0.11011,     0.11111,     0.11211,     0.11311,     0.11411,     0.11512,     0.11612,     0.11712,     0.11812,     0.11912,\n",
       "           0.12012,     0.12112,     0.12212,     0.12312,     0.12412,     0.12513,     0.12613,     0.12713,     0.12813,     0.12913,     0.13013,     0.13113,     0.13213,     0.13313,     0.13413,     0.13514,     0.13614,     0.13714,     0.13814,     0.13914,     0.14014,     0.14114,     0.14214,     0.14314,\n",
       "           0.14414,     0.14515,     0.14615,     0.14715,     0.14815,     0.14915,     0.15015,     0.15115,     0.15215,     0.15315,     0.15415,     0.15516,     0.15616,     0.15716,     0.15816,     0.15916,     0.16016,     0.16116,     0.16216,     0.16316,     0.16416,     0.16517,     0.16617,     0.16717,\n",
       "           0.16817,     0.16917,     0.17017,     0.17117,     0.17217,     0.17317,     0.17417,     0.17518,     0.17618,     0.17718,     0.17818,     0.17918,     0.18018,     0.18118,     0.18218,     0.18318,     0.18418,     0.18519,     0.18619,     0.18719,     0.18819,     0.18919,     0.19019,     0.19119,\n",
       "           0.19219,     0.19319,     0.19419,      0.1952,      0.1962,      0.1972,      0.1982,      0.1992,      0.2002,      0.2012,      0.2022,      0.2032,      0.2042,     0.20521,     0.20621,     0.20721,     0.20821,     0.20921,     0.21021,     0.21121,     0.21221,     0.21321,     0.21421,     0.21522,\n",
       "           0.21622,     0.21722,     0.21822,     0.21922,     0.22022,     0.22122,     0.22222,     0.22322,     0.22422,     0.22523,     0.22623,     0.22723,     0.22823,     0.22923,     0.23023,     0.23123,     0.23223,     0.23323,     0.23423,     0.23524,     0.23624,     0.23724,     0.23824,     0.23924,\n",
       "           0.24024,     0.24124,     0.24224,     0.24324,     0.24424,     0.24525,     0.24625,     0.24725,     0.24825,     0.24925,     0.25025,     0.25125,     0.25225,     0.25325,     0.25425,     0.25526,     0.25626,     0.25726,     0.25826,     0.25926,     0.26026,     0.26126,     0.26226,     0.26326,\n",
       "           0.26426,     0.26527,     0.26627,     0.26727,     0.26827,     0.26927,     0.27027,     0.27127,     0.27227,     0.27327,     0.27427,     0.27528,     0.27628,     0.27728,     0.27828,     0.27928,     0.28028,     0.28128,     0.28228,     0.28328,     0.28428,     0.28529,     0.28629,     0.28729,\n",
       "           0.28829,     0.28929,     0.29029,     0.29129,     0.29229,     0.29329,     0.29429,      0.2953,      0.2963,      0.2973,      0.2983,      0.2993,      0.3003,      0.3013,      0.3023,      0.3033,      0.3043,     0.30531,     0.30631,     0.30731,     0.30831,     0.30931,     0.31031,     0.31131,\n",
       "           0.31231,     0.31331,     0.31431,     0.31532,     0.31632,     0.31732,     0.31832,     0.31932,     0.32032,     0.32132,     0.32232,     0.32332,     0.32432,     0.32533,     0.32633,     0.32733,     0.32833,     0.32933,     0.33033,     0.33133,     0.33233,     0.33333,     0.33433,     0.33534,\n",
       "           0.33634,     0.33734,     0.33834,     0.33934,     0.34034,     0.34134,     0.34234,     0.34334,     0.34434,     0.34535,     0.34635,     0.34735,     0.34835,     0.34935,     0.35035,     0.35135,     0.35235,     0.35335,     0.35435,     0.35536,     0.35636,     0.35736,     0.35836,     0.35936,\n",
       "           0.36036,     0.36136,     0.36236,     0.36336,     0.36436,     0.36537,     0.36637,     0.36737,     0.36837,     0.36937,     0.37037,     0.37137,     0.37237,     0.37337,     0.37437,     0.37538,     0.37638,     0.37738,     0.37838,     0.37938,     0.38038,     0.38138,     0.38238,     0.38338,\n",
       "           0.38438,     0.38539,     0.38639,     0.38739,     0.38839,     0.38939,     0.39039,     0.39139,     0.39239,     0.39339,     0.39439,      0.3954,      0.3964,      0.3974,      0.3984,      0.3994,      0.4004,      0.4014,      0.4024,      0.4034,      0.4044,     0.40541,     0.40641,     0.40741,\n",
       "           0.40841,     0.40941,     0.41041,     0.41141,     0.41241,     0.41341,     0.41441,     0.41542,     0.41642,     0.41742,     0.41842,     0.41942,     0.42042,     0.42142,     0.42242,     0.42342,     0.42442,     0.42543,     0.42643,     0.42743,     0.42843,     0.42943,     0.43043,     0.43143,\n",
       "           0.43243,     0.43343,     0.43443,     0.43544,     0.43644,     0.43744,     0.43844,     0.43944,     0.44044,     0.44144,     0.44244,     0.44344,     0.44444,     0.44545,     0.44645,     0.44745,     0.44845,     0.44945,     0.45045,     0.45145,     0.45245,     0.45345,     0.45445,     0.45546,\n",
       "           0.45646,     0.45746,     0.45846,     0.45946,     0.46046,     0.46146,     0.46246,     0.46346,     0.46446,     0.46547,     0.46647,     0.46747,     0.46847,     0.46947,     0.47047,     0.47147,     0.47247,     0.47347,     0.47447,     0.47548,     0.47648,     0.47748,     0.47848,     0.47948,\n",
       "           0.48048,     0.48148,     0.48248,     0.48348,     0.48448,     0.48549,     0.48649,     0.48749,     0.48849,     0.48949,     0.49049,     0.49149,     0.49249,     0.49349,     0.49449,      0.4955,      0.4965,      0.4975,      0.4985,      0.4995,      0.5005,      0.5015,      0.5025,      0.5035,\n",
       "            0.5045,     0.50551,     0.50651,     0.50751,     0.50851,     0.50951,     0.51051,     0.51151,     0.51251,     0.51351,     0.51451,     0.51552,     0.51652,     0.51752,     0.51852,     0.51952,     0.52052,     0.52152,     0.52252,     0.52352,     0.52452,     0.52553,     0.52653,     0.52753,\n",
       "           0.52853,     0.52953,     0.53053,     0.53153,     0.53253,     0.53353,     0.53453,     0.53554,     0.53654,     0.53754,     0.53854,     0.53954,     0.54054,     0.54154,     0.54254,     0.54354,     0.54454,     0.54555,     0.54655,     0.54755,     0.54855,     0.54955,     0.55055,     0.55155,\n",
       "           0.55255,     0.55355,     0.55455,     0.55556,     0.55656,     0.55756,     0.55856,     0.55956,     0.56056,     0.56156,     0.56256,     0.56356,     0.56456,     0.56557,     0.56657,     0.56757,     0.56857,     0.56957,     0.57057,     0.57157,     0.57257,     0.57357,     0.57457,     0.57558,\n",
       "           0.57658,     0.57758,     0.57858,     0.57958,     0.58058,     0.58158,     0.58258,     0.58358,     0.58458,     0.58559,     0.58659,     0.58759,     0.58859,     0.58959,     0.59059,     0.59159,     0.59259,     0.59359,     0.59459,      0.5956,      0.5966,      0.5976,      0.5986,      0.5996,\n",
       "            0.6006,      0.6016,      0.6026,      0.6036,      0.6046,     0.60561,     0.60661,     0.60761,     0.60861,     0.60961,     0.61061,     0.61161,     0.61261,     0.61361,     0.61461,     0.61562,     0.61662,     0.61762,     0.61862,     0.61962,     0.62062,     0.62162,     0.62262,     0.62362,\n",
       "           0.62462,     0.62563,     0.62663,     0.62763,     0.62863,     0.62963,     0.63063,     0.63163,     0.63263,     0.63363,     0.63463,     0.63564,     0.63664,     0.63764,     0.63864,     0.63964,     0.64064,     0.64164,     0.64264,     0.64364,     0.64464,     0.64565,     0.64665,     0.64765,\n",
       "           0.64865,     0.64965,     0.65065,     0.65165,     0.65265,     0.65365,     0.65465,     0.65566,     0.65666,     0.65766,     0.65866,     0.65966,     0.66066,     0.66166,     0.66266,     0.66366,     0.66466,     0.66567,     0.66667,     0.66767,     0.66867,     0.66967,     0.67067,     0.67167,\n",
       "           0.67267,     0.67367,     0.67467,     0.67568,     0.67668,     0.67768,     0.67868,     0.67968,     0.68068,     0.68168,     0.68268,     0.68368,     0.68468,     0.68569,     0.68669,     0.68769,     0.68869,     0.68969,     0.69069,     0.69169,     0.69269,     0.69369,     0.69469,      0.6957,\n",
       "            0.6967,      0.6977,      0.6987,      0.6997,      0.7007,      0.7017,      0.7027,      0.7037,      0.7047,     0.70571,     0.70671,     0.70771,     0.70871,     0.70971,     0.71071,     0.71171,     0.71271,     0.71371,     0.71471,     0.71572,     0.71672,     0.71772,     0.71872,     0.71972,\n",
       "           0.72072,     0.72172,     0.72272,     0.72372,     0.72472,     0.72573,     0.72673,     0.72773,     0.72873,     0.72973,     0.73073,     0.73173,     0.73273,     0.73373,     0.73473,     0.73574,     0.73674,     0.73774,     0.73874,     0.73974,     0.74074,     0.74174,     0.74274,     0.74374,\n",
       "           0.74474,     0.74575,     0.74675,     0.74775,     0.74875,     0.74975,     0.75075,     0.75175,     0.75275,     0.75375,     0.75475,     0.75576,     0.75676,     0.75776,     0.75876,     0.75976,     0.76076,     0.76176,     0.76276,     0.76376,     0.76476,     0.76577,     0.76677,     0.76777,\n",
       "           0.76877,     0.76977,     0.77077,     0.77177,     0.77277,     0.77377,     0.77477,     0.77578,     0.77678,     0.77778,     0.77878,     0.77978,     0.78078,     0.78178,     0.78278,     0.78378,     0.78478,     0.78579,     0.78679,     0.78779,     0.78879,     0.78979,     0.79079,     0.79179,\n",
       "           0.79279,     0.79379,     0.79479,      0.7958,      0.7968,      0.7978,      0.7988,      0.7998,      0.8008,      0.8018,      0.8028,      0.8038,      0.8048,     0.80581,     0.80681,     0.80781,     0.80881,     0.80981,     0.81081,     0.81181,     0.81281,     0.81381,     0.81481,     0.81582,\n",
       "           0.81682,     0.81782,     0.81882,     0.81982,     0.82082,     0.82182,     0.82282,     0.82382,     0.82482,     0.82583,     0.82683,     0.82783,     0.82883,     0.82983,     0.83083,     0.83183,     0.83283,     0.83383,     0.83483,     0.83584,     0.83684,     0.83784,     0.83884,     0.83984,\n",
       "           0.84084,     0.84184,     0.84284,     0.84384,     0.84484,     0.84585,     0.84685,     0.84785,     0.84885,     0.84985,     0.85085,     0.85185,     0.85285,     0.85385,     0.85485,     0.85586,     0.85686,     0.85786,     0.85886,     0.85986,     0.86086,     0.86186,     0.86286,     0.86386,\n",
       "           0.86486,     0.86587,     0.86687,     0.86787,     0.86887,     0.86987,     0.87087,     0.87187,     0.87287,     0.87387,     0.87487,     0.87588,     0.87688,     0.87788,     0.87888,     0.87988,     0.88088,     0.88188,     0.88288,     0.88388,     0.88488,     0.88589,     0.88689,     0.88789,\n",
       "           0.88889,     0.88989,     0.89089,     0.89189,     0.89289,     0.89389,     0.89489,      0.8959,      0.8969,      0.8979,      0.8989,      0.8999,      0.9009,      0.9019,      0.9029,      0.9039,      0.9049,     0.90591,     0.90691,     0.90791,     0.90891,     0.90991,     0.91091,     0.91191,\n",
       "           0.91291,     0.91391,     0.91491,     0.91592,     0.91692,     0.91792,     0.91892,     0.91992,     0.92092,     0.92192,     0.92292,     0.92392,     0.92492,     0.92593,     0.92693,     0.92793,     0.92893,     0.92993,     0.93093,     0.93193,     0.93293,     0.93393,     0.93493,     0.93594,\n",
       "           0.93694,     0.93794,     0.93894,     0.93994,     0.94094,     0.94194,     0.94294,     0.94394,     0.94494,     0.94595,     0.94695,     0.94795,     0.94895,     0.94995,     0.95095,     0.95195,     0.95295,     0.95395,     0.95495,     0.95596,     0.95696,     0.95796,     0.95896,     0.95996,\n",
       "           0.96096,     0.96196,     0.96296,     0.96396,     0.96496,     0.96597,     0.96697,     0.96797,     0.96897,     0.96997,     0.97097,     0.97197,     0.97297,     0.97397,     0.97497,     0.97598,     0.97698,     0.97798,     0.97898,     0.97998,     0.98098,     0.98198,     0.98298,     0.98398,\n",
       "           0.98498,     0.98599,     0.98699,     0.98799,     0.98899,     0.98999,     0.99099,     0.99199,     0.99299,     0.99399,     0.99499,       0.996,       0.997,       0.998,       0.999,           1]), array([[          1,           1,           1,           1,           1,           1,           1,           1,           1,           1,           1,           1,           1,           1,           1,           1,           1,           1,           1,           1,           1,           1,           1,\n",
       "                  1,           1,           1,           1,           1,           1,           1,           1,           1,           1,           1,           1,           1,           1,           1,           1,           1,           1,           1,           1,           1,           1,           1,\n",
       "                  1,           1,           1,           1,           1,           1,           1,           1,           1,           1,           1,           1,           1,           1,           1,           1,           1,           1,           1,           1,           1,           1,           1,\n",
       "                  1,           1,           1,           1,           1,           1,           1,           1,           1,           1,           1,           1,           1,           1,           1,     0.99291,     0.99291,     0.99291,     0.99291,     0.99291,     0.98857,     0.98857,     0.98857,\n",
       "            0.98857,     0.98857,     0.98857,     0.98857,     0.98857,     0.98857,     0.98857,     0.98857,     0.98857,     0.98857,     0.98857,     0.98857,     0.98857,     0.98857,     0.98857,     0.98857,     0.98857,     0.98857,      0.9881,      0.9881,      0.9881,      0.9881,      0.9881,\n",
       "             0.9881,      0.9881,      0.9881,      0.9881,      0.9881,      0.9881,      0.9881,      0.9881,      0.9881,      0.9881,      0.9881,      0.9881,      0.9881,      0.9881,      0.9881,      0.9881,      0.9881,      0.9881,      0.9881,      0.9881,      0.9881,      0.9881,      0.9881,\n",
       "             0.9881,      0.9881,      0.9881,      0.9881,      0.9881,      0.9881,      0.9881,      0.9881,      0.9881,      0.9881,      0.9881,      0.9881,      0.9881,      0.9881,      0.9881,      0.9881,      0.9881,      0.9881,      0.9881,      0.9881,      0.9881,     0.98769,     0.98769,\n",
       "            0.98769,     0.98769,     0.98769,     0.98769,     0.98769,     0.98769,     0.98769,     0.98769,     0.98769,     0.98769,     0.98769,     0.98769,     0.98769,     0.98769,     0.98769,     0.98769,     0.98769,     0.98769,     0.98769,     0.98769,     0.98769,     0.98769,     0.98769,\n",
       "            0.98769,     0.98769,     0.98769,     0.98769,     0.98769,     0.98769,     0.98769,     0.98769,     0.98769,     0.98769,     0.98769,     0.98769,     0.98769,     0.98769,     0.98769,     0.98769,     0.98769,     0.98769,     0.98769,     0.98769,     0.98645,     0.98645,     0.98645,\n",
       "            0.98645,     0.98645,     0.98645,     0.98645,     0.98645,     0.98645,     0.98645,     0.98645,     0.98645,     0.98645,     0.98645,     0.98645,     0.98645,     0.98645,     0.98645,     0.98645,     0.98645,     0.98645,     0.98645,     0.98645,     0.98645,     0.98645,     0.98645,\n",
       "            0.98645,     0.98645,     0.98465,     0.98465,     0.98465,     0.98465,     0.98465,     0.98465,     0.98465,     0.98465,     0.98465,     0.98465,     0.98465,     0.98465,     0.98465,     0.98305,     0.98305,     0.98305,     0.98305,     0.98305,     0.98305,     0.98305,     0.98305,\n",
       "            0.98305,     0.98305,     0.98305,     0.98305,     0.98305,     0.98086,     0.98086,     0.98086,     0.97941,     0.97941,     0.97941,     0.97941,     0.97941,     0.97941,     0.97941,     0.97941,     0.97941,     0.97941,     0.97941,     0.97783,     0.97783,     0.97783,     0.97783,\n",
       "            0.97783,     0.97783,     0.97783,     0.97783,     0.97783,     0.97744,     0.97744,     0.97744,     0.97744,     0.97744,     0.97744,     0.97744,     0.97744,     0.97744,     0.97744,     0.97744,     0.97744,     0.97744,     0.97744,     0.97744,     0.97744,     0.97744,     0.97744,\n",
       "            0.97744,     0.97744,     0.97744,     0.97744,     0.97744,     0.97744,     0.97744,     0.97744,     0.97744,     0.97744,     0.97744,     0.97744,     0.97744,     0.97744,     0.97744,     0.97744,     0.97744,     0.97744,     0.97744,     0.97744,     0.97744,     0.97744,     0.97744,\n",
       "            0.97744,     0.97744,     0.97744,     0.97744,     0.97744,     0.97744,     0.97744,     0.97744,     0.97744,     0.97575,     0.97575,     0.97464,     0.97464,     0.97464,     0.97464,     0.97464,     0.97464,     0.97464,     0.97464,     0.97464,     0.97382,     0.97382,     0.97382,\n",
       "            0.97382,     0.97382,     0.97382,     0.97382,     0.97382,     0.97382,     0.97382,     0.97382,     0.97382,     0.97382,     0.97246,     0.97246,     0.97246,     0.97246,     0.97188,     0.97188,     0.97188,     0.97188,     0.97188,     0.97188,     0.97188,     0.97188,     0.97188,\n",
       "            0.97188,     0.97188,     0.97188,     0.97188,     0.97188,     0.97188,     0.97188,     0.97188,     0.97188,     0.97188,     0.97188,     0.97188,     0.97188,     0.97188,     0.97188,     0.97188,     0.97188,     0.97188,     0.97188,     0.97188,     0.97188,     0.97188,     0.97188,\n",
       "            0.97188,     0.97188,     0.97188,     0.97188,     0.97188,     0.97139,     0.97139,     0.97139,     0.97139,     0.97139,     0.97139,     0.97139,     0.97139,     0.97139,     0.97139,     0.97139,     0.97139,     0.97139,     0.97139,     0.97139,     0.97139,     0.97139,     0.97139,\n",
       "            0.97139,     0.97139,     0.97139,     0.97139,     0.97139,     0.97139,     0.97139,     0.97139,     0.97139,     0.97139,     0.97139,     0.97139,     0.97139,     0.97139,     0.97139,     0.97139,     0.97139,     0.97139,     0.96893,     0.96893,     0.96893,     0.96893,     0.96806,\n",
       "            0.96806,     0.96806,     0.96806,     0.96806,     0.96806,     0.96806,     0.96676,     0.96612,     0.96612,     0.96612,     0.96612,     0.96612,     0.96612,     0.96612,     0.96612,     0.96612,     0.96578,     0.96578,     0.96578,     0.96578,     0.96578,     0.96578,     0.96578,\n",
       "            0.96578,     0.96578,     0.96578,     0.96578,     0.96578,     0.96578,     0.96578,     0.96578,     0.96578,     0.96578,     0.96578,     0.96578,     0.96578,     0.96578,     0.96578,     0.96578,     0.96578,     0.96578,     0.96578,     0.96578,     0.96578,     0.96578,     0.96578,\n",
       "            0.96578,     0.96513,     0.96513,     0.96513,     0.96513,     0.96513,     0.96513,     0.96513,     0.96513,     0.96513,     0.96406,     0.96406,     0.96206,     0.96206,     0.96206,     0.96206,     0.96206,     0.96102,     0.96102,     0.96014,     0.96014,     0.96014,     0.95938,\n",
       "            0.95938,     0.95938,     0.95938,     0.95938,     0.95828,     0.95765,     0.95765,     0.95765,     0.95765,     0.95765,     0.95765,     0.95439,     0.95439,     0.95392,     0.95392,     0.95392,     0.95392,     0.95392,     0.95392,     0.95392,      0.9533,      0.9533,      0.9533,\n",
       "             0.9533,      0.9533,      0.9533,     0.95276,     0.95276,     0.95276,     0.95276,     0.95276,     0.95276,     0.95174,     0.95011,     0.95011,     0.95011,     0.95011,     0.95011,     0.95011,     0.94945,     0.94945,     0.94945,     0.94945,     0.94941,     0.94941,     0.94941,\n",
       "            0.94941,     0.94941,     0.94941,     0.94941,     0.94941,     0.94941,     0.94941,     0.94941,     0.94941,     0.94874,     0.94874,     0.94874,     0.94874,     0.94874,     0.94874,     0.94874,     0.94874,     0.94874,     0.94874,     0.94874,     0.94874,     0.94874,     0.94874,\n",
       "            0.94874,     0.94874,     0.94786,     0.94628,     0.94628,     0.94628,     0.94628,     0.94608,     0.94608,     0.94608,     0.94608,     0.94608,     0.94608,     0.94608,     0.94608,     0.94608,     0.94518,     0.94343,     0.94343,     0.94171,     0.94171,       0.941,       0.941,\n",
       "            0.94012,      0.9396,      0.9396,      0.9396,      0.9396,     0.93787,     0.93768,     0.93768,     0.93768,     0.93768,     0.93768,     0.93768,     0.93768,     0.93768,     0.93714,     0.93714,     0.93714,     0.93714,     0.93629,      0.9357,      0.9357,      0.9357,     0.93505,\n",
       "            0.93505,     0.93422,     0.93264,     0.93264,     0.93201,     0.93201,     0.93045,     0.93045,     0.93002,     0.93002,     0.93002,     0.93002,     0.93002,     0.93002,     0.93002,     0.93002,     0.93002,     0.93002,     0.93002,     0.93002,     0.93002,     0.92981,     0.92981,\n",
       "            0.92981,     0.92981,     0.92981,     0.92981,     0.92935,     0.92935,     0.92935,     0.92935,      0.9287,      0.9287,     0.92812,     0.92812,     0.92812,     0.92672,     0.92672,     0.92642,     0.92642,     0.92642,     0.92642,     0.92642,      0.9255,      0.9255,      0.9255,\n",
       "             0.9255,      0.9255,      0.9255,      0.9255,     0.92489,     0.92489,     0.92415,     0.92368,     0.92368,     0.92368,     0.92354,     0.92354,     0.92354,     0.92354,     0.92354,     0.92354,     0.92295,     0.92295,     0.92249,     0.92249,     0.92249,      0.9219,      0.9219,\n",
       "            0.92119,     0.91744,     0.91674,     0.91534,     0.91472,     0.91402,     0.91341,     0.91135,     0.91135,     0.91067,     0.90789,     0.90789,     0.90589,     0.90589,     0.90531,     0.90399,     0.90268,     0.90202,     0.89992,     0.89936,     0.89904,     0.89904,     0.89904,\n",
       "             0.8984,     0.89713,     0.89666,     0.89666,     0.89532,     0.89486,     0.89353,       0.893,     0.89238,     0.89185,     0.89062,     0.89062,     0.88906,     0.88906,     0.88906,     0.88846,     0.88666,     0.88666,     0.88547,     0.88506,     0.88506,     0.88397,     0.88397,\n",
       "            0.88338,     0.88222,     0.88191,     0.88191,     0.88133,     0.88075,     0.87895,     0.87865,     0.87865,     0.87752,     0.87752,     0.87685,     0.87685,     0.87685,     0.87685,     0.87518,     0.87518,     0.87463,     0.87353,     0.87106,      0.8708,      0.8708,     0.87026,\n",
       "            0.86938,     0.86938,     0.86884,     0.86831,     0.86619,     0.86619,     0.86576,     0.86286,     0.86286,     0.86244,     0.86028,     0.86028,     0.86027,     0.86027,     0.86027,     0.86027,     0.86006,     0.86006,     0.85965,     0.85924,     0.85924,     0.85764,     0.85476,\n",
       "            0.85201,     0.85162,     0.85144,     0.85144,     0.85144,     0.84942,     0.84942,     0.84558,     0.84511,     0.84303,     0.84267,     0.84242,     0.84242,     0.84196,     0.84105,     0.83344,     0.83256,     0.83157,     0.83113,     0.82994,     0.82994,     0.82973,     0.82973,\n",
       "            0.82952,     0.82952,     0.82855,     0.82395,       0.823,     0.82005,     0.81859,     0.81529,     0.81437,     0.81294,     0.81266,     0.81238,     0.81148,     0.80815,     0.80625,     0.80211,     0.80211,     0.79901,     0.79901,     0.79437,     0.78979,     0.78801,     0.78731,\n",
       "            0.78696,     0.78675,      0.7864,     0.78477,     0.78409,     0.78049,     0.78034,     0.78034,     0.78034,     0.78034,     0.77238,     0.77125,     0.77125,     0.77125,     0.77093,      0.7663,     0.76275,     0.76275,     0.75911,     0.75752,     0.75438,     0.75169,     0.74972,\n",
       "            0.74916,     0.74888,     0.74542,     0.73901,     0.73687,     0.73581,     0.72776,     0.72323,     0.72276,     0.71998,     0.71975,     0.70803,     0.70634,     0.69938,     0.69364,     0.69098,     0.68678,     0.68659,      0.6845,     0.67421,     0.66829,     0.66796,     0.66042,\n",
       "            0.65014,     0.64183,       0.631,     0.62067,     0.61604,     0.60852,     0.60603,     0.60191,      0.5925,     0.58916,     0.58365,     0.57963,     0.56864,     0.56696,      0.5605,     0.55955,     0.55503,     0.54317,     0.53361,     0.53195,     0.52655,     0.51876,     0.51647,\n",
       "             0.4811,       0.479,     0.47581,        0.47,     0.46418,     0.46226,     0.45975,     0.45379,     0.45195,     0.43427,     0.42291,     0.41837,     0.40056,     0.39401,       0.387,     0.36668,     0.36267,     0.32338,     0.30725,     0.28507,     0.27925,      0.2749,     0.26001,\n",
       "            0.25592,     0.24366,     0.22158,     0.21439,     0.19964,     0.18392,      0.1725,     0.17128,     0.16648,     0.15738,     0.14302,     0.13983,     0.12164,     0.11498,     0.11324,      0.1115,     0.10976,     0.10801,     0.10627,     0.10453,     0.10279,     0.10105,    0.099304,\n",
       "           0.097561,    0.095819,    0.094077,    0.092335,    0.090593,    0.088851,    0.087108,    0.085366,    0.083624,    0.081882,     0.08014,    0.078398,    0.076655,    0.074913,    0.073171,    0.071429,    0.069687,    0.067945,    0.066202,     0.06446,    0.062718,    0.060976,    0.059234,\n",
       "           0.057492,    0.055749,    0.054007,    0.052265,    0.050523,    0.048781,    0.047039,    0.045296,    0.043554,    0.041812,     0.04007,    0.038328,    0.036586,    0.034843,    0.033101,    0.031359,    0.029617,    0.027875,    0.026133,     0.02439,    0.022648,    0.020906,    0.019164,\n",
       "           0.017422,     0.01568,    0.013937,    0.012195,    0.010453,   0.0087108,   0.0069687,   0.0052265,   0.0034843,   0.0017422,           0]]), 'Recall', 'Precision'], [array([          0,    0.001001,    0.002002,    0.003003,    0.004004,    0.005005,    0.006006,    0.007007,    0.008008,    0.009009,     0.01001,    0.011011,    0.012012,    0.013013,    0.014014,    0.015015,    0.016016,    0.017017,    0.018018,    0.019019,     0.02002,    0.021021,    0.022022,    0.023023,\n",
       "          0.024024,    0.025025,    0.026026,    0.027027,    0.028028,    0.029029,     0.03003,    0.031031,    0.032032,    0.033033,    0.034034,    0.035035,    0.036036,    0.037037,    0.038038,    0.039039,     0.04004,    0.041041,    0.042042,    0.043043,    0.044044,    0.045045,    0.046046,    0.047047,\n",
       "          0.048048,    0.049049,     0.05005,    0.051051,    0.052052,    0.053053,    0.054054,    0.055055,    0.056056,    0.057057,    0.058058,    0.059059,     0.06006,    0.061061,    0.062062,    0.063063,    0.064064,    0.065065,    0.066066,    0.067067,    0.068068,    0.069069,     0.07007,    0.071071,\n",
       "          0.072072,    0.073073,    0.074074,    0.075075,    0.076076,    0.077077,    0.078078,    0.079079,     0.08008,    0.081081,    0.082082,    0.083083,    0.084084,    0.085085,    0.086086,    0.087087,    0.088088,    0.089089,     0.09009,    0.091091,    0.092092,    0.093093,    0.094094,    0.095095,\n",
       "          0.096096,    0.097097,    0.098098,    0.099099,      0.1001,      0.1011,      0.1021,      0.1031,      0.1041,     0.10511,     0.10611,     0.10711,     0.10811,     0.10911,     0.11011,     0.11111,     0.11211,     0.11311,     0.11411,     0.11512,     0.11612,     0.11712,     0.11812,     0.11912,\n",
       "           0.12012,     0.12112,     0.12212,     0.12312,     0.12412,     0.12513,     0.12613,     0.12713,     0.12813,     0.12913,     0.13013,     0.13113,     0.13213,     0.13313,     0.13413,     0.13514,     0.13614,     0.13714,     0.13814,     0.13914,     0.14014,     0.14114,     0.14214,     0.14314,\n",
       "           0.14414,     0.14515,     0.14615,     0.14715,     0.14815,     0.14915,     0.15015,     0.15115,     0.15215,     0.15315,     0.15415,     0.15516,     0.15616,     0.15716,     0.15816,     0.15916,     0.16016,     0.16116,     0.16216,     0.16316,     0.16416,     0.16517,     0.16617,     0.16717,\n",
       "           0.16817,     0.16917,     0.17017,     0.17117,     0.17217,     0.17317,     0.17417,     0.17518,     0.17618,     0.17718,     0.17818,     0.17918,     0.18018,     0.18118,     0.18218,     0.18318,     0.18418,     0.18519,     0.18619,     0.18719,     0.18819,     0.18919,     0.19019,     0.19119,\n",
       "           0.19219,     0.19319,     0.19419,      0.1952,      0.1962,      0.1972,      0.1982,      0.1992,      0.2002,      0.2012,      0.2022,      0.2032,      0.2042,     0.20521,     0.20621,     0.20721,     0.20821,     0.20921,     0.21021,     0.21121,     0.21221,     0.21321,     0.21421,     0.21522,\n",
       "           0.21622,     0.21722,     0.21822,     0.21922,     0.22022,     0.22122,     0.22222,     0.22322,     0.22422,     0.22523,     0.22623,     0.22723,     0.22823,     0.22923,     0.23023,     0.23123,     0.23223,     0.23323,     0.23423,     0.23524,     0.23624,     0.23724,     0.23824,     0.23924,\n",
       "           0.24024,     0.24124,     0.24224,     0.24324,     0.24424,     0.24525,     0.24625,     0.24725,     0.24825,     0.24925,     0.25025,     0.25125,     0.25225,     0.25325,     0.25425,     0.25526,     0.25626,     0.25726,     0.25826,     0.25926,     0.26026,     0.26126,     0.26226,     0.26326,\n",
       "           0.26426,     0.26527,     0.26627,     0.26727,     0.26827,     0.26927,     0.27027,     0.27127,     0.27227,     0.27327,     0.27427,     0.27528,     0.27628,     0.27728,     0.27828,     0.27928,     0.28028,     0.28128,     0.28228,     0.28328,     0.28428,     0.28529,     0.28629,     0.28729,\n",
       "           0.28829,     0.28929,     0.29029,     0.29129,     0.29229,     0.29329,     0.29429,      0.2953,      0.2963,      0.2973,      0.2983,      0.2993,      0.3003,      0.3013,      0.3023,      0.3033,      0.3043,     0.30531,     0.30631,     0.30731,     0.30831,     0.30931,     0.31031,     0.31131,\n",
       "           0.31231,     0.31331,     0.31431,     0.31532,     0.31632,     0.31732,     0.31832,     0.31932,     0.32032,     0.32132,     0.32232,     0.32332,     0.32432,     0.32533,     0.32633,     0.32733,     0.32833,     0.32933,     0.33033,     0.33133,     0.33233,     0.33333,     0.33433,     0.33534,\n",
       "           0.33634,     0.33734,     0.33834,     0.33934,     0.34034,     0.34134,     0.34234,     0.34334,     0.34434,     0.34535,     0.34635,     0.34735,     0.34835,     0.34935,     0.35035,     0.35135,     0.35235,     0.35335,     0.35435,     0.35536,     0.35636,     0.35736,     0.35836,     0.35936,\n",
       "           0.36036,     0.36136,     0.36236,     0.36336,     0.36436,     0.36537,     0.36637,     0.36737,     0.36837,     0.36937,     0.37037,     0.37137,     0.37237,     0.37337,     0.37437,     0.37538,     0.37638,     0.37738,     0.37838,     0.37938,     0.38038,     0.38138,     0.38238,     0.38338,\n",
       "           0.38438,     0.38539,     0.38639,     0.38739,     0.38839,     0.38939,     0.39039,     0.39139,     0.39239,     0.39339,     0.39439,      0.3954,      0.3964,      0.3974,      0.3984,      0.3994,      0.4004,      0.4014,      0.4024,      0.4034,      0.4044,     0.40541,     0.40641,     0.40741,\n",
       "           0.40841,     0.40941,     0.41041,     0.41141,     0.41241,     0.41341,     0.41441,     0.41542,     0.41642,     0.41742,     0.41842,     0.41942,     0.42042,     0.42142,     0.42242,     0.42342,     0.42442,     0.42543,     0.42643,     0.42743,     0.42843,     0.42943,     0.43043,     0.43143,\n",
       "           0.43243,     0.43343,     0.43443,     0.43544,     0.43644,     0.43744,     0.43844,     0.43944,     0.44044,     0.44144,     0.44244,     0.44344,     0.44444,     0.44545,     0.44645,     0.44745,     0.44845,     0.44945,     0.45045,     0.45145,     0.45245,     0.45345,     0.45445,     0.45546,\n",
       "           0.45646,     0.45746,     0.45846,     0.45946,     0.46046,     0.46146,     0.46246,     0.46346,     0.46446,     0.46547,     0.46647,     0.46747,     0.46847,     0.46947,     0.47047,     0.47147,     0.47247,     0.47347,     0.47447,     0.47548,     0.47648,     0.47748,     0.47848,     0.47948,\n",
       "           0.48048,     0.48148,     0.48248,     0.48348,     0.48448,     0.48549,     0.48649,     0.48749,     0.48849,     0.48949,     0.49049,     0.49149,     0.49249,     0.49349,     0.49449,      0.4955,      0.4965,      0.4975,      0.4985,      0.4995,      0.5005,      0.5015,      0.5025,      0.5035,\n",
       "            0.5045,     0.50551,     0.50651,     0.50751,     0.50851,     0.50951,     0.51051,     0.51151,     0.51251,     0.51351,     0.51451,     0.51552,     0.51652,     0.51752,     0.51852,     0.51952,     0.52052,     0.52152,     0.52252,     0.52352,     0.52452,     0.52553,     0.52653,     0.52753,\n",
       "           0.52853,     0.52953,     0.53053,     0.53153,     0.53253,     0.53353,     0.53453,     0.53554,     0.53654,     0.53754,     0.53854,     0.53954,     0.54054,     0.54154,     0.54254,     0.54354,     0.54454,     0.54555,     0.54655,     0.54755,     0.54855,     0.54955,     0.55055,     0.55155,\n",
       "           0.55255,     0.55355,     0.55455,     0.55556,     0.55656,     0.55756,     0.55856,     0.55956,     0.56056,     0.56156,     0.56256,     0.56356,     0.56456,     0.56557,     0.56657,     0.56757,     0.56857,     0.56957,     0.57057,     0.57157,     0.57257,     0.57357,     0.57457,     0.57558,\n",
       "           0.57658,     0.57758,     0.57858,     0.57958,     0.58058,     0.58158,     0.58258,     0.58358,     0.58458,     0.58559,     0.58659,     0.58759,     0.58859,     0.58959,     0.59059,     0.59159,     0.59259,     0.59359,     0.59459,      0.5956,      0.5966,      0.5976,      0.5986,      0.5996,\n",
       "            0.6006,      0.6016,      0.6026,      0.6036,      0.6046,     0.60561,     0.60661,     0.60761,     0.60861,     0.60961,     0.61061,     0.61161,     0.61261,     0.61361,     0.61461,     0.61562,     0.61662,     0.61762,     0.61862,     0.61962,     0.62062,     0.62162,     0.62262,     0.62362,\n",
       "           0.62462,     0.62563,     0.62663,     0.62763,     0.62863,     0.62963,     0.63063,     0.63163,     0.63263,     0.63363,     0.63463,     0.63564,     0.63664,     0.63764,     0.63864,     0.63964,     0.64064,     0.64164,     0.64264,     0.64364,     0.64464,     0.64565,     0.64665,     0.64765,\n",
       "           0.64865,     0.64965,     0.65065,     0.65165,     0.65265,     0.65365,     0.65465,     0.65566,     0.65666,     0.65766,     0.65866,     0.65966,     0.66066,     0.66166,     0.66266,     0.66366,     0.66466,     0.66567,     0.66667,     0.66767,     0.66867,     0.66967,     0.67067,     0.67167,\n",
       "           0.67267,     0.67367,     0.67467,     0.67568,     0.67668,     0.67768,     0.67868,     0.67968,     0.68068,     0.68168,     0.68268,     0.68368,     0.68468,     0.68569,     0.68669,     0.68769,     0.68869,     0.68969,     0.69069,     0.69169,     0.69269,     0.69369,     0.69469,      0.6957,\n",
       "            0.6967,      0.6977,      0.6987,      0.6997,      0.7007,      0.7017,      0.7027,      0.7037,      0.7047,     0.70571,     0.70671,     0.70771,     0.70871,     0.70971,     0.71071,     0.71171,     0.71271,     0.71371,     0.71471,     0.71572,     0.71672,     0.71772,     0.71872,     0.71972,\n",
       "           0.72072,     0.72172,     0.72272,     0.72372,     0.72472,     0.72573,     0.72673,     0.72773,     0.72873,     0.72973,     0.73073,     0.73173,     0.73273,     0.73373,     0.73473,     0.73574,     0.73674,     0.73774,     0.73874,     0.73974,     0.74074,     0.74174,     0.74274,     0.74374,\n",
       "           0.74474,     0.74575,     0.74675,     0.74775,     0.74875,     0.74975,     0.75075,     0.75175,     0.75275,     0.75375,     0.75475,     0.75576,     0.75676,     0.75776,     0.75876,     0.75976,     0.76076,     0.76176,     0.76276,     0.76376,     0.76476,     0.76577,     0.76677,     0.76777,\n",
       "           0.76877,     0.76977,     0.77077,     0.77177,     0.77277,     0.77377,     0.77477,     0.77578,     0.77678,     0.77778,     0.77878,     0.77978,     0.78078,     0.78178,     0.78278,     0.78378,     0.78478,     0.78579,     0.78679,     0.78779,     0.78879,     0.78979,     0.79079,     0.79179,\n",
       "           0.79279,     0.79379,     0.79479,      0.7958,      0.7968,      0.7978,      0.7988,      0.7998,      0.8008,      0.8018,      0.8028,      0.8038,      0.8048,     0.80581,     0.80681,     0.80781,     0.80881,     0.80981,     0.81081,     0.81181,     0.81281,     0.81381,     0.81481,     0.81582,\n",
       "           0.81682,     0.81782,     0.81882,     0.81982,     0.82082,     0.82182,     0.82282,     0.82382,     0.82482,     0.82583,     0.82683,     0.82783,     0.82883,     0.82983,     0.83083,     0.83183,     0.83283,     0.83383,     0.83483,     0.83584,     0.83684,     0.83784,     0.83884,     0.83984,\n",
       "           0.84084,     0.84184,     0.84284,     0.84384,     0.84484,     0.84585,     0.84685,     0.84785,     0.84885,     0.84985,     0.85085,     0.85185,     0.85285,     0.85385,     0.85485,     0.85586,     0.85686,     0.85786,     0.85886,     0.85986,     0.86086,     0.86186,     0.86286,     0.86386,\n",
       "           0.86486,     0.86587,     0.86687,     0.86787,     0.86887,     0.86987,     0.87087,     0.87187,     0.87287,     0.87387,     0.87487,     0.87588,     0.87688,     0.87788,     0.87888,     0.87988,     0.88088,     0.88188,     0.88288,     0.88388,     0.88488,     0.88589,     0.88689,     0.88789,\n",
       "           0.88889,     0.88989,     0.89089,     0.89189,     0.89289,     0.89389,     0.89489,      0.8959,      0.8969,      0.8979,      0.8989,      0.8999,      0.9009,      0.9019,      0.9029,      0.9039,      0.9049,     0.90591,     0.90691,     0.90791,     0.90891,     0.90991,     0.91091,     0.91191,\n",
       "           0.91291,     0.91391,     0.91491,     0.91592,     0.91692,     0.91792,     0.91892,     0.91992,     0.92092,     0.92192,     0.92292,     0.92392,     0.92492,     0.92593,     0.92693,     0.92793,     0.92893,     0.92993,     0.93093,     0.93193,     0.93293,     0.93393,     0.93493,     0.93594,\n",
       "           0.93694,     0.93794,     0.93894,     0.93994,     0.94094,     0.94194,     0.94294,     0.94394,     0.94494,     0.94595,     0.94695,     0.94795,     0.94895,     0.94995,     0.95095,     0.95195,     0.95295,     0.95395,     0.95495,     0.95596,     0.95696,     0.95796,     0.95896,     0.95996,\n",
       "           0.96096,     0.96196,     0.96296,     0.96396,     0.96496,     0.96597,     0.96697,     0.96797,     0.96897,     0.96997,     0.97097,     0.97197,     0.97297,     0.97397,     0.97497,     0.97598,     0.97698,     0.97798,     0.97898,     0.97998,     0.98098,     0.98198,     0.98298,     0.98398,\n",
       "           0.98498,     0.98599,     0.98699,     0.98799,     0.98899,     0.98999,     0.99099,     0.99199,     0.99299,     0.99399,     0.99499,       0.996,       0.997,       0.998,       0.999,           1]), array([[    0.20663,     0.20692,     0.28199,     0.33008,     0.36489,     0.39222,     0.41445,     0.43437,     0.45138,     0.46585,     0.47943,     0.49117,      0.5017,     0.51164,     0.52085,     0.53058,     0.53684,     0.54458,     0.55182,     0.55856,     0.56461,      0.5701,     0.57479,\n",
       "            0.58131,     0.58573,     0.59044,     0.59492,     0.59928,     0.60343,     0.60747,      0.6113,     0.61366,     0.61762,     0.62086,     0.62367,     0.62651,     0.63024,     0.63273,     0.63749,     0.64105,     0.64289,     0.64675,     0.65019,     0.65402,     0.65652,     0.65859,\n",
       "            0.65996,     0.66177,     0.66433,     0.66659,     0.66794,     0.66931,     0.67098,     0.67294,     0.67523,     0.67797,     0.68077,     0.68256,       0.684,     0.68582,     0.68709,     0.68806,     0.68882,     0.69179,     0.69316,      0.6947,     0.69655,     0.69717,     0.69998,\n",
       "            0.70058,     0.70232,     0.70431,     0.70555,     0.70692,     0.70835,     0.70874,     0.70922,     0.71087,      0.7118,     0.71293,     0.71528,     0.71617,     0.71813,     0.71933,     0.72003,     0.72125,     0.72247,     0.72441,     0.72611,     0.72702,      0.7292,     0.73056,\n",
       "            0.73174,     0.73373,     0.73474,     0.73544,     0.73615,     0.73732,     0.73908,     0.73966,     0.74063,     0.74163,     0.74281,     0.74455,     0.74479,     0.74547,     0.74629,      0.7467,     0.74723,     0.74855,     0.74973,     0.75018,      0.7504,     0.75155,     0.75227,\n",
       "            0.75245,     0.75399,      0.7547,     0.75571,     0.75617,     0.75692,     0.75648,     0.75673,     0.75756,     0.75826,     0.75914,     0.75972,     0.76012,     0.76101,     0.76155,     0.76231,     0.76263,     0.76376,     0.76489,     0.76536,     0.76628,     0.76648,     0.76688,\n",
       "            0.76759,     0.76886,     0.76892,     0.76935,     0.76981,     0.77025,     0.77035,     0.77084,     0.77122,     0.77244,     0.77342,     0.77431,     0.77499,     0.77566,      0.7762,     0.77638,     0.77684,     0.77704,     0.77712,     0.77757,     0.77789,     0.77766,     0.77827,\n",
       "            0.77854,     0.77922,     0.78007,     0.78051,     0.78146,     0.78163,     0.78177,     0.78285,     0.78372,     0.78423,      0.7845,     0.78472,     0.78474,     0.78533,     0.78534,     0.78509,     0.78523,     0.78549,     0.78703,     0.78755,     0.78839,     0.78949,     0.79012,\n",
       "            0.78993,     0.79102,     0.79125,     0.79175,     0.79159,      0.7921,     0.79273,     0.79279,     0.79303,     0.79324,     0.79337,     0.79373,      0.7941,     0.79422,     0.79459,     0.79521,      0.7959,     0.79634,     0.79672,     0.79694,     0.79745,     0.79748,     0.79733,\n",
       "            0.79697,     0.79717,     0.79775,     0.79765,     0.79848,     0.79874,      0.7989,     0.79956,     0.79974,     0.80018,     0.80081,     0.80065,     0.80047,     0.80117,     0.80153,     0.80183,     0.80188,     0.80208,     0.80234,      0.8032,     0.80319,      0.8042,     0.80394,\n",
       "            0.80437,     0.80497,     0.80521,     0.80513,     0.80458,      0.8042,     0.80403,     0.80436,     0.80432,     0.80449,     0.80492,     0.80534,     0.80547,     0.80543,      0.8056,     0.80601,      0.8065,     0.80733,     0.80797,     0.80707,      0.8068,     0.80637,     0.80621,\n",
       "            0.80641,     0.80763,     0.80797,      0.8075,     0.80733,     0.80776,     0.80779,     0.80779,     0.80775,     0.80785,     0.80739,     0.80726,     0.80662,     0.80689,     0.80706,     0.80675,     0.80759,      0.8075,     0.80792,     0.80804,     0.80848,     0.80842,     0.80877,\n",
       "            0.80936,     0.80885,     0.80897,     0.81008,     0.81068,     0.81096,     0.81124,     0.81064,     0.81135,     0.81145,     0.81148,     0.81114,     0.81103,     0.81092,     0.81081,     0.81142,     0.81253,     0.81307,     0.81371,     0.81344,     0.81359,     0.81414,     0.81441,\n",
       "            0.81438,     0.81469,     0.81455,     0.81482,     0.81422,     0.81437,     0.81427,     0.81384,     0.81363,     0.81399,     0.81414,     0.81429,     0.81417,     0.81433,     0.81444,     0.81437,     0.81389,     0.81406,     0.81465,     0.81482,      0.8151,     0.81516,     0.81547,\n",
       "            0.81531,     0.81534,     0.81551,     0.81579,     0.81606,     0.81621,     0.81645,     0.81628,     0.81696,     0.81716,     0.81693,     0.81699,     0.81731,     0.81748,     0.81761,     0.81791,     0.81819,     0.81773,     0.81723,     0.81677,     0.81635,     0.81612,     0.81542,\n",
       "            0.81585,     0.81564,     0.81536,     0.81552,     0.81575,     0.81566,     0.81543,     0.81521,     0.81514,     0.81494,     0.81601,     0.81632,     0.81678,     0.81693,      0.8172,     0.81827,     0.81811,     0.81797,     0.81782,     0.81808,     0.81815,     0.81822,      0.8183,\n",
       "            0.81817,      0.8178,     0.81731,      0.8171,     0.81686,     0.81671,     0.81657,      0.8166,     0.81674,     0.81643,     0.81652,     0.81666,     0.81693,     0.81689,     0.81696,     0.81644,     0.81628,     0.81712,      0.8177,     0.81798,     0.81779,      0.8174,     0.81782,\n",
       "            0.81744,     0.81757,     0.81794,     0.81674,      0.8166,      0.8164,     0.81589,     0.81676,     0.81656,     0.81734,     0.81739,     0.81699,     0.81741,     0.81717,     0.81686,     0.81667,     0.81583,     0.81517,      0.8149,     0.81456,     0.81442,     0.81429,     0.81412,\n",
       "            0.81389,     0.81315,     0.81318,     0.81221,     0.81255,     0.81268,     0.81275,     0.81282,     0.81289,     0.81315,     0.81295,     0.81272,     0.81263,     0.81249,     0.81235,     0.81215,     0.81247,     0.81271,     0.81285,     0.81299,     0.81313,     0.81256,     0.81242,\n",
       "            0.81222,     0.81202,     0.81189,     0.81175,     0.81161,     0.81039,     0.81082,      0.8107,     0.81038,     0.80956,     0.80914,      0.8092,     0.80899,     0.80928,     0.80942,     0.80957,     0.80944,      0.8096,     0.80955,     0.80872,      0.8086,     0.80912,     0.80871,\n",
       "            0.80829,     0.80787,     0.80704,     0.80689,     0.80634,     0.80664,     0.80606,     0.80578,     0.80557,      0.8053,     0.80506,     0.80466,      0.8048,     0.80534,     0.80509,     0.80523,     0.80474,      0.8039,     0.80348,     0.80319,     0.80332,     0.80248,     0.80238,\n",
       "            0.80177,     0.80162,     0.80123,     0.80109,     0.80095,     0.80089,     0.80118,     0.80128,     0.80022,     0.80051,     0.80079,     0.80083,     0.80068,     0.79983,     0.79886,      0.7992,     0.79899,     0.79894,     0.79865,     0.79811,     0.79826,     0.79806,     0.79748,\n",
       "            0.79733,     0.79728,     0.79742,     0.79767,     0.79669,     0.79613,     0.79584,     0.79556,     0.79542,     0.79485,     0.79463,     0.79362,     0.79347,     0.79333,      0.7926,     0.79317,     0.79331,     0.79326,     0.79247,     0.79251,     0.79224,     0.79202,     0.79191,\n",
       "             0.7921,     0.79199,     0.79188,     0.79177,     0.79119,     0.79097,     0.79143,     0.79153,     0.79163,     0.79148,     0.79052,     0.79081,     0.79139,     0.79124,     0.79102,     0.79066,     0.79024,     0.79044,     0.79059,      0.7906,     0.79001,     0.78984,     0.78939,\n",
       "            0.78953,     0.78922,      0.7889,     0.78874,      0.7888,     0.78952,     0.78933,     0.78888,     0.78838,     0.78816,     0.78781,     0.78735,     0.78646,     0.78629,     0.78524,     0.78478,     0.78433,     0.78314,     0.78292,     0.78269,     0.78246,      0.7816,     0.78114,\n",
       "            0.78097,     0.77916,     0.77939,     0.77882,     0.77818,     0.77548,     0.77517,     0.77477,     0.77431,     0.77384,     0.77368,     0.77212,     0.77074,     0.77044,      0.7702,     0.77036,     0.76934,      0.7691,      0.7693,     0.76895,     0.76831,     0.76495,     0.76412,\n",
       "            0.76388,     0.76335,     0.76288,     0.76148,       0.761,     0.75941,     0.75846,     0.75752,     0.75704,     0.75526,     0.75443,     0.75348,     0.75252,     0.75232,     0.75184,     0.75088,     0.75021,     0.74972,     0.74951,      0.7497,     0.74999,     0.74858,     0.74724,\n",
       "            0.74751,     0.74727,     0.74707,     0.74578,      0.7456,     0.74538,     0.74489,     0.74439,     0.74322,     0.74253,     0.74155,     0.73965,     0.73866,     0.73719,     0.73679,     0.73654,     0.73625,     0.73592,     0.73542,     0.73472,     0.73453,      0.7333,     0.73275,\n",
       "            0.73154,     0.73113,     0.73013,     0.72941,     0.72841,     0.72779,     0.72749,     0.72656,     0.72555,     0.72459,     0.72425,     0.72398,     0.72373,     0.72273,     0.72108,     0.72082,     0.72072,      0.7197,     0.71746,     0.71775,     0.71744,     0.71704,      0.7166,\n",
       "             0.7149,     0.71354,     0.71327,     0.71154,     0.71101,     0.70946,     0.70825,     0.70764,     0.70659,     0.70555,     0.70273,     0.70012,     0.69906,     0.69652,     0.69566,     0.69485,     0.69426,     0.69298,     0.69219,     0.69164,     0.69122,      0.6887,     0.68803,\n",
       "            0.68825,       0.688,     0.68762,     0.68424,     0.68402,      0.6838,     0.68329,     0.68194,     0.67909,     0.67881,     0.67819,      0.6783,      0.6778,     0.67701,     0.67536,     0.67235,     0.67111,     0.66949,     0.66765,     0.66639,     0.66513,     0.66401,     0.66212,\n",
       "             0.6612,     0.66007,     0.65893,      0.6577,     0.65609,     0.65494,     0.65393,     0.65349,     0.65244,     0.65176,     0.65138,      0.6503,     0.64829,     0.64704,     0.64512,     0.64337,     0.64163,      0.6403,     0.63726,     0.63463,     0.63351,     0.63311,     0.63196,\n",
       "            0.62754,     0.62702,     0.62662,     0.62563,     0.62305,     0.62183,     0.61883,     0.61703,      0.6158,     0.61539,     0.61318,     0.60975,     0.60934,      0.6078,     0.60229,     0.60138,     0.59993,     0.59821,       0.598,     0.59301,     0.59134,     0.59091,     0.58485,\n",
       "             0.5819,     0.57829,     0.57733,     0.57362,     0.57278,     0.57086,     0.57043,     0.56741,     0.56244,       0.562,     0.55545,     0.55131,     0.55048,     0.54601,     0.53947,     0.53271,     0.53175,     0.52668,     0.52166,     0.52119,     0.51728,     0.51238,      0.5061,\n",
       "            0.49784,     0.49735,     0.49075,     0.48206,     0.47204,     0.47104,     0.46436,     0.45611,     0.44822,      0.4477,     0.44032,     0.42756,     0.41463,     0.41409,      0.4033,     0.38841,     0.37512,     0.36194,     0.34763,     0.33207,     0.33147,     0.31823,     0.30465,\n",
       "            0.28667,     0.27822,     0.27708,     0.26458,     0.25495,     0.24179,     0.23091,     0.22858,     0.21027,     0.19848,     0.19028,      0.1819,     0.17661,     0.17398,     0.16435,     0.16013,     0.15939,     0.15521,     0.15355,     0.15005,     0.14816,     0.14705,      0.1449,\n",
       "            0.14416,     0.13874,     0.13234,     0.12895,     0.12758,     0.12364,     0.12208,     0.12079,      0.1186,     0.11658,     0.11284,     0.10825,     0.10477,     0.10336,     0.10278,     0.10131,     0.10053,    0.097776,    0.096715,    0.096243,     0.09577,     0.09392,    0.090391,\n",
       "           0.089244,    0.087953,    0.084402,    0.083535,    0.082937,    0.081214,    0.080014,    0.078259,    0.075845,    0.072085,    0.071864,    0.071644,    0.071424,    0.071203,    0.069556,    0.068948,    0.067928,    0.064927,    0.063706,    0.062646,    0.062034,    0.060845,    0.058208,\n",
       "           0.056979,    0.053702,    0.051503,    0.050446,     0.04962,    0.048391,     0.04668,    0.046183,     0.04447,    0.043972,    0.043384,    0.042243,    0.041744,    0.041244,    0.040655,     0.04003,    0.038276,    0.037774,    0.035941,    0.035103,    0.034264,    0.033262,    0.032372,\n",
       "           0.032011,    0.031651,     0.03129,     0.02694,    0.024657,    0.023689,    0.018851,    0.018425,    0.017998,    0.017557,    0.017045,    0.016532,     0.01577,    0.014459,    0.013489,    0.012974,    0.012416,    0.011772,    0.011235,    0.010867,    0.010498,     0.01013,   0.0092824,\n",
       "          0.0085311,   0.0078848,   0.0063217,   0.0061059,     0.00589,    0.005674,    0.005458,    0.005242,   0.0049317,   0.0042831,   0.0037206,   0.0033959,   0.0030711,   0.0027463,   0.0024668,   0.0022668,   0.0020667,   0.0018666,   0.0016665,   0.0014663,           0,           0,           0,\n",
       "                  0,           0,           0,           0,           0,           0,           0,           0,           0,           0,           0,           0,           0,           0,           0,           0,           0,           0,           0,           0,           0,           0,           0,\n",
       "                  0,           0,           0,           0,           0,           0,           0,           0,           0,           0,           0,           0,           0,           0,           0,           0,           0,           0,           0,           0,           0,           0,           0,\n",
       "                  0,           0,           0,           0,           0,           0,           0,           0,           0,           0,           0]]), 'Confidence', 'F1'], [array([          0,    0.001001,    0.002002,    0.003003,    0.004004,    0.005005,    0.006006,    0.007007,    0.008008,    0.009009,     0.01001,    0.011011,    0.012012,    0.013013,    0.014014,    0.015015,    0.016016,    0.017017,    0.018018,    0.019019,     0.02002,    0.021021,    0.022022,    0.023023,\n",
       "          0.024024,    0.025025,    0.026026,    0.027027,    0.028028,    0.029029,     0.03003,    0.031031,    0.032032,    0.033033,    0.034034,    0.035035,    0.036036,    0.037037,    0.038038,    0.039039,     0.04004,    0.041041,    0.042042,    0.043043,    0.044044,    0.045045,    0.046046,    0.047047,\n",
       "          0.048048,    0.049049,     0.05005,    0.051051,    0.052052,    0.053053,    0.054054,    0.055055,    0.056056,    0.057057,    0.058058,    0.059059,     0.06006,    0.061061,    0.062062,    0.063063,    0.064064,    0.065065,    0.066066,    0.067067,    0.068068,    0.069069,     0.07007,    0.071071,\n",
       "          0.072072,    0.073073,    0.074074,    0.075075,    0.076076,    0.077077,    0.078078,    0.079079,     0.08008,    0.081081,    0.082082,    0.083083,    0.084084,    0.085085,    0.086086,    0.087087,    0.088088,    0.089089,     0.09009,    0.091091,    0.092092,    0.093093,    0.094094,    0.095095,\n",
       "          0.096096,    0.097097,    0.098098,    0.099099,      0.1001,      0.1011,      0.1021,      0.1031,      0.1041,     0.10511,     0.10611,     0.10711,     0.10811,     0.10911,     0.11011,     0.11111,     0.11211,     0.11311,     0.11411,     0.11512,     0.11612,     0.11712,     0.11812,     0.11912,\n",
       "           0.12012,     0.12112,     0.12212,     0.12312,     0.12412,     0.12513,     0.12613,     0.12713,     0.12813,     0.12913,     0.13013,     0.13113,     0.13213,     0.13313,     0.13413,     0.13514,     0.13614,     0.13714,     0.13814,     0.13914,     0.14014,     0.14114,     0.14214,     0.14314,\n",
       "           0.14414,     0.14515,     0.14615,     0.14715,     0.14815,     0.14915,     0.15015,     0.15115,     0.15215,     0.15315,     0.15415,     0.15516,     0.15616,     0.15716,     0.15816,     0.15916,     0.16016,     0.16116,     0.16216,     0.16316,     0.16416,     0.16517,     0.16617,     0.16717,\n",
       "           0.16817,     0.16917,     0.17017,     0.17117,     0.17217,     0.17317,     0.17417,     0.17518,     0.17618,     0.17718,     0.17818,     0.17918,     0.18018,     0.18118,     0.18218,     0.18318,     0.18418,     0.18519,     0.18619,     0.18719,     0.18819,     0.18919,     0.19019,     0.19119,\n",
       "           0.19219,     0.19319,     0.19419,      0.1952,      0.1962,      0.1972,      0.1982,      0.1992,      0.2002,      0.2012,      0.2022,      0.2032,      0.2042,     0.20521,     0.20621,     0.20721,     0.20821,     0.20921,     0.21021,     0.21121,     0.21221,     0.21321,     0.21421,     0.21522,\n",
       "           0.21622,     0.21722,     0.21822,     0.21922,     0.22022,     0.22122,     0.22222,     0.22322,     0.22422,     0.22523,     0.22623,     0.22723,     0.22823,     0.22923,     0.23023,     0.23123,     0.23223,     0.23323,     0.23423,     0.23524,     0.23624,     0.23724,     0.23824,     0.23924,\n",
       "           0.24024,     0.24124,     0.24224,     0.24324,     0.24424,     0.24525,     0.24625,     0.24725,     0.24825,     0.24925,     0.25025,     0.25125,     0.25225,     0.25325,     0.25425,     0.25526,     0.25626,     0.25726,     0.25826,     0.25926,     0.26026,     0.26126,     0.26226,     0.26326,\n",
       "           0.26426,     0.26527,     0.26627,     0.26727,     0.26827,     0.26927,     0.27027,     0.27127,     0.27227,     0.27327,     0.27427,     0.27528,     0.27628,     0.27728,     0.27828,     0.27928,     0.28028,     0.28128,     0.28228,     0.28328,     0.28428,     0.28529,     0.28629,     0.28729,\n",
       "           0.28829,     0.28929,     0.29029,     0.29129,     0.29229,     0.29329,     0.29429,      0.2953,      0.2963,      0.2973,      0.2983,      0.2993,      0.3003,      0.3013,      0.3023,      0.3033,      0.3043,     0.30531,     0.30631,     0.30731,     0.30831,     0.30931,     0.31031,     0.31131,\n",
       "           0.31231,     0.31331,     0.31431,     0.31532,     0.31632,     0.31732,     0.31832,     0.31932,     0.32032,     0.32132,     0.32232,     0.32332,     0.32432,     0.32533,     0.32633,     0.32733,     0.32833,     0.32933,     0.33033,     0.33133,     0.33233,     0.33333,     0.33433,     0.33534,\n",
       "           0.33634,     0.33734,     0.33834,     0.33934,     0.34034,     0.34134,     0.34234,     0.34334,     0.34434,     0.34535,     0.34635,     0.34735,     0.34835,     0.34935,     0.35035,     0.35135,     0.35235,     0.35335,     0.35435,     0.35536,     0.35636,     0.35736,     0.35836,     0.35936,\n",
       "           0.36036,     0.36136,     0.36236,     0.36336,     0.36436,     0.36537,     0.36637,     0.36737,     0.36837,     0.36937,     0.37037,     0.37137,     0.37237,     0.37337,     0.37437,     0.37538,     0.37638,     0.37738,     0.37838,     0.37938,     0.38038,     0.38138,     0.38238,     0.38338,\n",
       "           0.38438,     0.38539,     0.38639,     0.38739,     0.38839,     0.38939,     0.39039,     0.39139,     0.39239,     0.39339,     0.39439,      0.3954,      0.3964,      0.3974,      0.3984,      0.3994,      0.4004,      0.4014,      0.4024,      0.4034,      0.4044,     0.40541,     0.40641,     0.40741,\n",
       "           0.40841,     0.40941,     0.41041,     0.41141,     0.41241,     0.41341,     0.41441,     0.41542,     0.41642,     0.41742,     0.41842,     0.41942,     0.42042,     0.42142,     0.42242,     0.42342,     0.42442,     0.42543,     0.42643,     0.42743,     0.42843,     0.42943,     0.43043,     0.43143,\n",
       "           0.43243,     0.43343,     0.43443,     0.43544,     0.43644,     0.43744,     0.43844,     0.43944,     0.44044,     0.44144,     0.44244,     0.44344,     0.44444,     0.44545,     0.44645,     0.44745,     0.44845,     0.44945,     0.45045,     0.45145,     0.45245,     0.45345,     0.45445,     0.45546,\n",
       "           0.45646,     0.45746,     0.45846,     0.45946,     0.46046,     0.46146,     0.46246,     0.46346,     0.46446,     0.46547,     0.46647,     0.46747,     0.46847,     0.46947,     0.47047,     0.47147,     0.47247,     0.47347,     0.47447,     0.47548,     0.47648,     0.47748,     0.47848,     0.47948,\n",
       "           0.48048,     0.48148,     0.48248,     0.48348,     0.48448,     0.48549,     0.48649,     0.48749,     0.48849,     0.48949,     0.49049,     0.49149,     0.49249,     0.49349,     0.49449,      0.4955,      0.4965,      0.4975,      0.4985,      0.4995,      0.5005,      0.5015,      0.5025,      0.5035,\n",
       "            0.5045,     0.50551,     0.50651,     0.50751,     0.50851,     0.50951,     0.51051,     0.51151,     0.51251,     0.51351,     0.51451,     0.51552,     0.51652,     0.51752,     0.51852,     0.51952,     0.52052,     0.52152,     0.52252,     0.52352,     0.52452,     0.52553,     0.52653,     0.52753,\n",
       "           0.52853,     0.52953,     0.53053,     0.53153,     0.53253,     0.53353,     0.53453,     0.53554,     0.53654,     0.53754,     0.53854,     0.53954,     0.54054,     0.54154,     0.54254,     0.54354,     0.54454,     0.54555,     0.54655,     0.54755,     0.54855,     0.54955,     0.55055,     0.55155,\n",
       "           0.55255,     0.55355,     0.55455,     0.55556,     0.55656,     0.55756,     0.55856,     0.55956,     0.56056,     0.56156,     0.56256,     0.56356,     0.56456,     0.56557,     0.56657,     0.56757,     0.56857,     0.56957,     0.57057,     0.57157,     0.57257,     0.57357,     0.57457,     0.57558,\n",
       "           0.57658,     0.57758,     0.57858,     0.57958,     0.58058,     0.58158,     0.58258,     0.58358,     0.58458,     0.58559,     0.58659,     0.58759,     0.58859,     0.58959,     0.59059,     0.59159,     0.59259,     0.59359,     0.59459,      0.5956,      0.5966,      0.5976,      0.5986,      0.5996,\n",
       "            0.6006,      0.6016,      0.6026,      0.6036,      0.6046,     0.60561,     0.60661,     0.60761,     0.60861,     0.60961,     0.61061,     0.61161,     0.61261,     0.61361,     0.61461,     0.61562,     0.61662,     0.61762,     0.61862,     0.61962,     0.62062,     0.62162,     0.62262,     0.62362,\n",
       "           0.62462,     0.62563,     0.62663,     0.62763,     0.62863,     0.62963,     0.63063,     0.63163,     0.63263,     0.63363,     0.63463,     0.63564,     0.63664,     0.63764,     0.63864,     0.63964,     0.64064,     0.64164,     0.64264,     0.64364,     0.64464,     0.64565,     0.64665,     0.64765,\n",
       "           0.64865,     0.64965,     0.65065,     0.65165,     0.65265,     0.65365,     0.65465,     0.65566,     0.65666,     0.65766,     0.65866,     0.65966,     0.66066,     0.66166,     0.66266,     0.66366,     0.66466,     0.66567,     0.66667,     0.66767,     0.66867,     0.66967,     0.67067,     0.67167,\n",
       "           0.67267,     0.67367,     0.67467,     0.67568,     0.67668,     0.67768,     0.67868,     0.67968,     0.68068,     0.68168,     0.68268,     0.68368,     0.68468,     0.68569,     0.68669,     0.68769,     0.68869,     0.68969,     0.69069,     0.69169,     0.69269,     0.69369,     0.69469,      0.6957,\n",
       "            0.6967,      0.6977,      0.6987,      0.6997,      0.7007,      0.7017,      0.7027,      0.7037,      0.7047,     0.70571,     0.70671,     0.70771,     0.70871,     0.70971,     0.71071,     0.71171,     0.71271,     0.71371,     0.71471,     0.71572,     0.71672,     0.71772,     0.71872,     0.71972,\n",
       "           0.72072,     0.72172,     0.72272,     0.72372,     0.72472,     0.72573,     0.72673,     0.72773,     0.72873,     0.72973,     0.73073,     0.73173,     0.73273,     0.73373,     0.73473,     0.73574,     0.73674,     0.73774,     0.73874,     0.73974,     0.74074,     0.74174,     0.74274,     0.74374,\n",
       "           0.74474,     0.74575,     0.74675,     0.74775,     0.74875,     0.74975,     0.75075,     0.75175,     0.75275,     0.75375,     0.75475,     0.75576,     0.75676,     0.75776,     0.75876,     0.75976,     0.76076,     0.76176,     0.76276,     0.76376,     0.76476,     0.76577,     0.76677,     0.76777,\n",
       "           0.76877,     0.76977,     0.77077,     0.77177,     0.77277,     0.77377,     0.77477,     0.77578,     0.77678,     0.77778,     0.77878,     0.77978,     0.78078,     0.78178,     0.78278,     0.78378,     0.78478,     0.78579,     0.78679,     0.78779,     0.78879,     0.78979,     0.79079,     0.79179,\n",
       "           0.79279,     0.79379,     0.79479,      0.7958,      0.7968,      0.7978,      0.7988,      0.7998,      0.8008,      0.8018,      0.8028,      0.8038,      0.8048,     0.80581,     0.80681,     0.80781,     0.80881,     0.80981,     0.81081,     0.81181,     0.81281,     0.81381,     0.81481,     0.81582,\n",
       "           0.81682,     0.81782,     0.81882,     0.81982,     0.82082,     0.82182,     0.82282,     0.82382,     0.82482,     0.82583,     0.82683,     0.82783,     0.82883,     0.82983,     0.83083,     0.83183,     0.83283,     0.83383,     0.83483,     0.83584,     0.83684,     0.83784,     0.83884,     0.83984,\n",
       "           0.84084,     0.84184,     0.84284,     0.84384,     0.84484,     0.84585,     0.84685,     0.84785,     0.84885,     0.84985,     0.85085,     0.85185,     0.85285,     0.85385,     0.85485,     0.85586,     0.85686,     0.85786,     0.85886,     0.85986,     0.86086,     0.86186,     0.86286,     0.86386,\n",
       "           0.86486,     0.86587,     0.86687,     0.86787,     0.86887,     0.86987,     0.87087,     0.87187,     0.87287,     0.87387,     0.87487,     0.87588,     0.87688,     0.87788,     0.87888,     0.87988,     0.88088,     0.88188,     0.88288,     0.88388,     0.88488,     0.88589,     0.88689,     0.88789,\n",
       "           0.88889,     0.88989,     0.89089,     0.89189,     0.89289,     0.89389,     0.89489,      0.8959,      0.8969,      0.8979,      0.8989,      0.8999,      0.9009,      0.9019,      0.9029,      0.9039,      0.9049,     0.90591,     0.90691,     0.90791,     0.90891,     0.90991,     0.91091,     0.91191,\n",
       "           0.91291,     0.91391,     0.91491,     0.91592,     0.91692,     0.91792,     0.91892,     0.91992,     0.92092,     0.92192,     0.92292,     0.92392,     0.92492,     0.92593,     0.92693,     0.92793,     0.92893,     0.92993,     0.93093,     0.93193,     0.93293,     0.93393,     0.93493,     0.93594,\n",
       "           0.93694,     0.93794,     0.93894,     0.93994,     0.94094,     0.94194,     0.94294,     0.94394,     0.94494,     0.94595,     0.94695,     0.94795,     0.94895,     0.94995,     0.95095,     0.95195,     0.95295,     0.95395,     0.95495,     0.95596,     0.95696,     0.95796,     0.95896,     0.95996,\n",
       "           0.96096,     0.96196,     0.96296,     0.96396,     0.96496,     0.96597,     0.96697,     0.96797,     0.96897,     0.96997,     0.97097,     0.97197,     0.97297,     0.97397,     0.97497,     0.97598,     0.97698,     0.97798,     0.97898,     0.97998,     0.98098,     0.98198,     0.98298,     0.98398,\n",
       "           0.98498,     0.98599,     0.98699,     0.98799,     0.98899,     0.98999,     0.99099,     0.99199,     0.99299,     0.99399,     0.99499,       0.996,       0.997,       0.998,       0.999,           1]), array([[    0.11618,     0.11636,     0.16621,     0.20091,     0.22743,     0.24911,     0.26753,     0.28455,     0.29947,     0.31241,     0.32483,     0.33571,     0.34572,     0.35522,     0.36427,     0.37396,     0.38032,     0.38826,      0.3959,       0.403,     0.40932,     0.41525,     0.42039,\n",
       "            0.42754,     0.43249,     0.43778,     0.44288,     0.44773,     0.45253,     0.45743,     0.46195,     0.46516,     0.46986,     0.47383,     0.47747,     0.48117,     0.48558,     0.48855,     0.49425,     0.49854,     0.50077,     0.50566,     0.50989,     0.51462,     0.51793,     0.52073,\n",
       "            0.52266,     0.52494,     0.52838,     0.53125,     0.53364,     0.53539,     0.53754,     0.54029,     0.54348,     0.54705,     0.55069,     0.55305,     0.55543,     0.55784,     0.55977,     0.56131,     0.56258,     0.56656,     0.56917,     0.57125,     0.57376,      0.5746,     0.57844,\n",
       "            0.57953,     0.58219,     0.58521,     0.58691,     0.58882,     0.59109,      0.5922,     0.59287,     0.59518,     0.59649,     0.59807,     0.60139,     0.60295,     0.60603,     0.60804,     0.60935,     0.61141,     0.61316,     0.61627,     0.61874,     0.62038,     0.62387,     0.62588,\n",
       "            0.62761,     0.63054,     0.63236,     0.63341,     0.63445,     0.63653,     0.63916,     0.64002,     0.64148,     0.64333,     0.64511,     0.64773,      0.6481,     0.64912,     0.65072,      0.6517,     0.65251,     0.65452,     0.65633,     0.65703,     0.65735,     0.65912,     0.66023,\n",
       "            0.66087,     0.66326,     0.66436,     0.66591,     0.66663,     0.66792,     0.66816,     0.66863,     0.66991,     0.67101,     0.67239,     0.67368,     0.67469,      0.6761,     0.67695,     0.67816,     0.67867,     0.68045,     0.68225,       0.683,     0.68446,     0.68558,       0.687,\n",
       "            0.68815,     0.69037,     0.69109,     0.69179,     0.69253,     0.69325,     0.69382,     0.69482,     0.69564,     0.69763,     0.69965,     0.70111,     0.70221,     0.70332,     0.70427,     0.70493,     0.70568,     0.70626,     0.70658,     0.70732,     0.70798,     0.70788,      0.7089,\n",
       "            0.70963,     0.71092,     0.71234,     0.71307,     0.71465,     0.71494,     0.71517,     0.71698,     0.71844,     0.71992,     0.72065,     0.72101,     0.72149,     0.72249,      0.7227,     0.72299,     0.72322,     0.72412,     0.72673,     0.72809,     0.72952,     0.73141,     0.73249,\n",
       "            0.73261,     0.73451,     0.73489,      0.7358,     0.73596,     0.73748,     0.73898,     0.73945,     0.73988,     0.74024,     0.74046,      0.7411,     0.74173,     0.74194,     0.74259,     0.74368,     0.74537,     0.74613,     0.74681,     0.74719,     0.74809,     0.74864,      0.7491,\n",
       "            0.74895,     0.75004,     0.75108,      0.7519,     0.75338,     0.75434,     0.75499,     0.75631,     0.75663,     0.75792,     0.75906,     0.75928,     0.75946,     0.76072,     0.76138,     0.76258,     0.76356,     0.76393,     0.76439,     0.76595,     0.76647,     0.76837,     0.76837,\n",
       "            0.76914,     0.77024,     0.77069,     0.77121,     0.77101,     0.77159,     0.77172,     0.77237,      0.7728,     0.77311,      0.7739,     0.77468,     0.77496,     0.77539,     0.77571,     0.77648,     0.77737,     0.77892,      0.7803,     0.77998,     0.77988,     0.78011,      0.7807,\n",
       "            0.78108,     0.78338,     0.78402,     0.78391,     0.78385,     0.78474,     0.78555,     0.78632,     0.78642,     0.78662,     0.78656,     0.78722,     0.78714,     0.78766,     0.78799,     0.78798,     0.78975,     0.78999,     0.79079,     0.79101,     0.79187,     0.79234,       0.793,\n",
       "            0.79415,     0.79416,     0.79458,     0.79671,     0.79787,     0.79841,       0.799,     0.79898,     0.80037,     0.80057,     0.80196,     0.80185,     0.80181,     0.80178,     0.80175,     0.80293,     0.80511,     0.80617,     0.80813,     0.80814,     0.80844,     0.80951,     0.81004,\n",
       "            0.81061,     0.81122,     0.81139,     0.81211,     0.81217,     0.81247,      0.8126,     0.81246,     0.81283,     0.81362,     0.81392,     0.81422,     0.81462,     0.81494,     0.81515,     0.81524,     0.81532,     0.81632,     0.81749,     0.81783,     0.81856,     0.81918,     0.81981,\n",
       "            0.81997,     0.82019,     0.82052,     0.82109,     0.82164,     0.82195,     0.82243,      0.8234,     0.82544,     0.82596,     0.82589,     0.82617,     0.82683,     0.82717,     0.82745,     0.82873,     0.82949,     0.82936,     0.82967,     0.82954,     0.82942,     0.82982,     0.82966,\n",
       "            0.83068,     0.83109,      0.8316,     0.83192,     0.83241,     0.83251,     0.83245,     0.83238,     0.83331,     0.83326,     0.83573,     0.83637,     0.83733,     0.83766,     0.83823,     0.84049,     0.84093,     0.84089,     0.84085,     0.84149,     0.84164,      0.8418,     0.84195,\n",
       "             0.8424,     0.84232,     0.84218,     0.84227,     0.84256,     0.84252,     0.84248,     0.84264,     0.84293,     0.84293,      0.8432,     0.84349,     0.84408,      0.8447,     0.84508,     0.84544,     0.84558,      0.8474,     0.84864,     0.84924,     0.84935,     0.84946,     0.85038,\n",
       "            0.85028,     0.85058,     0.85144,     0.85112,      0.8516,     0.85155,     0.85216,     0.85424,     0.85419,     0.85685,     0.85756,     0.85746,     0.85854,     0.85956,     0.85956,        0.86,     0.85984,     0.85979,     0.86015,     0.86006,     0.86003,     0.85999,     0.85995,\n",
       "            0.85989,     0.85971,     0.86008,     0.86002,     0.86103,     0.86132,     0.86148,     0.86164,     0.86179,     0.86243,     0.86238,     0.86233,     0.86285,     0.86282,     0.86278,     0.86274,     0.86406,      0.8646,     0.86492,     0.86524,     0.86556,     0.86588,     0.86612,\n",
       "            0.86758,     0.86771,     0.86824,     0.86877,      0.8693,     0.86901,     0.87016,     0.87071,     0.87072,     0.87053,     0.87043,     0.87102,     0.87097,     0.87335,     0.87368,     0.87403,     0.87457,     0.87495,     0.87515,     0.87496,     0.87519,     0.87681,     0.87672,\n",
       "            0.87662,     0.87653,     0.87634,     0.87725,     0.87737,     0.87841,      0.8785,     0.87844,     0.87839,     0.87877,     0.87888,     0.87903,     0.87936,     0.88065,     0.88095,     0.88129,     0.88183,     0.88164,     0.88155,     0.88271,     0.88397,     0.88379,     0.88442,\n",
       "            0.88487,     0.88546,     0.88538,     0.88535,     0.88532,     0.88544,     0.88614,     0.88664,      0.8866,      0.8873,       0.888,     0.88843,     0.88903,     0.88885,     0.88893,        0.89,     0.88995,     0.89058,      0.8918,     0.89188,     0.89224,     0.89273,     0.89286,\n",
       "            0.89348,     0.89369,     0.89405,     0.89468,     0.89515,     0.89651,       0.897,     0.89828,     0.89894,     0.89892,     0.89888,     0.89869,     0.89866,     0.89863,     0.89985,     0.90131,     0.90168,     0.90267,      0.9026,      0.9039,     0.90522,     0.90518,     0.90531,\n",
       "            0.90589,     0.90587,     0.90585,     0.90583,     0.90572,     0.90568,     0.90725,      0.9075,     0.90776,     0.90786,     0.90803,      0.9088,     0.91032,     0.91133,     0.91129,     0.91123,     0.91161,     0.91214,     0.91253,     0.91335,     0.91397,     0.91466,     0.91459,\n",
       "             0.9152,     0.91528,     0.91668,     0.91738,     0.91878,     0.92075,     0.92187,      0.9218,     0.92247,     0.92244,     0.92238,     0.92232,     0.92264,      0.9229,      0.9235,     0.92343,     0.92336,     0.92319,     0.92315,     0.92312,     0.92308,     0.92295,     0.92289,\n",
       "            0.92362,     0.92335,      0.9241,     0.92483,      0.9255,     0.92511,     0.92506,     0.92501,     0.92494,     0.92487,     0.92612,     0.92618,     0.92598,     0.92594,      0.9259,     0.92653,     0.92656,     0.92653,     0.92722,      0.9273,       0.928,     0.92913,     0.92901,\n",
       "            0.92898,     0.92971,     0.92965,     0.92945,     0.92939,     0.92998,     0.92985,     0.92972,     0.92965,      0.9294,     0.92929,     0.92915,     0.92902,     0.92982,     0.92975,     0.92962,     0.93036,     0.93029,      0.9305,      0.9311,     0.93198,     0.93182,     0.93335,\n",
       "            0.93422,     0.93419,     0.93424,     0.93485,     0.93538,     0.93566,      0.9356,     0.93553,     0.93625,     0.93703,     0.93691,     0.93754,     0.93742,     0.93723,     0.93718,     0.93715,     0.93711,     0.93707,     0.93701,     0.93781,     0.93871,     0.93942,     0.93935,\n",
       "            0.93976,     0.94096,     0.94084,     0.94167,     0.94155,     0.94516,     0.94538,     0.94596,     0.94585,     0.94574,      0.9457,     0.94567,     0.94564,     0.94553,     0.94535,     0.94532,     0.94625,     0.94614,     0.94596,     0.94697,      0.9478,     0.94789,     0.94867,\n",
       "            0.94849,     0.94835,     0.94832,     0.94813,     0.94808,     0.94791,     0.94778,     0.94771,      0.9476,     0.94749,     0.94916,     0.94889,     0.94877,      0.9485,     0.94845,     0.94934,     0.94927,     0.94914,     0.95008,     0.95002,     0.94997,     0.94971,     0.94964,\n",
       "            0.95149,     0.95253,     0.95271,     0.95237,     0.95235,     0.95233,     0.95228,      0.9532,     0.95292,     0.95289,     0.95305,      0.9535,     0.95386,     0.95378,     0.95362,     0.95332,     0.95447,     0.95743,     0.95726,     0.95826,     0.95927,     0.95917,     0.95972,\n",
       "            0.96006,     0.95996,       0.961,     0.96186,     0.96192,     0.96182,     0.96231,     0.96404,     0.96396,     0.96509,     0.96506,     0.96497,     0.96482,     0.96472,     0.96457,     0.96564,     0.96551,     0.96541,     0.96517,     0.96497,     0.96488,     0.96485,     0.96476,\n",
       "            0.96441,     0.96437,     0.96433,     0.96425,     0.96405,     0.96395,     0.96498,     0.96484,     0.96603,       0.966,     0.96583,     0.96556,     0.96553,     0.96738,     0.96764,     0.96836,     0.96881,     0.96869,     0.96968,     0.97107,     0.97096,     0.97093,     0.97052,\n",
       "            0.97031,     0.97006,     0.96999,     0.96973,     0.97112,     0.97099,     0.97096,     0.97075,      0.9704,     0.97037,     0.97142,     0.97113,     0.97107,     0.97075,     0.97028,     0.96978,     0.96971,     0.97096,     0.97226,     0.97222,     0.97364,     0.97331,     0.97462,\n",
       "            0.97407,     0.97404,     0.97725,     0.97672,     0.97608,     0.97601,     0.97557,     0.97501,     0.97446,     0.97442,     0.97599,      0.9773,     0.97871,     0.97868,     0.98276,     0.98448,     0.98381,     0.98586,     0.98516,     0.98742,     0.98739,     0.98677,     0.98608,\n",
       "            0.98507,     0.98455,     0.98447,     0.98767,     0.98714,     0.98635,     0.98563,     0.98546,     0.98406,     0.98302,     0.98807,     0.98747,     0.98706,     0.98685,     0.98601,     0.99275,     0.99272,     0.99251,           1,           1,           1,           1,           1,\n",
       "                  1,           1,           1,           1,           1,           1,           1,           1,           1,           1,           1,           1,           1,           1,           1,           1,           1,           1,           1,           1,           1,           1,           1,\n",
       "                  1,           1,           1,           1,           1,           1,           1,           1,           1,           1,           1,           1,           1,           1,           1,           1,           1,           1,           1,           1,           1,           1,           1,\n",
       "                  1,           1,           1,           1,           1,           1,           1,           1,           1,           1,           1,           1,           1,           1,           1,           1,           1,           1,           1,           1,           1,           1,           1,\n",
       "                  1,           1,           1,           1,           1,           1,           1,           1,           1,           1,           1,           1,           1,           1,           1,           1,           1,           1,           1,           1,           1,           1,           1,\n",
       "                  1,           1,           1,           1,           1,           1,           1,           1,           1,           1,           1,           1,           1,           1,           1,           1,           1,           1,           1,           1,           1,           1,           1,\n",
       "                  1,           1,           1,           1,           1,           1,           1,           1,           1,           1,           1,           1,           1,           1,           1,           1,           1,           1,           1,           1,           1,           1,           1,\n",
       "                  1,           1,           1,           1,           1,           1,           1,           1,           1,           1,           1,           1,           1,           1,           1,           1,           1,           1,           1,           1,           1,           1,           1,\n",
       "                  1,           1,           1,           1,           1,           1,           1,           1,           1,           1,           1]]), 'Confidence', 'Precision'], [array([          0,    0.001001,    0.002002,    0.003003,    0.004004,    0.005005,    0.006006,    0.007007,    0.008008,    0.009009,     0.01001,    0.011011,    0.012012,    0.013013,    0.014014,    0.015015,    0.016016,    0.017017,    0.018018,    0.019019,     0.02002,    0.021021,    0.022022,    0.023023,\n",
       "          0.024024,    0.025025,    0.026026,    0.027027,    0.028028,    0.029029,     0.03003,    0.031031,    0.032032,    0.033033,    0.034034,    0.035035,    0.036036,    0.037037,    0.038038,    0.039039,     0.04004,    0.041041,    0.042042,    0.043043,    0.044044,    0.045045,    0.046046,    0.047047,\n",
       "          0.048048,    0.049049,     0.05005,    0.051051,    0.052052,    0.053053,    0.054054,    0.055055,    0.056056,    0.057057,    0.058058,    0.059059,     0.06006,    0.061061,    0.062062,    0.063063,    0.064064,    0.065065,    0.066066,    0.067067,    0.068068,    0.069069,     0.07007,    0.071071,\n",
       "          0.072072,    0.073073,    0.074074,    0.075075,    0.076076,    0.077077,    0.078078,    0.079079,     0.08008,    0.081081,    0.082082,    0.083083,    0.084084,    0.085085,    0.086086,    0.087087,    0.088088,    0.089089,     0.09009,    0.091091,    0.092092,    0.093093,    0.094094,    0.095095,\n",
       "          0.096096,    0.097097,    0.098098,    0.099099,      0.1001,      0.1011,      0.1021,      0.1031,      0.1041,     0.10511,     0.10611,     0.10711,     0.10811,     0.10911,     0.11011,     0.11111,     0.11211,     0.11311,     0.11411,     0.11512,     0.11612,     0.11712,     0.11812,     0.11912,\n",
       "           0.12012,     0.12112,     0.12212,     0.12312,     0.12412,     0.12513,     0.12613,     0.12713,     0.12813,     0.12913,     0.13013,     0.13113,     0.13213,     0.13313,     0.13413,     0.13514,     0.13614,     0.13714,     0.13814,     0.13914,     0.14014,     0.14114,     0.14214,     0.14314,\n",
       "           0.14414,     0.14515,     0.14615,     0.14715,     0.14815,     0.14915,     0.15015,     0.15115,     0.15215,     0.15315,     0.15415,     0.15516,     0.15616,     0.15716,     0.15816,     0.15916,     0.16016,     0.16116,     0.16216,     0.16316,     0.16416,     0.16517,     0.16617,     0.16717,\n",
       "           0.16817,     0.16917,     0.17017,     0.17117,     0.17217,     0.17317,     0.17417,     0.17518,     0.17618,     0.17718,     0.17818,     0.17918,     0.18018,     0.18118,     0.18218,     0.18318,     0.18418,     0.18519,     0.18619,     0.18719,     0.18819,     0.18919,     0.19019,     0.19119,\n",
       "           0.19219,     0.19319,     0.19419,      0.1952,      0.1962,      0.1972,      0.1982,      0.1992,      0.2002,      0.2012,      0.2022,      0.2032,      0.2042,     0.20521,     0.20621,     0.20721,     0.20821,     0.20921,     0.21021,     0.21121,     0.21221,     0.21321,     0.21421,     0.21522,\n",
       "           0.21622,     0.21722,     0.21822,     0.21922,     0.22022,     0.22122,     0.22222,     0.22322,     0.22422,     0.22523,     0.22623,     0.22723,     0.22823,     0.22923,     0.23023,     0.23123,     0.23223,     0.23323,     0.23423,     0.23524,     0.23624,     0.23724,     0.23824,     0.23924,\n",
       "           0.24024,     0.24124,     0.24224,     0.24324,     0.24424,     0.24525,     0.24625,     0.24725,     0.24825,     0.24925,     0.25025,     0.25125,     0.25225,     0.25325,     0.25425,     0.25526,     0.25626,     0.25726,     0.25826,     0.25926,     0.26026,     0.26126,     0.26226,     0.26326,\n",
       "           0.26426,     0.26527,     0.26627,     0.26727,     0.26827,     0.26927,     0.27027,     0.27127,     0.27227,     0.27327,     0.27427,     0.27528,     0.27628,     0.27728,     0.27828,     0.27928,     0.28028,     0.28128,     0.28228,     0.28328,     0.28428,     0.28529,     0.28629,     0.28729,\n",
       "           0.28829,     0.28929,     0.29029,     0.29129,     0.29229,     0.29329,     0.29429,      0.2953,      0.2963,      0.2973,      0.2983,      0.2993,      0.3003,      0.3013,      0.3023,      0.3033,      0.3043,     0.30531,     0.30631,     0.30731,     0.30831,     0.30931,     0.31031,     0.31131,\n",
       "           0.31231,     0.31331,     0.31431,     0.31532,     0.31632,     0.31732,     0.31832,     0.31932,     0.32032,     0.32132,     0.32232,     0.32332,     0.32432,     0.32533,     0.32633,     0.32733,     0.32833,     0.32933,     0.33033,     0.33133,     0.33233,     0.33333,     0.33433,     0.33534,\n",
       "           0.33634,     0.33734,     0.33834,     0.33934,     0.34034,     0.34134,     0.34234,     0.34334,     0.34434,     0.34535,     0.34635,     0.34735,     0.34835,     0.34935,     0.35035,     0.35135,     0.35235,     0.35335,     0.35435,     0.35536,     0.35636,     0.35736,     0.35836,     0.35936,\n",
       "           0.36036,     0.36136,     0.36236,     0.36336,     0.36436,     0.36537,     0.36637,     0.36737,     0.36837,     0.36937,     0.37037,     0.37137,     0.37237,     0.37337,     0.37437,     0.37538,     0.37638,     0.37738,     0.37838,     0.37938,     0.38038,     0.38138,     0.38238,     0.38338,\n",
       "           0.38438,     0.38539,     0.38639,     0.38739,     0.38839,     0.38939,     0.39039,     0.39139,     0.39239,     0.39339,     0.39439,      0.3954,      0.3964,      0.3974,      0.3984,      0.3994,      0.4004,      0.4014,      0.4024,      0.4034,      0.4044,     0.40541,     0.40641,     0.40741,\n",
       "           0.40841,     0.40941,     0.41041,     0.41141,     0.41241,     0.41341,     0.41441,     0.41542,     0.41642,     0.41742,     0.41842,     0.41942,     0.42042,     0.42142,     0.42242,     0.42342,     0.42442,     0.42543,     0.42643,     0.42743,     0.42843,     0.42943,     0.43043,     0.43143,\n",
       "           0.43243,     0.43343,     0.43443,     0.43544,     0.43644,     0.43744,     0.43844,     0.43944,     0.44044,     0.44144,     0.44244,     0.44344,     0.44444,     0.44545,     0.44645,     0.44745,     0.44845,     0.44945,     0.45045,     0.45145,     0.45245,     0.45345,     0.45445,     0.45546,\n",
       "           0.45646,     0.45746,     0.45846,     0.45946,     0.46046,     0.46146,     0.46246,     0.46346,     0.46446,     0.46547,     0.46647,     0.46747,     0.46847,     0.46947,     0.47047,     0.47147,     0.47247,     0.47347,     0.47447,     0.47548,     0.47648,     0.47748,     0.47848,     0.47948,\n",
       "           0.48048,     0.48148,     0.48248,     0.48348,     0.48448,     0.48549,     0.48649,     0.48749,     0.48849,     0.48949,     0.49049,     0.49149,     0.49249,     0.49349,     0.49449,      0.4955,      0.4965,      0.4975,      0.4985,      0.4995,      0.5005,      0.5015,      0.5025,      0.5035,\n",
       "            0.5045,     0.50551,     0.50651,     0.50751,     0.50851,     0.50951,     0.51051,     0.51151,     0.51251,     0.51351,     0.51451,     0.51552,     0.51652,     0.51752,     0.51852,     0.51952,     0.52052,     0.52152,     0.52252,     0.52352,     0.52452,     0.52553,     0.52653,     0.52753,\n",
       "           0.52853,     0.52953,     0.53053,     0.53153,     0.53253,     0.53353,     0.53453,     0.53554,     0.53654,     0.53754,     0.53854,     0.53954,     0.54054,     0.54154,     0.54254,     0.54354,     0.54454,     0.54555,     0.54655,     0.54755,     0.54855,     0.54955,     0.55055,     0.55155,\n",
       "           0.55255,     0.55355,     0.55455,     0.55556,     0.55656,     0.55756,     0.55856,     0.55956,     0.56056,     0.56156,     0.56256,     0.56356,     0.56456,     0.56557,     0.56657,     0.56757,     0.56857,     0.56957,     0.57057,     0.57157,     0.57257,     0.57357,     0.57457,     0.57558,\n",
       "           0.57658,     0.57758,     0.57858,     0.57958,     0.58058,     0.58158,     0.58258,     0.58358,     0.58458,     0.58559,     0.58659,     0.58759,     0.58859,     0.58959,     0.59059,     0.59159,     0.59259,     0.59359,     0.59459,      0.5956,      0.5966,      0.5976,      0.5986,      0.5996,\n",
       "            0.6006,      0.6016,      0.6026,      0.6036,      0.6046,     0.60561,     0.60661,     0.60761,     0.60861,     0.60961,     0.61061,     0.61161,     0.61261,     0.61361,     0.61461,     0.61562,     0.61662,     0.61762,     0.61862,     0.61962,     0.62062,     0.62162,     0.62262,     0.62362,\n",
       "           0.62462,     0.62563,     0.62663,     0.62763,     0.62863,     0.62963,     0.63063,     0.63163,     0.63263,     0.63363,     0.63463,     0.63564,     0.63664,     0.63764,     0.63864,     0.63964,     0.64064,     0.64164,     0.64264,     0.64364,     0.64464,     0.64565,     0.64665,     0.64765,\n",
       "           0.64865,     0.64965,     0.65065,     0.65165,     0.65265,     0.65365,     0.65465,     0.65566,     0.65666,     0.65766,     0.65866,     0.65966,     0.66066,     0.66166,     0.66266,     0.66366,     0.66466,     0.66567,     0.66667,     0.66767,     0.66867,     0.66967,     0.67067,     0.67167,\n",
       "           0.67267,     0.67367,     0.67467,     0.67568,     0.67668,     0.67768,     0.67868,     0.67968,     0.68068,     0.68168,     0.68268,     0.68368,     0.68468,     0.68569,     0.68669,     0.68769,     0.68869,     0.68969,     0.69069,     0.69169,     0.69269,     0.69369,     0.69469,      0.6957,\n",
       "            0.6967,      0.6977,      0.6987,      0.6997,      0.7007,      0.7017,      0.7027,      0.7037,      0.7047,     0.70571,     0.70671,     0.70771,     0.70871,     0.70971,     0.71071,     0.71171,     0.71271,     0.71371,     0.71471,     0.71572,     0.71672,     0.71772,     0.71872,     0.71972,\n",
       "           0.72072,     0.72172,     0.72272,     0.72372,     0.72472,     0.72573,     0.72673,     0.72773,     0.72873,     0.72973,     0.73073,     0.73173,     0.73273,     0.73373,     0.73473,     0.73574,     0.73674,     0.73774,     0.73874,     0.73974,     0.74074,     0.74174,     0.74274,     0.74374,\n",
       "           0.74474,     0.74575,     0.74675,     0.74775,     0.74875,     0.74975,     0.75075,     0.75175,     0.75275,     0.75375,     0.75475,     0.75576,     0.75676,     0.75776,     0.75876,     0.75976,     0.76076,     0.76176,     0.76276,     0.76376,     0.76476,     0.76577,     0.76677,     0.76777,\n",
       "           0.76877,     0.76977,     0.77077,     0.77177,     0.77277,     0.77377,     0.77477,     0.77578,     0.77678,     0.77778,     0.77878,     0.77978,     0.78078,     0.78178,     0.78278,     0.78378,     0.78478,     0.78579,     0.78679,     0.78779,     0.78879,     0.78979,     0.79079,     0.79179,\n",
       "           0.79279,     0.79379,     0.79479,      0.7958,      0.7968,      0.7978,      0.7988,      0.7998,      0.8008,      0.8018,      0.8028,      0.8038,      0.8048,     0.80581,     0.80681,     0.80781,     0.80881,     0.80981,     0.81081,     0.81181,     0.81281,     0.81381,     0.81481,     0.81582,\n",
       "           0.81682,     0.81782,     0.81882,     0.81982,     0.82082,     0.82182,     0.82282,     0.82382,     0.82482,     0.82583,     0.82683,     0.82783,     0.82883,     0.82983,     0.83083,     0.83183,     0.83283,     0.83383,     0.83483,     0.83584,     0.83684,     0.83784,     0.83884,     0.83984,\n",
       "           0.84084,     0.84184,     0.84284,     0.84384,     0.84484,     0.84585,     0.84685,     0.84785,     0.84885,     0.84985,     0.85085,     0.85185,     0.85285,     0.85385,     0.85485,     0.85586,     0.85686,     0.85786,     0.85886,     0.85986,     0.86086,     0.86186,     0.86286,     0.86386,\n",
       "           0.86486,     0.86587,     0.86687,     0.86787,     0.86887,     0.86987,     0.87087,     0.87187,     0.87287,     0.87387,     0.87487,     0.87588,     0.87688,     0.87788,     0.87888,     0.87988,     0.88088,     0.88188,     0.88288,     0.88388,     0.88488,     0.88589,     0.88689,     0.88789,\n",
       "           0.88889,     0.88989,     0.89089,     0.89189,     0.89289,     0.89389,     0.89489,      0.8959,      0.8969,      0.8979,      0.8989,      0.8999,      0.9009,      0.9019,      0.9029,      0.9039,      0.9049,     0.90591,     0.90691,     0.90791,     0.90891,     0.90991,     0.91091,     0.91191,\n",
       "           0.91291,     0.91391,     0.91491,     0.91592,     0.91692,     0.91792,     0.91892,     0.91992,     0.92092,     0.92192,     0.92292,     0.92392,     0.92492,     0.92593,     0.92693,     0.92793,     0.92893,     0.92993,     0.93093,     0.93193,     0.93293,     0.93393,     0.93493,     0.93594,\n",
       "           0.93694,     0.93794,     0.93894,     0.93994,     0.94094,     0.94194,     0.94294,     0.94394,     0.94494,     0.94595,     0.94695,     0.94795,     0.94895,     0.94995,     0.95095,     0.95195,     0.95295,     0.95395,     0.95495,     0.95596,     0.95696,     0.95796,     0.95896,     0.95996,\n",
       "           0.96096,     0.96196,     0.96296,     0.96396,     0.96496,     0.96597,     0.96697,     0.96797,     0.96897,     0.96997,     0.97097,     0.97197,     0.97297,     0.97397,     0.97497,     0.97598,     0.97698,     0.97798,     0.97898,     0.97998,     0.98098,     0.98198,     0.98298,     0.98398,\n",
       "           0.98498,     0.98599,     0.98699,     0.98799,     0.98899,     0.98999,     0.99099,     0.99199,     0.99299,     0.99399,     0.99499,       0.996,       0.997,       0.998,       0.999,           1]), array([[    0.93325,     0.93325,     0.92943,     0.92435,     0.92244,     0.92181,     0.91926,     0.91736,     0.91608,     0.91545,     0.91481,     0.91481,     0.91418,     0.91418,     0.91354,     0.91291,     0.91227,     0.91163,     0.91036,     0.90973,     0.90972,     0.90909,     0.90846,\n",
       "            0.90782,     0.90718,     0.90655,     0.90591,     0.90591,     0.90528,     0.90401,     0.90337,     0.90146,     0.90095,     0.90019,     0.89892,     0.89765,     0.89765,     0.89765,     0.89765,     0.89765,     0.89765,     0.89701,     0.89701,     0.89701,     0.89638,     0.89574,\n",
       "             0.8951,      0.8951,     0.89447,     0.89447,     0.89256,     0.89256,     0.89256,     0.89193,     0.89129,     0.89129,     0.89129,     0.89129,     0.89002,     0.89002,     0.88938,     0.88875,     0.88811,     0.88811,      0.8862,      0.8862,      0.8862,      0.8862,      0.8862,\n",
       "            0.88557,     0.88493,      0.8843,      0.8843,      0.8843,     0.88366,     0.88239,     0.88239,     0.88239,     0.88239,     0.88239,     0.88239,     0.88175,     0.88112,     0.88048,     0.87985,     0.87921,     0.87921,     0.87858,     0.87858,     0.87794,      0.8773,      0.8773,\n",
       "             0.8773,      0.8773,     0.87667,     0.87667,     0.87667,     0.87603,     0.87603,     0.87603,     0.87603,      0.8754,      0.8754,      0.8754,      0.8754,      0.8754,     0.87476,     0.87413,     0.87413,     0.87413,     0.87413,     0.87413,     0.87413,     0.87413,     0.87413,\n",
       "            0.87349,     0.87349,     0.87349,     0.87349,     0.87349,      0.8733,      0.8717,     0.87158,     0.87158,     0.87158,     0.87158,     0.87095,     0.87031,     0.87031,     0.87031,     0.87031,     0.87031,     0.87031,     0.87031,     0.87031,     0.87031,     0.86904,     0.86777,\n",
       "            0.86777,     0.86748,      0.8665,      0.8665,      0.8665,      0.8665,     0.86586,     0.86554,     0.86523,     0.86523,     0.86459,     0.86459,     0.86459,     0.86459,     0.86449,     0.86395,     0.86395,      0.8636,     0.86332,     0.86332,     0.86313,     0.86269,     0.86268,\n",
       "            0.86227,     0.86205,     0.86205,     0.86205,     0.86205,     0.86205,     0.86205,     0.86205,     0.86205,     0.86115,     0.86078,     0.86078,     0.86014,     0.86014,     0.85988,     0.85887,     0.85887,     0.85823,     0.85823,      0.8576,      0.8576,      0.8576,      0.8576,\n",
       "            0.85698,     0.85696,     0.85696,     0.85691,     0.85633,     0.85546,     0.85492,     0.85442,     0.85442,     0.85442,     0.85442,     0.85442,     0.85442,     0.85442,     0.85442,     0.85442,     0.85378,     0.85378,     0.85378,     0.85378,     0.85378,     0.85315,     0.85221,\n",
       "            0.85156,      0.8506,      0.8506,     0.84933,     0.84933,      0.8487,     0.84823,     0.84806,     0.84806,     0.84743,     0.84743,     0.84679,     0.84615,     0.84615,     0.84615,     0.84533,     0.84425,     0.84425,     0.84425,     0.84425,     0.84361,     0.84354,     0.84298,\n",
       "            0.84298,     0.84298,     0.84298,     0.84217,     0.84121,     0.83969,     0.83916,     0.83911,     0.83853,     0.83853,     0.83853,     0.83853,     0.83848,     0.83789,     0.83789,     0.83789,     0.83789,     0.83789,     0.83768,      0.8361,     0.83564,     0.83447,     0.83344,\n",
       "            0.83344,     0.83344,     0.83344,     0.83255,     0.83226,     0.83217,     0.83134,     0.83047,     0.83026,     0.83026,     0.82934,     0.82835,     0.82708,     0.82708,     0.82708,     0.82645,     0.82625,     0.82581,     0.82581,     0.82581,     0.82581,     0.82517,     0.82517,\n",
       "            0.82517,     0.82411,      0.8239,      0.8239,      0.8239,      0.8239,     0.82386,     0.82263,     0.82263,     0.82263,     0.82123,     0.82065,     0.82046,     0.82027,     0.82009,     0.82009,     0.82009,     0.82009,     0.81936,     0.81882,     0.81882,     0.81882,     0.81882,\n",
       "            0.81818,     0.81818,     0.81773,     0.81755,     0.81627,     0.81627,     0.81595,     0.81522,     0.81442,     0.81437,     0.81437,     0.81437,     0.81373,     0.81373,     0.81373,      0.8135,     0.81246,     0.81182,     0.81182,     0.81182,     0.81168,     0.81119,     0.81119,\n",
       "            0.81072,     0.81055,     0.81055,     0.81055,     0.81055,     0.81055,     0.81055,     0.80928,     0.80865,     0.80854,     0.80817,     0.80801,     0.80801,     0.80801,     0.80801,     0.80737,      0.8072,     0.80643,     0.80514,     0.80438,     0.80368,     0.80287,     0.80165,\n",
       "            0.80154,     0.80076,     0.79975,     0.79975,     0.79975,     0.79947,      0.7991,     0.79873,     0.79773,     0.79741,      0.7972,      0.7972,      0.7972,      0.7972,      0.7972,      0.7972,      0.7965,     0.79626,     0.79603,     0.79593,     0.79593,     0.79593,     0.79593,\n",
       "             0.7953,     0.79467,     0.79386,     0.79339,     0.79268,     0.79244,     0.79221,     0.79212,     0.79212,     0.79154,     0.79148,     0.79148,     0.79148,     0.79085,     0.79065,     0.78936,     0.78894,     0.78894,     0.78894,     0.78894,     0.78849,     0.78767,     0.78766,\n",
       "            0.78703,     0.78703,     0.78698,     0.78503,     0.78437,     0.78404,     0.78258,     0.78243,     0.78211,     0.78131,     0.78081,     0.78016,     0.78004,     0.77877,      0.7782,      0.7775,     0.77611,     0.77495,     0.77417,     0.77363,     0.77341,     0.77319,     0.77292,\n",
       "            0.77255,     0.77137,     0.77114,     0.76943,     0.76923,     0.76923,     0.76923,     0.76923,     0.76923,      0.7692,     0.76888,     0.76851,     0.76793,     0.76771,     0.76749,     0.76717,     0.76669,     0.76669,     0.76669,     0.76669,     0.76669,     0.76542,       0.765,\n",
       "            0.76351,     0.76306,     0.76241,     0.76175,      0.7611,     0.75918,     0.75906,     0.75842,     0.75786,     0.75657,     0.75592,     0.75557,     0.75525,     0.75397,     0.75397,     0.75397,     0.75334,     0.75334,     0.75309,      0.7518,     0.75143,     0.75114,     0.75049,\n",
       "            0.74983,     0.74918,     0.74789,     0.74698,     0.74596,     0.74571,     0.74465,     0.74422,     0.74389,     0.74317,     0.74268,     0.74189,     0.74189,     0.74189,     0.74126,     0.74126,     0.74004,     0.73876,      0.7381,     0.73682,     0.73617,     0.73488,     0.73427,\n",
       "            0.73294,     0.73229,     0.73169,     0.73148,     0.73126,     0.73109,     0.73109,     0.73092,     0.72918,     0.72918,     0.72918,     0.72895,      0.7283,     0.72701,     0.72537,     0.72522,     0.72489,      0.7244,     0.72312,     0.72219,     0.72219,     0.72155,     0.72051,\n",
       "            0.71986,     0.71964,     0.71964,     0.71964,     0.71774,     0.71596,     0.71519,     0.71392,     0.71329,     0.71237,     0.71204,     0.71055,     0.71033,     0.71011,      0.7082,      0.7082,      0.7082,     0.70751,     0.70629,     0.70557,     0.70433,     0.70401,     0.70375,\n",
       "            0.70371,     0.70355,     0.70339,     0.70322,     0.70237,     0.70205,     0.70184,     0.70184,     0.70184,     0.70155,     0.69994,     0.69994,     0.69994,     0.69912,      0.6988,     0.69827,     0.69739,     0.69739,     0.69739,     0.69694,     0.69565,       0.695,     0.69435,\n",
       "            0.69421,     0.69368,     0.69239,     0.69174,     0.69104,     0.69104,     0.69011,     0.68945,     0.68833,       0.688,      0.6875,     0.68685,     0.68531,     0.68491,     0.68299,     0.68233,     0.68168,     0.67999,     0.67967,     0.67934,     0.67902,     0.67779,     0.67714,\n",
       "            0.67648,     0.67393,     0.67387,     0.67262,     0.67133,     0.66751,     0.66707,     0.66652,     0.66587,     0.66522,     0.66434,     0.66201,     0.66008,     0.65966,     0.65933,     0.65925,     0.65773,      0.6574,     0.65734,     0.65679,     0.65551,     0.65009,     0.64894,\n",
       "            0.64861,      0.6475,     0.64684,     0.64492,     0.64427,     0.64171,     0.64042,     0.63914,     0.63848,     0.63607,     0.63496,     0.63367,     0.63238,     0.63173,     0.63108,     0.62979,      0.6285,     0.62785,     0.62746,     0.62746,     0.62746,     0.62556,     0.62301,\n",
       "              0.623,     0.62267,     0.62238,     0.62032,     0.61983,     0.61941,     0.61876,     0.61811,     0.61619,      0.6149,     0.61361,     0.61073,     0.60945,     0.60752,       0.607,     0.60667,      0.6063,     0.60586,     0.60522,     0.60393,     0.60331,     0.60136,     0.60065,\n",
       "            0.59886,     0.59781,     0.59653,     0.59524,     0.59395,     0.59171,     0.59123,     0.58977,     0.58848,     0.58727,     0.58683,     0.58649,     0.58617,     0.58491,     0.58281,     0.58249,       0.582,     0.58071,     0.57788,     0.57788,     0.57717,     0.57661,     0.57576,\n",
       "            0.57362,     0.57193,      0.5716,     0.56944,     0.56879,     0.56687,     0.56536,     0.56461,     0.56332,     0.56204,     0.55789,     0.55469,     0.55341,     0.55032,     0.54927,     0.54795,     0.54724,      0.5457,     0.54441,     0.54376,     0.54325,     0.54023,     0.53942,\n",
       "             0.5391,     0.53846,     0.53794,     0.53392,     0.53366,      0.5334,     0.53279,     0.53087,     0.52751,     0.52718,     0.52638,     0.52638,     0.52566,     0.52473,     0.52281,      0.5193,     0.51748,     0.51469,     0.51258,     0.51081,     0.50905,     0.50776,      0.5054,\n",
       "            0.50423,     0.50294,     0.50134,     0.49968,     0.49781,     0.49652,     0.49523,     0.49427,     0.49309,     0.49202,     0.49159,     0.49039,     0.48815,     0.48675,     0.48462,     0.48238,     0.48046,       0.479,     0.47566,     0.47278,     0.47156,     0.47113,     0.46987,\n",
       "            0.46509,     0.46453,     0.46409,     0.46302,     0.46026,     0.45894,     0.45546,     0.45353,     0.45195,     0.45152,     0.44918,     0.44556,     0.44513,      0.4431,     0.43721,     0.43611,     0.43449,     0.43271,     0.43229,     0.42683,     0.42512,     0.42469,     0.41853,\n",
       "            0.41556,     0.41193,     0.41097,     0.40726,     0.40617,     0.40427,     0.40384,     0.40086,     0.39598,     0.39554,     0.38891,     0.38491,     0.38411,     0.37982,     0.37359,     0.36722,     0.36631,     0.36134,     0.35645,     0.35602,      0.3522,     0.34772,     0.34179,\n",
       "            0.33436,     0.33393,     0.32764,        0.32,     0.31129,     0.31043,     0.30469,     0.29768,     0.29105,     0.29061,     0.28428,     0.27364,     0.26303,      0.2626,     0.25371,     0.24193,     0.23174,     0.22166,     0.21105,      0.1996,     0.19917,      0.1897,     0.18015,\n",
       "            0.16774,       0.162,     0.16123,     0.15275,     0.14638,     0.13778,     0.13077,     0.12928,     0.11771,     0.11038,     0.10528,     0.10018,    0.096983,    0.095397,    0.089643,    0.087086,    0.086652,    0.084189,    0.083159,     0.08111,    0.080009,    0.079357,    0.078112,\n",
       "           0.077677,    0.074542,    0.070857,    0.068918,    0.068137,    0.065896,    0.065008,    0.064275,    0.063038,      0.0619,    0.059795,    0.057221,    0.055282,    0.054499,    0.054173,     0.05336,    0.052926,    0.051401,    0.050815,    0.050554,    0.050293,    0.049274,    0.047335,\n",
       "           0.046706,       0.046,    0.044061,    0.043588,    0.043262,    0.042326,    0.041674,    0.040723,    0.039417,     0.03739,    0.037271,    0.037153,    0.037034,    0.036916,    0.036031,    0.035705,    0.035158,    0.033553,    0.032901,    0.032336,     0.03201,    0.031377,    0.029977,\n",
       "           0.029325,    0.027592,    0.026432,    0.025875,    0.025441,    0.024795,    0.023898,    0.023637,    0.022741,     0.02248,    0.022173,    0.021577,    0.021317,    0.021056,    0.020749,    0.020424,    0.019511,    0.019251,      0.0183,    0.017865,    0.017431,    0.016912,    0.016452,\n",
       "           0.016266,     0.01608,    0.015894,    0.013654,    0.012482,    0.011987,   0.0095152,    0.009298,   0.0090808,   0.0088563,   0.0085956,    0.008335,   0.0079476,   0.0072819,   0.0067901,   0.0065295,   0.0062467,   0.0059209,   0.0056493,   0.0054631,   0.0052769,   0.0050907,   0.0046629,\n",
       "          0.0042838,    0.003958,   0.0031709,   0.0030623,   0.0029537,   0.0028451,   0.0027365,   0.0026279,    0.002472,   0.0021461,   0.0018638,   0.0017008,   0.0015379,    0.001375,   0.0012349,   0.0011347,   0.0010344,  0.00093418,  0.00083393,  0.00073368,           0,           0,           0,\n",
       "                  0,           0,           0,           0,           0,           0,           0,           0,           0,           0,           0,           0,           0,           0,           0,           0,           0,           0,           0,           0,           0,           0,           0,\n",
       "                  0,           0,           0,           0,           0,           0,           0,           0,           0,           0,           0,           0,           0,           0,           0,           0,           0,           0,           0,           0,           0,           0,           0,\n",
       "                  0,           0,           0,           0,           0,           0,           0,           0,           0,           0,           0]]), 'Confidence', 'Recall']]\n",
       "fitness: np.float64(0.48432928363901645)\n",
       "keys: ['metrics/precision(B)', 'metrics/recall(B)', 'metrics/mAP50(B)', 'metrics/mAP50-95(B)']\n",
       "maps: array([    0.44345,     0.44345,     0.44345])\n",
       "names: {0: 'cat', 1: 'dog', 2: 'person'}\n",
       "plot: True\n",
       "results_dict: {'metrics/precision(B)': np.float64(0.8408887469677784), 'metrics/recall(B)': np.float64(0.7962644491570111), 'metrics/mAP50(B)': np.float64(0.8522870006355782), 'metrics/mAP50-95(B)': np.float64(0.4434450928616207), 'fitness': np.float64(0.48432928363901645)}\n",
       "save_dir: PosixPath('YOLOv10_Training/custom_model')\n",
       "speed: {'preprocess': 0.11029784155345347, 'inference': 3.7249944286638152, 'loss': 0.0005372050529665279, 'postprocess': 0.05789285275381222}\n",
       "task: 'detect'"
      ]
     },
     "execution_count": 16,
     "metadata": {},
     "output_type": "execute_result"
    }
   ],
   "source": [
    "# Stage 5: Train the YOLOv10 model (optimized for overnight run)\n",
    "model.train(\n",
    "    data=\"data.yaml\",             # Path to dataset config\n",
    "    epochs=100,                   # Long training for better accuracy\n",
    "    imgsz=640,                    # Larger image size = better detail (if GPU allows)\n",
    "    batch=4,                      # Increase if VRAM > 8GB\n",
    "    project=\"YOLOv10_Training\",   # Folder to save logs, weights\n",
    "    name=\"custom_model\",          # Subfolder name\n",
    "    exist_ok=True,                # Overwrite if already exists\n",
    "    save_period=1,                # 💾 Save weights after every epoch\n",
    "    resume=False,                 # Fresh training\n",
    "    patience=100,                 # Avoid early stopping\n",
    "    plots=True,                   # Log training plots\n",
    "    verbose=True,                 # Detailed logs\n",
    ")"
   ]
  },
  {
   "cell_type": "markdown",
   "id": "19c242e1-3392-4106-8306-98e2185319c6",
   "metadata": {},
   "source": [
    "### Evaluating the trained model\n",
    "- Stage 6 - The model is evaluated for its respective purpose"
   ]
  },
  {
   "cell_type": "code",
   "execution_count": 18,
   "id": "902fa4f8-0f44-446a-823c-da1764d325c1",
   "metadata": {},
   "outputs": [
    {
     "name": "stdout",
     "output_type": "stream",
     "text": [
      "Ultralytics 8.3.140 🚀 Python-3.12.5 torch-2.7.0+cu126 CUDA:0 (NVIDIA GeForce RTX 4070 Laptop GPU, 7817MiB)\n",
      "\u001b[34m\u001b[1mval: \u001b[0mFast image access ✅ (ping: 0.0±0.0 ms, read: 3067.4±1223.0 MB/s, size: 377.6 KB)\n"
     ]
    },
    {
     "name": "stderr",
     "output_type": "stream",
     "text": [
      "\u001b[34m\u001b[1mval: \u001b[0mScanning /home/heytanix/Documents/VisionTrainer/dataset/labels/val.cache... 1073 images, 0 backgrounds, 0 corrupt: 100%|██████████| 1073/1073 [00:00<?, ?it/s]\n",
      "                 Class     Images  Instances      Box(P          R      mAP50  mAP50-95): 100%|██████████| 269/269 [00:05<00:00, 46.30it/s]\n"
     ]
    },
    {
     "name": "stdout",
     "output_type": "stream",
     "text": [
      "                   all       1073       1573      0.855      0.754      0.814      0.439\n",
      "                   cat       1073       1573      0.855      0.754      0.814      0.439\n",
      "Speed: 0.1ms preprocess, 4.3ms inference, 0.0ms loss, 0.0ms postprocess per image\n",
      "Results saved to \u001b[1mYOLOv10_Training/custom_model\u001b[0m\n",
      "ultralytics.utils.metrics.DetMetrics object with attributes:\n",
      "\n",
      "ap_class_index: array([0])\n",
      "box: ultralytics.utils.metrics.Metric object\n",
      "confusion_matrix: <ultralytics.utils.metrics.ConfusionMatrix object at 0x7929b46ab980>\n",
      "curves: ['Precision-Recall(B)', 'F1-Confidence(B)', 'Precision-Confidence(B)', 'Recall-Confidence(B)']\n",
      "curves_results: [[array([          0,    0.001001,    0.002002,    0.003003,    0.004004,    0.005005,    0.006006,    0.007007,    0.008008,    0.009009,     0.01001,    0.011011,    0.012012,    0.013013,    0.014014,    0.015015,    0.016016,    0.017017,    0.018018,    0.019019,     0.02002,    0.021021,    0.022022,    0.023023,\n",
      "          0.024024,    0.025025,    0.026026,    0.027027,    0.028028,    0.029029,     0.03003,    0.031031,    0.032032,    0.033033,    0.034034,    0.035035,    0.036036,    0.037037,    0.038038,    0.039039,     0.04004,    0.041041,    0.042042,    0.043043,    0.044044,    0.045045,    0.046046,    0.047047,\n",
      "          0.048048,    0.049049,     0.05005,    0.051051,    0.052052,    0.053053,    0.054054,    0.055055,    0.056056,    0.057057,    0.058058,    0.059059,     0.06006,    0.061061,    0.062062,    0.063063,    0.064064,    0.065065,    0.066066,    0.067067,    0.068068,    0.069069,     0.07007,    0.071071,\n",
      "          0.072072,    0.073073,    0.074074,    0.075075,    0.076076,    0.077077,    0.078078,    0.079079,     0.08008,    0.081081,    0.082082,    0.083083,    0.084084,    0.085085,    0.086086,    0.087087,    0.088088,    0.089089,     0.09009,    0.091091,    0.092092,    0.093093,    0.094094,    0.095095,\n",
      "          0.096096,    0.097097,    0.098098,    0.099099,      0.1001,      0.1011,      0.1021,      0.1031,      0.1041,     0.10511,     0.10611,     0.10711,     0.10811,     0.10911,     0.11011,     0.11111,     0.11211,     0.11311,     0.11411,     0.11512,     0.11612,     0.11712,     0.11812,     0.11912,\n",
      "           0.12012,     0.12112,     0.12212,     0.12312,     0.12412,     0.12513,     0.12613,     0.12713,     0.12813,     0.12913,     0.13013,     0.13113,     0.13213,     0.13313,     0.13413,     0.13514,     0.13614,     0.13714,     0.13814,     0.13914,     0.14014,     0.14114,     0.14214,     0.14314,\n",
      "           0.14414,     0.14515,     0.14615,     0.14715,     0.14815,     0.14915,     0.15015,     0.15115,     0.15215,     0.15315,     0.15415,     0.15516,     0.15616,     0.15716,     0.15816,     0.15916,     0.16016,     0.16116,     0.16216,     0.16316,     0.16416,     0.16517,     0.16617,     0.16717,\n",
      "           0.16817,     0.16917,     0.17017,     0.17117,     0.17217,     0.17317,     0.17417,     0.17518,     0.17618,     0.17718,     0.17818,     0.17918,     0.18018,     0.18118,     0.18218,     0.18318,     0.18418,     0.18519,     0.18619,     0.18719,     0.18819,     0.18919,     0.19019,     0.19119,\n",
      "           0.19219,     0.19319,     0.19419,      0.1952,      0.1962,      0.1972,      0.1982,      0.1992,      0.2002,      0.2012,      0.2022,      0.2032,      0.2042,     0.20521,     0.20621,     0.20721,     0.20821,     0.20921,     0.21021,     0.21121,     0.21221,     0.21321,     0.21421,     0.21522,\n",
      "           0.21622,     0.21722,     0.21822,     0.21922,     0.22022,     0.22122,     0.22222,     0.22322,     0.22422,     0.22523,     0.22623,     0.22723,     0.22823,     0.22923,     0.23023,     0.23123,     0.23223,     0.23323,     0.23423,     0.23524,     0.23624,     0.23724,     0.23824,     0.23924,\n",
      "           0.24024,     0.24124,     0.24224,     0.24324,     0.24424,     0.24525,     0.24625,     0.24725,     0.24825,     0.24925,     0.25025,     0.25125,     0.25225,     0.25325,     0.25425,     0.25526,     0.25626,     0.25726,     0.25826,     0.25926,     0.26026,     0.26126,     0.26226,     0.26326,\n",
      "           0.26426,     0.26527,     0.26627,     0.26727,     0.26827,     0.26927,     0.27027,     0.27127,     0.27227,     0.27327,     0.27427,     0.27528,     0.27628,     0.27728,     0.27828,     0.27928,     0.28028,     0.28128,     0.28228,     0.28328,     0.28428,     0.28529,     0.28629,     0.28729,\n",
      "           0.28829,     0.28929,     0.29029,     0.29129,     0.29229,     0.29329,     0.29429,      0.2953,      0.2963,      0.2973,      0.2983,      0.2993,      0.3003,      0.3013,      0.3023,      0.3033,      0.3043,     0.30531,     0.30631,     0.30731,     0.30831,     0.30931,     0.31031,     0.31131,\n",
      "           0.31231,     0.31331,     0.31431,     0.31532,     0.31632,     0.31732,     0.31832,     0.31932,     0.32032,     0.32132,     0.32232,     0.32332,     0.32432,     0.32533,     0.32633,     0.32733,     0.32833,     0.32933,     0.33033,     0.33133,     0.33233,     0.33333,     0.33433,     0.33534,\n",
      "           0.33634,     0.33734,     0.33834,     0.33934,     0.34034,     0.34134,     0.34234,     0.34334,     0.34434,     0.34535,     0.34635,     0.34735,     0.34835,     0.34935,     0.35035,     0.35135,     0.35235,     0.35335,     0.35435,     0.35536,     0.35636,     0.35736,     0.35836,     0.35936,\n",
      "           0.36036,     0.36136,     0.36236,     0.36336,     0.36436,     0.36537,     0.36637,     0.36737,     0.36837,     0.36937,     0.37037,     0.37137,     0.37237,     0.37337,     0.37437,     0.37538,     0.37638,     0.37738,     0.37838,     0.37938,     0.38038,     0.38138,     0.38238,     0.38338,\n",
      "           0.38438,     0.38539,     0.38639,     0.38739,     0.38839,     0.38939,     0.39039,     0.39139,     0.39239,     0.39339,     0.39439,      0.3954,      0.3964,      0.3974,      0.3984,      0.3994,      0.4004,      0.4014,      0.4024,      0.4034,      0.4044,     0.40541,     0.40641,     0.40741,\n",
      "           0.40841,     0.40941,     0.41041,     0.41141,     0.41241,     0.41341,     0.41441,     0.41542,     0.41642,     0.41742,     0.41842,     0.41942,     0.42042,     0.42142,     0.42242,     0.42342,     0.42442,     0.42543,     0.42643,     0.42743,     0.42843,     0.42943,     0.43043,     0.43143,\n",
      "           0.43243,     0.43343,     0.43443,     0.43544,     0.43644,     0.43744,     0.43844,     0.43944,     0.44044,     0.44144,     0.44244,     0.44344,     0.44444,     0.44545,     0.44645,     0.44745,     0.44845,     0.44945,     0.45045,     0.45145,     0.45245,     0.45345,     0.45445,     0.45546,\n",
      "           0.45646,     0.45746,     0.45846,     0.45946,     0.46046,     0.46146,     0.46246,     0.46346,     0.46446,     0.46547,     0.46647,     0.46747,     0.46847,     0.46947,     0.47047,     0.47147,     0.47247,     0.47347,     0.47447,     0.47548,     0.47648,     0.47748,     0.47848,     0.47948,\n",
      "           0.48048,     0.48148,     0.48248,     0.48348,     0.48448,     0.48549,     0.48649,     0.48749,     0.48849,     0.48949,     0.49049,     0.49149,     0.49249,     0.49349,     0.49449,      0.4955,      0.4965,      0.4975,      0.4985,      0.4995,      0.5005,      0.5015,      0.5025,      0.5035,\n",
      "            0.5045,     0.50551,     0.50651,     0.50751,     0.50851,     0.50951,     0.51051,     0.51151,     0.51251,     0.51351,     0.51451,     0.51552,     0.51652,     0.51752,     0.51852,     0.51952,     0.52052,     0.52152,     0.52252,     0.52352,     0.52452,     0.52553,     0.52653,     0.52753,\n",
      "           0.52853,     0.52953,     0.53053,     0.53153,     0.53253,     0.53353,     0.53453,     0.53554,     0.53654,     0.53754,     0.53854,     0.53954,     0.54054,     0.54154,     0.54254,     0.54354,     0.54454,     0.54555,     0.54655,     0.54755,     0.54855,     0.54955,     0.55055,     0.55155,\n",
      "           0.55255,     0.55355,     0.55455,     0.55556,     0.55656,     0.55756,     0.55856,     0.55956,     0.56056,     0.56156,     0.56256,     0.56356,     0.56456,     0.56557,     0.56657,     0.56757,     0.56857,     0.56957,     0.57057,     0.57157,     0.57257,     0.57357,     0.57457,     0.57558,\n",
      "           0.57658,     0.57758,     0.57858,     0.57958,     0.58058,     0.58158,     0.58258,     0.58358,     0.58458,     0.58559,     0.58659,     0.58759,     0.58859,     0.58959,     0.59059,     0.59159,     0.59259,     0.59359,     0.59459,      0.5956,      0.5966,      0.5976,      0.5986,      0.5996,\n",
      "            0.6006,      0.6016,      0.6026,      0.6036,      0.6046,     0.60561,     0.60661,     0.60761,     0.60861,     0.60961,     0.61061,     0.61161,     0.61261,     0.61361,     0.61461,     0.61562,     0.61662,     0.61762,     0.61862,     0.61962,     0.62062,     0.62162,     0.62262,     0.62362,\n",
      "           0.62462,     0.62563,     0.62663,     0.62763,     0.62863,     0.62963,     0.63063,     0.63163,     0.63263,     0.63363,     0.63463,     0.63564,     0.63664,     0.63764,     0.63864,     0.63964,     0.64064,     0.64164,     0.64264,     0.64364,     0.64464,     0.64565,     0.64665,     0.64765,\n",
      "           0.64865,     0.64965,     0.65065,     0.65165,     0.65265,     0.65365,     0.65465,     0.65566,     0.65666,     0.65766,     0.65866,     0.65966,     0.66066,     0.66166,     0.66266,     0.66366,     0.66466,     0.66567,     0.66667,     0.66767,     0.66867,     0.66967,     0.67067,     0.67167,\n",
      "           0.67267,     0.67367,     0.67467,     0.67568,     0.67668,     0.67768,     0.67868,     0.67968,     0.68068,     0.68168,     0.68268,     0.68368,     0.68468,     0.68569,     0.68669,     0.68769,     0.68869,     0.68969,     0.69069,     0.69169,     0.69269,     0.69369,     0.69469,      0.6957,\n",
      "            0.6967,      0.6977,      0.6987,      0.6997,      0.7007,      0.7017,      0.7027,      0.7037,      0.7047,     0.70571,     0.70671,     0.70771,     0.70871,     0.70971,     0.71071,     0.71171,     0.71271,     0.71371,     0.71471,     0.71572,     0.71672,     0.71772,     0.71872,     0.71972,\n",
      "           0.72072,     0.72172,     0.72272,     0.72372,     0.72472,     0.72573,     0.72673,     0.72773,     0.72873,     0.72973,     0.73073,     0.73173,     0.73273,     0.73373,     0.73473,     0.73574,     0.73674,     0.73774,     0.73874,     0.73974,     0.74074,     0.74174,     0.74274,     0.74374,\n",
      "           0.74474,     0.74575,     0.74675,     0.74775,     0.74875,     0.74975,     0.75075,     0.75175,     0.75275,     0.75375,     0.75475,     0.75576,     0.75676,     0.75776,     0.75876,     0.75976,     0.76076,     0.76176,     0.76276,     0.76376,     0.76476,     0.76577,     0.76677,     0.76777,\n",
      "           0.76877,     0.76977,     0.77077,     0.77177,     0.77277,     0.77377,     0.77477,     0.77578,     0.77678,     0.77778,     0.77878,     0.77978,     0.78078,     0.78178,     0.78278,     0.78378,     0.78478,     0.78579,     0.78679,     0.78779,     0.78879,     0.78979,     0.79079,     0.79179,\n",
      "           0.79279,     0.79379,     0.79479,      0.7958,      0.7968,      0.7978,      0.7988,      0.7998,      0.8008,      0.8018,      0.8028,      0.8038,      0.8048,     0.80581,     0.80681,     0.80781,     0.80881,     0.80981,     0.81081,     0.81181,     0.81281,     0.81381,     0.81481,     0.81582,\n",
      "           0.81682,     0.81782,     0.81882,     0.81982,     0.82082,     0.82182,     0.82282,     0.82382,     0.82482,     0.82583,     0.82683,     0.82783,     0.82883,     0.82983,     0.83083,     0.83183,     0.83283,     0.83383,     0.83483,     0.83584,     0.83684,     0.83784,     0.83884,     0.83984,\n",
      "           0.84084,     0.84184,     0.84284,     0.84384,     0.84484,     0.84585,     0.84685,     0.84785,     0.84885,     0.84985,     0.85085,     0.85185,     0.85285,     0.85385,     0.85485,     0.85586,     0.85686,     0.85786,     0.85886,     0.85986,     0.86086,     0.86186,     0.86286,     0.86386,\n",
      "           0.86486,     0.86587,     0.86687,     0.86787,     0.86887,     0.86987,     0.87087,     0.87187,     0.87287,     0.87387,     0.87487,     0.87588,     0.87688,     0.87788,     0.87888,     0.87988,     0.88088,     0.88188,     0.88288,     0.88388,     0.88488,     0.88589,     0.88689,     0.88789,\n",
      "           0.88889,     0.88989,     0.89089,     0.89189,     0.89289,     0.89389,     0.89489,      0.8959,      0.8969,      0.8979,      0.8989,      0.8999,      0.9009,      0.9019,      0.9029,      0.9039,      0.9049,     0.90591,     0.90691,     0.90791,     0.90891,     0.90991,     0.91091,     0.91191,\n",
      "           0.91291,     0.91391,     0.91491,     0.91592,     0.91692,     0.91792,     0.91892,     0.91992,     0.92092,     0.92192,     0.92292,     0.92392,     0.92492,     0.92593,     0.92693,     0.92793,     0.92893,     0.92993,     0.93093,     0.93193,     0.93293,     0.93393,     0.93493,     0.93594,\n",
      "           0.93694,     0.93794,     0.93894,     0.93994,     0.94094,     0.94194,     0.94294,     0.94394,     0.94494,     0.94595,     0.94695,     0.94795,     0.94895,     0.94995,     0.95095,     0.95195,     0.95295,     0.95395,     0.95495,     0.95596,     0.95696,     0.95796,     0.95896,     0.95996,\n",
      "           0.96096,     0.96196,     0.96296,     0.96396,     0.96496,     0.96597,     0.96697,     0.96797,     0.96897,     0.96997,     0.97097,     0.97197,     0.97297,     0.97397,     0.97497,     0.97598,     0.97698,     0.97798,     0.97898,     0.97998,     0.98098,     0.98198,     0.98298,     0.98398,\n",
      "           0.98498,     0.98599,     0.98699,     0.98799,     0.98899,     0.98999,     0.99099,     0.99199,     0.99299,     0.99399,     0.99499,       0.996,       0.997,       0.998,       0.999,           1]), array([[          1,           1,           1,           1,           1,           1,           1,           1,           1,           1,           1,           1,           1,           1,           1,           1,           1,           1,           1,           1,           1,           1,           1,\n",
      "                  1,           1,           1,           1,           1,           1,           1,           1,           1,           1,           1,           1,           1,           1,           1,           1,           1,           1,           1,           1,           1,           1,           1,\n",
      "                  1,           1,           1,           1,           1,           1,           1,           1,           1,           1,           1,     0.99115,     0.99115,     0.99115,     0.99115,     0.99115,     0.99115,     0.99115,     0.99115,     0.99115,     0.99115,     0.99115,     0.99115,\n",
      "            0.99115,     0.99115,     0.99115,     0.98485,     0.98485,     0.98485,     0.98485,     0.98485,     0.98485,     0.98485,     0.98485,     0.98485,     0.98485,     0.98485,     0.97826,     0.97826,     0.97826,     0.97561,     0.97561,     0.97561,     0.97561,     0.97561,     0.97561,\n",
      "            0.97561,     0.97561,     0.97561,     0.97561,     0.97561,     0.97561,     0.97561,     0.97561,     0.97561,     0.97561,     0.97512,     0.97512,     0.97512,     0.97512,     0.97512,     0.97512,     0.97512,     0.97512,     0.97512,     0.97512,     0.97512,     0.97512,     0.97512,\n",
      "            0.97512,     0.97512,     0.97512,     0.97512,     0.97512,     0.97512,     0.97512,     0.97512,     0.97512,     0.97512,     0.97245,     0.97245,     0.97245,     0.97245,     0.97245,     0.97245,     0.97245,     0.97245,     0.97245,     0.97245,     0.97245,     0.97245,     0.97245,\n",
      "            0.97245,     0.97245,     0.97245,     0.97245,     0.97245,     0.97245,     0.97245,     0.97245,     0.97245,     0.97245,     0.97245,     0.97245,     0.97245,     0.97245,     0.97245,     0.97245,     0.97245,     0.97245,     0.97245,     0.97245,     0.97245,     0.97245,     0.97245,\n",
      "            0.97245,     0.97245,     0.97245,     0.97245,     0.97245,     0.97245,     0.97245,     0.97245,     0.97245,     0.97245,     0.97245,     0.97245,     0.97245,     0.97245,     0.97245,     0.97245,     0.97245,     0.97245,     0.97245,     0.97245,     0.97245,     0.97245,     0.97245,\n",
      "            0.97245,     0.97245,     0.97245,     0.97245,     0.97245,     0.97245,     0.97245,     0.97245,     0.97245,     0.97245,     0.97245,     0.97245,     0.97245,     0.97245,     0.97245,     0.97245,     0.97245,     0.97245,     0.97245,     0.97245,     0.97245,     0.97245,     0.97245,\n",
      "            0.97245,     0.97245,     0.97245,     0.97245,     0.97245,     0.97245,     0.97245,     0.97245,     0.97245,     0.97245,     0.97245,     0.97245,     0.97245,     0.97245,     0.97245,     0.97245,     0.97245,     0.97245,      0.9712,      0.9712,      0.9712,      0.9712,      0.9712,\n",
      "             0.9712,      0.9712,      0.9712,      0.9712,      0.9712,      0.9712,     0.96883,     0.96667,     0.96667,     0.96667,     0.96543,     0.96543,     0.96543,     0.96543,     0.96543,     0.96543,     0.96543,     0.96543,     0.96543,     0.96403,     0.96403,     0.96403,     0.96403,\n",
      "            0.96403,     0.96403,     0.96403,     0.96322,     0.96322,     0.96322,     0.96322,     0.96322,     0.96322,     0.96322,     0.96322,     0.96322,     0.96322,     0.96322,     0.96145,     0.96145,     0.96145,     0.96104,     0.96104,     0.96104,     0.96104,     0.96104,     0.96104,\n",
      "            0.96104,     0.96104,     0.96104,     0.96104,     0.96104,     0.96104,     0.95957,     0.95957,     0.95957,     0.95957,     0.95957,     0.95918,     0.95918,     0.95918,     0.95918,     0.95918,     0.95918,     0.95918,     0.95918,     0.95918,     0.95918,     0.95918,     0.95918,\n",
      "            0.95846,     0.95846,     0.95846,     0.95846,     0.95846,     0.95846,     0.95846,     0.95846,     0.95846,     0.95846,     0.95846,     0.95846,     0.95846,     0.95846,     0.95846,     0.95846,     0.95846,     0.95846,     0.95846,     0.95846,     0.95846,     0.95846,     0.95846,\n",
      "            0.95846,     0.95846,     0.95846,     0.95846,     0.95846,     0.95846,     0.95846,     0.95846,     0.95846,     0.95846,     0.95846,     0.95846,     0.95846,     0.95846,     0.95846,     0.95846,     0.95846,     0.95846,     0.95846,     0.95846,     0.95846,     0.95846,     0.95846,\n",
      "            0.95846,     0.95846,     0.95846,     0.95846,     0.95846,     0.95846,     0.95846,     0.95846,     0.95846,     0.95846,     0.95846,     0.95846,     0.95846,     0.95846,     0.95846,     0.95846,     0.95846,     0.95846,     0.95846,     0.95846,     0.95846,     0.95846,     0.95846,\n",
      "            0.95846,     0.95846,     0.95846,     0.95846,     0.95846,     0.95846,     0.95846,     0.95846,     0.95846,     0.95846,     0.95846,     0.95846,     0.95846,     0.95846,     0.95846,     0.95846,     0.95846,     0.95846,     0.95846,     0.95846,     0.95846,     0.95846,     0.95846,\n",
      "            0.95846,     0.95846,     0.95846,     0.95846,     0.95846,     0.95846,     0.95846,     0.95846,     0.95846,     0.95846,     0.95846,     0.95846,     0.95846,     0.95846,     0.95846,     0.95846,     0.95846,     0.95846,     0.95846,     0.95846,     0.95729,     0.95729,     0.95606,\n",
      "            0.95606,     0.95606,     0.95606,     0.95606,     0.95606,     0.95606,     0.95606,     0.95606,     0.95606,     0.95606,     0.95606,     0.95606,     0.95606,     0.95606,     0.95606,     0.95606,     0.95606,     0.95606,     0.95606,     0.95606,     0.95606,     0.95606,     0.95606,\n",
      "            0.95606,     0.95606,     0.95606,     0.95606,     0.95606,     0.95606,     0.95606,     0.95606,     0.95606,     0.95606,     0.95606,     0.95606,     0.95606,     0.95606,     0.95606,     0.95606,     0.95606,     0.95606,     0.95606,     0.95509,     0.95509,     0.95509,     0.95509,\n",
      "            0.95501,     0.95501,     0.95501,     0.95501,     0.95501,     0.95501,     0.95501,     0.95501,     0.95501,     0.95501,     0.95501,     0.95501,     0.95396,     0.95396,     0.95281,      0.9528,      0.9528,      0.9528,      0.9528,      0.9528,      0.9528,      0.9528,      0.9528,\n",
      "             0.9528,      0.9528,      0.9528,      0.9528,      0.9528,     0.95191,     0.95191,     0.95191,     0.94982,     0.94982,     0.94982,     0.94982,     0.94982,     0.94982,     0.94982,     0.94982,     0.94982,     0.94982,     0.94982,     0.94982,     0.94982,     0.94982,     0.94899,\n",
      "            0.94899,     0.94899,     0.94899,     0.94804,     0.94804,     0.94804,     0.94804,     0.94804,     0.94804,     0.94804,     0.94804,     0.94804,     0.94804,     0.94804,     0.94804,     0.94804,     0.94789,     0.94789,     0.94789,     0.94789,     0.94789,     0.94789,     0.94789,\n",
      "            0.94789,     0.94789,     0.94789,     0.94789,     0.94789,     0.94789,     0.94789,     0.94789,     0.94789,     0.94789,     0.94789,     0.94789,     0.94789,     0.94789,     0.94789,     0.94748,     0.94748,     0.94748,     0.94748,     0.94748,     0.94748,     0.94656,     0.94656,\n",
      "            0.94606,     0.94606,     0.94606,     0.94606,     0.94606,     0.94528,     0.94528,     0.94528,     0.94338,     0.94243,     0.94198,     0.94198,     0.94198,     0.94198,     0.94198,     0.94198,     0.94136,     0.94136,     0.94136,     0.93946,     0.93873,     0.93873,     0.93873,\n",
      "            0.93686,     0.93686,     0.93686,     0.93686,     0.93686,     0.93686,     0.93686,     0.93686,     0.93686,     0.93686,     0.93535,     0.93535,     0.93535,     0.93535,     0.93387,     0.93387,     0.93387,       0.933,     0.93247,     0.93247,     0.93247,     0.93247,     0.93083,\n",
      "            0.93083,     0.92829,     0.92829,     0.92816,     0.92816,     0.92816,     0.92816,     0.92816,     0.92816,     0.92816,     0.92678,     0.92678,     0.92678,     0.92603,     0.92603,     0.92557,     0.92557,     0.92557,     0.92557,     0.92315,     0.92257,     0.92257,     0.92257,\n",
      "            0.92177,     0.92019,      0.9197,      0.9197,      0.9197,     0.91922,     0.91922,     0.91922,     0.91889,     0.91889,     0.91889,     0.91889,     0.91889,     0.91567,     0.91431,     0.91431,     0.91426,     0.91426,     0.91426,     0.91426,     0.91426,     0.91426,     0.91426,\n",
      "            0.91367,     0.91367,     0.91316,     0.91316,     0.91258,     0.91258,     0.91254,     0.91254,     0.91254,     0.91254,     0.91254,     0.91254,     0.91254,     0.91197,     0.91125,     0.90973,     0.90917,     0.90917,     0.90893,     0.90893,     0.90893,     0.90893,     0.90738,\n",
      "            0.90738,     0.90738,     0.90738,     0.90738,     0.90738,       0.907,       0.907,       0.907,       0.907,     0.90593,     0.90593,     0.90593,     0.90525,     0.90464,     0.90412,     0.90412,     0.90344,     0.90285,     0.89925,     0.89784,     0.89727,     0.89587,     0.89539,\n",
      "            0.89539,     0.89482,     0.89418,     0.89362,     0.89306,      0.8926,      0.8926,     0.89196,     0.89069,      0.8905,      0.8905,      0.8905,      0.8905,     0.88987,     0.88942,      0.8888,     0.88827,     0.88774,     0.88774,     0.88739,     0.88739,     0.88678,     0.88583,\n",
      "            0.88583,     0.88583,     0.88452,      0.8841,      0.8841,     0.88359,     0.88354,     0.88354,     0.88354,     0.88354,     0.88308,     0.88308,     0.88308,     0.88308,     0.88308,     0.88308,     0.88308,     0.87988,     0.87872,     0.87814,     0.87766,     0.87528,     0.87528,\n",
      "            0.87406,     0.87106,      0.8707,      0.8707,     0.86821,     0.86647,     0.86593,     0.86411,     0.86387,     0.86387,     0.86344,      0.8629,     0.86174,     0.86016,     0.86016,     0.85974,     0.85932,     0.85457,     0.85406,     0.85172,       0.849,       0.849,     0.84681,\n",
      "            0.84594,     0.84594,     0.84318,      0.8427,     0.83774,     0.83774,     0.83622,     0.83414,     0.83333,     0.83333,      0.8331,      0.8331,     0.83037,     0.82721,     0.82576,     0.82432,     0.82222,     0.81697,     0.81654,      0.8157,     0.81528,     0.81415,     0.81415,\n",
      "            0.81213,     0.81197,     0.81197,     0.81033,     0.81033,     0.80807,     0.80807,     0.80505,     0.80206,     0.79414,     0.79087,     0.78951,     0.78729,     0.78657,     0.78621,     0.78549,     0.78185,     0.78102,     0.78067,     0.77949,     0.77485,      0.7676,     0.76588,\n",
      "            0.75656,     0.74706,     0.74604,     0.73414,     0.73402,     0.73391,     0.73391,     0.72276,     0.72128,     0.71901,     0.71652,     0.71628,      0.7158,     0.71413,     0.70569,     0.70447,      0.7031,     0.69214,     0.68863,     0.67994,     0.67427,     0.67426,     0.67355,\n",
      "            0.67355,     0.66463,     0.66463,     0.65945,     0.64599,     0.64599,     0.64475,      0.6407,     0.63623,      0.6361,     0.63037,     0.62982,     0.62791,     0.61772,     0.61646,     0.61339,     0.60963,      0.6086,     0.59192,     0.58844,     0.58138,     0.57555,     0.56166,\n",
      "            0.55927,     0.55523,     0.55304,     0.55304,      0.5489,     0.54886,     0.52124,     0.51962,     0.51306,     0.51306,     0.51035,     0.49256,     0.49008,     0.48126,     0.47607,     0.45225,     0.44993,     0.44967,     0.44176,       0.437,     0.42477,     0.41511,     0.41353,\n",
      "            0.40429,     0.39815,     0.37429,     0.37284,     0.36385,     0.35946,     0.34503,     0.33438,     0.31968,     0.27798,      0.2723,     0.26849,     0.25171,     0.22302,     0.21955,     0.21732,     0.21713,     0.21394,     0.18497,     0.16401,     0.15187,     0.14358,     0.14263,\n",
      "            0.12306,     0.12185,     0.12065,     0.11944,     0.11823,     0.11703,     0.11582,     0.11462,     0.11341,      0.1122,       0.111,     0.10979,     0.10858,     0.10738,     0.10617,     0.10496,     0.10376,     0.10255,     0.10134,     0.10014,    0.098931,    0.097724,    0.096518,\n",
      "           0.095312,    0.094105,    0.092899,    0.091692,    0.090486,    0.089279,    0.088073,    0.086866,     0.08566,    0.084453,    0.083247,     0.08204,    0.080834,    0.079627,    0.078421,    0.077214,    0.076008,    0.074801,    0.073595,    0.072388,    0.071182,    0.069976,    0.068769,\n",
      "           0.067563,    0.066356,     0.06515,    0.063943,    0.062737,     0.06153,    0.060324,    0.059117,    0.057911,    0.056704,    0.055498,    0.054291,    0.053085,    0.051878,    0.050672,    0.049465,    0.048259,    0.047053,    0.045846,     0.04464,    0.043433,    0.042227,     0.04102,\n",
      "           0.039814,    0.038607,    0.037401,    0.036194,    0.034988,    0.033781,    0.032575,    0.031368,    0.030162,    0.028955,    0.027749,    0.026542,    0.025336,    0.024129,    0.022923,    0.021717,     0.02051,    0.019304,    0.018097,    0.016891,    0.015684,    0.014478,    0.013271,\n",
      "           0.012065,    0.010858,   0.0096518,   0.0084453,   0.0072388,   0.0060324,   0.0048259,   0.0036194,   0.0024129,   0.0012065,           0]]), 'Recall', 'Precision'], [array([          0,    0.001001,    0.002002,    0.003003,    0.004004,    0.005005,    0.006006,    0.007007,    0.008008,    0.009009,     0.01001,    0.011011,    0.012012,    0.013013,    0.014014,    0.015015,    0.016016,    0.017017,    0.018018,    0.019019,     0.02002,    0.021021,    0.022022,    0.023023,\n",
      "          0.024024,    0.025025,    0.026026,    0.027027,    0.028028,    0.029029,     0.03003,    0.031031,    0.032032,    0.033033,    0.034034,    0.035035,    0.036036,    0.037037,    0.038038,    0.039039,     0.04004,    0.041041,    0.042042,    0.043043,    0.044044,    0.045045,    0.046046,    0.047047,\n",
      "          0.048048,    0.049049,     0.05005,    0.051051,    0.052052,    0.053053,    0.054054,    0.055055,    0.056056,    0.057057,    0.058058,    0.059059,     0.06006,    0.061061,    0.062062,    0.063063,    0.064064,    0.065065,    0.066066,    0.067067,    0.068068,    0.069069,     0.07007,    0.071071,\n",
      "          0.072072,    0.073073,    0.074074,    0.075075,    0.076076,    0.077077,    0.078078,    0.079079,     0.08008,    0.081081,    0.082082,    0.083083,    0.084084,    0.085085,    0.086086,    0.087087,    0.088088,    0.089089,     0.09009,    0.091091,    0.092092,    0.093093,    0.094094,    0.095095,\n",
      "          0.096096,    0.097097,    0.098098,    0.099099,      0.1001,      0.1011,      0.1021,      0.1031,      0.1041,     0.10511,     0.10611,     0.10711,     0.10811,     0.10911,     0.11011,     0.11111,     0.11211,     0.11311,     0.11411,     0.11512,     0.11612,     0.11712,     0.11812,     0.11912,\n",
      "           0.12012,     0.12112,     0.12212,     0.12312,     0.12412,     0.12513,     0.12613,     0.12713,     0.12813,     0.12913,     0.13013,     0.13113,     0.13213,     0.13313,     0.13413,     0.13514,     0.13614,     0.13714,     0.13814,     0.13914,     0.14014,     0.14114,     0.14214,     0.14314,\n",
      "           0.14414,     0.14515,     0.14615,     0.14715,     0.14815,     0.14915,     0.15015,     0.15115,     0.15215,     0.15315,     0.15415,     0.15516,     0.15616,     0.15716,     0.15816,     0.15916,     0.16016,     0.16116,     0.16216,     0.16316,     0.16416,     0.16517,     0.16617,     0.16717,\n",
      "           0.16817,     0.16917,     0.17017,     0.17117,     0.17217,     0.17317,     0.17417,     0.17518,     0.17618,     0.17718,     0.17818,     0.17918,     0.18018,     0.18118,     0.18218,     0.18318,     0.18418,     0.18519,     0.18619,     0.18719,     0.18819,     0.18919,     0.19019,     0.19119,\n",
      "           0.19219,     0.19319,     0.19419,      0.1952,      0.1962,      0.1972,      0.1982,      0.1992,      0.2002,      0.2012,      0.2022,      0.2032,      0.2042,     0.20521,     0.20621,     0.20721,     0.20821,     0.20921,     0.21021,     0.21121,     0.21221,     0.21321,     0.21421,     0.21522,\n",
      "           0.21622,     0.21722,     0.21822,     0.21922,     0.22022,     0.22122,     0.22222,     0.22322,     0.22422,     0.22523,     0.22623,     0.22723,     0.22823,     0.22923,     0.23023,     0.23123,     0.23223,     0.23323,     0.23423,     0.23524,     0.23624,     0.23724,     0.23824,     0.23924,\n",
      "           0.24024,     0.24124,     0.24224,     0.24324,     0.24424,     0.24525,     0.24625,     0.24725,     0.24825,     0.24925,     0.25025,     0.25125,     0.25225,     0.25325,     0.25425,     0.25526,     0.25626,     0.25726,     0.25826,     0.25926,     0.26026,     0.26126,     0.26226,     0.26326,\n",
      "           0.26426,     0.26527,     0.26627,     0.26727,     0.26827,     0.26927,     0.27027,     0.27127,     0.27227,     0.27327,     0.27427,     0.27528,     0.27628,     0.27728,     0.27828,     0.27928,     0.28028,     0.28128,     0.28228,     0.28328,     0.28428,     0.28529,     0.28629,     0.28729,\n",
      "           0.28829,     0.28929,     0.29029,     0.29129,     0.29229,     0.29329,     0.29429,      0.2953,      0.2963,      0.2973,      0.2983,      0.2993,      0.3003,      0.3013,      0.3023,      0.3033,      0.3043,     0.30531,     0.30631,     0.30731,     0.30831,     0.30931,     0.31031,     0.31131,\n",
      "           0.31231,     0.31331,     0.31431,     0.31532,     0.31632,     0.31732,     0.31832,     0.31932,     0.32032,     0.32132,     0.32232,     0.32332,     0.32432,     0.32533,     0.32633,     0.32733,     0.32833,     0.32933,     0.33033,     0.33133,     0.33233,     0.33333,     0.33433,     0.33534,\n",
      "           0.33634,     0.33734,     0.33834,     0.33934,     0.34034,     0.34134,     0.34234,     0.34334,     0.34434,     0.34535,     0.34635,     0.34735,     0.34835,     0.34935,     0.35035,     0.35135,     0.35235,     0.35335,     0.35435,     0.35536,     0.35636,     0.35736,     0.35836,     0.35936,\n",
      "           0.36036,     0.36136,     0.36236,     0.36336,     0.36436,     0.36537,     0.36637,     0.36737,     0.36837,     0.36937,     0.37037,     0.37137,     0.37237,     0.37337,     0.37437,     0.37538,     0.37638,     0.37738,     0.37838,     0.37938,     0.38038,     0.38138,     0.38238,     0.38338,\n",
      "           0.38438,     0.38539,     0.38639,     0.38739,     0.38839,     0.38939,     0.39039,     0.39139,     0.39239,     0.39339,     0.39439,      0.3954,      0.3964,      0.3974,      0.3984,      0.3994,      0.4004,      0.4014,      0.4024,      0.4034,      0.4044,     0.40541,     0.40641,     0.40741,\n",
      "           0.40841,     0.40941,     0.41041,     0.41141,     0.41241,     0.41341,     0.41441,     0.41542,     0.41642,     0.41742,     0.41842,     0.41942,     0.42042,     0.42142,     0.42242,     0.42342,     0.42442,     0.42543,     0.42643,     0.42743,     0.42843,     0.42943,     0.43043,     0.43143,\n",
      "           0.43243,     0.43343,     0.43443,     0.43544,     0.43644,     0.43744,     0.43844,     0.43944,     0.44044,     0.44144,     0.44244,     0.44344,     0.44444,     0.44545,     0.44645,     0.44745,     0.44845,     0.44945,     0.45045,     0.45145,     0.45245,     0.45345,     0.45445,     0.45546,\n",
      "           0.45646,     0.45746,     0.45846,     0.45946,     0.46046,     0.46146,     0.46246,     0.46346,     0.46446,     0.46547,     0.46647,     0.46747,     0.46847,     0.46947,     0.47047,     0.47147,     0.47247,     0.47347,     0.47447,     0.47548,     0.47648,     0.47748,     0.47848,     0.47948,\n",
      "           0.48048,     0.48148,     0.48248,     0.48348,     0.48448,     0.48549,     0.48649,     0.48749,     0.48849,     0.48949,     0.49049,     0.49149,     0.49249,     0.49349,     0.49449,      0.4955,      0.4965,      0.4975,      0.4985,      0.4995,      0.5005,      0.5015,      0.5025,      0.5035,\n",
      "            0.5045,     0.50551,     0.50651,     0.50751,     0.50851,     0.50951,     0.51051,     0.51151,     0.51251,     0.51351,     0.51451,     0.51552,     0.51652,     0.51752,     0.51852,     0.51952,     0.52052,     0.52152,     0.52252,     0.52352,     0.52452,     0.52553,     0.52653,     0.52753,\n",
      "           0.52853,     0.52953,     0.53053,     0.53153,     0.53253,     0.53353,     0.53453,     0.53554,     0.53654,     0.53754,     0.53854,     0.53954,     0.54054,     0.54154,     0.54254,     0.54354,     0.54454,     0.54555,     0.54655,     0.54755,     0.54855,     0.54955,     0.55055,     0.55155,\n",
      "           0.55255,     0.55355,     0.55455,     0.55556,     0.55656,     0.55756,     0.55856,     0.55956,     0.56056,     0.56156,     0.56256,     0.56356,     0.56456,     0.56557,     0.56657,     0.56757,     0.56857,     0.56957,     0.57057,     0.57157,     0.57257,     0.57357,     0.57457,     0.57558,\n",
      "           0.57658,     0.57758,     0.57858,     0.57958,     0.58058,     0.58158,     0.58258,     0.58358,     0.58458,     0.58559,     0.58659,     0.58759,     0.58859,     0.58959,     0.59059,     0.59159,     0.59259,     0.59359,     0.59459,      0.5956,      0.5966,      0.5976,      0.5986,      0.5996,\n",
      "            0.6006,      0.6016,      0.6026,      0.6036,      0.6046,     0.60561,     0.60661,     0.60761,     0.60861,     0.60961,     0.61061,     0.61161,     0.61261,     0.61361,     0.61461,     0.61562,     0.61662,     0.61762,     0.61862,     0.61962,     0.62062,     0.62162,     0.62262,     0.62362,\n",
      "           0.62462,     0.62563,     0.62663,     0.62763,     0.62863,     0.62963,     0.63063,     0.63163,     0.63263,     0.63363,     0.63463,     0.63564,     0.63664,     0.63764,     0.63864,     0.63964,     0.64064,     0.64164,     0.64264,     0.64364,     0.64464,     0.64565,     0.64665,     0.64765,\n",
      "           0.64865,     0.64965,     0.65065,     0.65165,     0.65265,     0.65365,     0.65465,     0.65566,     0.65666,     0.65766,     0.65866,     0.65966,     0.66066,     0.66166,     0.66266,     0.66366,     0.66466,     0.66567,     0.66667,     0.66767,     0.66867,     0.66967,     0.67067,     0.67167,\n",
      "           0.67267,     0.67367,     0.67467,     0.67568,     0.67668,     0.67768,     0.67868,     0.67968,     0.68068,     0.68168,     0.68268,     0.68368,     0.68468,     0.68569,     0.68669,     0.68769,     0.68869,     0.68969,     0.69069,     0.69169,     0.69269,     0.69369,     0.69469,      0.6957,\n",
      "            0.6967,      0.6977,      0.6987,      0.6997,      0.7007,      0.7017,      0.7027,      0.7037,      0.7047,     0.70571,     0.70671,     0.70771,     0.70871,     0.70971,     0.71071,     0.71171,     0.71271,     0.71371,     0.71471,     0.71572,     0.71672,     0.71772,     0.71872,     0.71972,\n",
      "           0.72072,     0.72172,     0.72272,     0.72372,     0.72472,     0.72573,     0.72673,     0.72773,     0.72873,     0.72973,     0.73073,     0.73173,     0.73273,     0.73373,     0.73473,     0.73574,     0.73674,     0.73774,     0.73874,     0.73974,     0.74074,     0.74174,     0.74274,     0.74374,\n",
      "           0.74474,     0.74575,     0.74675,     0.74775,     0.74875,     0.74975,     0.75075,     0.75175,     0.75275,     0.75375,     0.75475,     0.75576,     0.75676,     0.75776,     0.75876,     0.75976,     0.76076,     0.76176,     0.76276,     0.76376,     0.76476,     0.76577,     0.76677,     0.76777,\n",
      "           0.76877,     0.76977,     0.77077,     0.77177,     0.77277,     0.77377,     0.77477,     0.77578,     0.77678,     0.77778,     0.77878,     0.77978,     0.78078,     0.78178,     0.78278,     0.78378,     0.78478,     0.78579,     0.78679,     0.78779,     0.78879,     0.78979,     0.79079,     0.79179,\n",
      "           0.79279,     0.79379,     0.79479,      0.7958,      0.7968,      0.7978,      0.7988,      0.7998,      0.8008,      0.8018,      0.8028,      0.8038,      0.8048,     0.80581,     0.80681,     0.80781,     0.80881,     0.80981,     0.81081,     0.81181,     0.81281,     0.81381,     0.81481,     0.81582,\n",
      "           0.81682,     0.81782,     0.81882,     0.81982,     0.82082,     0.82182,     0.82282,     0.82382,     0.82482,     0.82583,     0.82683,     0.82783,     0.82883,     0.82983,     0.83083,     0.83183,     0.83283,     0.83383,     0.83483,     0.83584,     0.83684,     0.83784,     0.83884,     0.83984,\n",
      "           0.84084,     0.84184,     0.84284,     0.84384,     0.84484,     0.84585,     0.84685,     0.84785,     0.84885,     0.84985,     0.85085,     0.85185,     0.85285,     0.85385,     0.85485,     0.85586,     0.85686,     0.85786,     0.85886,     0.85986,     0.86086,     0.86186,     0.86286,     0.86386,\n",
      "           0.86486,     0.86587,     0.86687,     0.86787,     0.86887,     0.86987,     0.87087,     0.87187,     0.87287,     0.87387,     0.87487,     0.87588,     0.87688,     0.87788,     0.87888,     0.87988,     0.88088,     0.88188,     0.88288,     0.88388,     0.88488,     0.88589,     0.88689,     0.88789,\n",
      "           0.88889,     0.88989,     0.89089,     0.89189,     0.89289,     0.89389,     0.89489,      0.8959,      0.8969,      0.8979,      0.8989,      0.8999,      0.9009,      0.9019,      0.9029,      0.9039,      0.9049,     0.90591,     0.90691,     0.90791,     0.90891,     0.90991,     0.91091,     0.91191,\n",
      "           0.91291,     0.91391,     0.91491,     0.91592,     0.91692,     0.91792,     0.91892,     0.91992,     0.92092,     0.92192,     0.92292,     0.92392,     0.92492,     0.92593,     0.92693,     0.92793,     0.92893,     0.92993,     0.93093,     0.93193,     0.93293,     0.93393,     0.93493,     0.93594,\n",
      "           0.93694,     0.93794,     0.93894,     0.93994,     0.94094,     0.94194,     0.94294,     0.94394,     0.94494,     0.94595,     0.94695,     0.94795,     0.94895,     0.94995,     0.95095,     0.95195,     0.95295,     0.95395,     0.95495,     0.95596,     0.95696,     0.95796,     0.95896,     0.95996,\n",
      "           0.96096,     0.96196,     0.96296,     0.96396,     0.96496,     0.96597,     0.96697,     0.96797,     0.96897,     0.96997,     0.97097,     0.97197,     0.97297,     0.97397,     0.97497,     0.97598,     0.97698,     0.97798,     0.97898,     0.97998,     0.98098,     0.98198,     0.98298,     0.98398,\n",
      "           0.98498,     0.98599,     0.98699,     0.98799,     0.98899,     0.98999,     0.99099,     0.99199,     0.99299,     0.99399,     0.99499,       0.996,       0.997,       0.998,       0.999,           1]), array([[    0.21691,     0.21708,     0.29253,     0.34203,     0.37793,      0.4062,     0.42881,     0.45046,      0.4665,     0.48008,     0.49447,     0.50668,     0.51724,     0.52719,     0.53719,     0.54545,     0.55293,     0.55996,     0.56676,     0.57495,     0.58023,     0.58569,     0.59214,\n",
      "            0.59631,     0.60175,     0.60703,     0.61265,     0.61632,     0.61966,     0.62309,     0.62723,     0.63112,     0.63548,     0.63966,      0.6423,     0.64384,     0.64652,     0.64922,     0.65305,     0.65557,     0.65737,     0.65934,     0.66235,     0.66566,     0.66858,     0.67083,\n",
      "            0.67222,     0.67367,     0.67582,     0.67846,     0.68188,      0.6846,     0.68618,      0.6883,     0.69024,      0.6927,     0.69526,     0.69692,     0.69878,     0.70002,     0.70278,     0.70408,     0.70637,     0.70798,     0.70873,     0.71052,     0.71186,     0.71249,     0.71375,\n",
      "            0.71566,       0.718,     0.72004,     0.72044,     0.72265,      0.7238,     0.72534,      0.7255,     0.72673,     0.72799,     0.72759,     0.72882,     0.73014,     0.73221,     0.73311,     0.73501,     0.73597,     0.73677,     0.73768,     0.73835,     0.73866,      0.7397,     0.74083,\n",
      "            0.74227,     0.74258,     0.74306,      0.7431,     0.74245,     0.74339,     0.74481,     0.74529,     0.74664,     0.74798,     0.74905,     0.75011,     0.75132,     0.75177,     0.75324,     0.75426,     0.75511,      0.7558,     0.75688,     0.75759,     0.75764,     0.75771,     0.75961,\n",
      "            0.76008,     0.76166,     0.76272,       0.763,      0.7635,     0.76308,     0.76296,     0.76274,     0.76368,     0.76396,     0.76448,     0.76489,      0.7652,     0.76534,     0.76533,      0.7662,     0.76672,     0.76699,     0.76741,     0.76805,     0.76876,     0.76953,     0.77038,\n",
      "            0.77056,     0.77042,     0.76975,     0.76983,     0.77014,     0.77084,     0.77131,     0.77163,     0.77212,     0.77227,     0.77255,     0.77329,     0.77346,      0.7749,     0.77561,     0.77605,     0.77593,     0.77583,      0.7756,     0.77638,     0.77739,     0.77847,     0.77946,\n",
      "            0.77983,     0.78002,     0.78041,     0.78079,     0.78232,     0.78349,     0.78376,     0.78419,     0.78445,     0.78449,      0.7848,     0.78511,     0.78607,     0.78595,     0.78724,     0.78768,     0.78862,     0.78882,     0.78949,     0.79022,     0.79054,     0.79041,     0.79048,\n",
      "            0.79047,     0.79046,     0.79023,     0.79012,     0.79131,     0.79152,     0.79145,     0.79145,     0.79087,     0.79093,     0.79091,     0.79173,     0.79194,     0.79137,      0.7916,     0.79237,     0.79258,     0.79287,     0.79276,     0.79327,     0.79346,      0.7937,     0.79416,\n",
      "             0.7946,     0.79527,     0.79616,     0.79604,     0.79703,     0.79724,     0.79748,      0.7975,     0.79782,      0.7981,     0.79801,     0.79782,     0.79845,     0.79795,     0.79782,     0.79759,     0.79822,     0.79754,      0.7973,     0.79714,     0.79778,     0.79779,     0.79724,\n",
      "            0.79669,     0.79717,     0.79681,     0.79698,     0.79675,     0.79664,     0.79602,     0.79641,     0.79673,     0.79691,     0.79706,     0.79718,     0.79757,      0.7984,     0.79856,     0.79864,     0.79881,     0.79893,     0.79885,     0.79916,     0.79909,     0.79926,     0.79948,\n",
      "            0.79973,     0.79993,     0.79965,      0.7999,     0.80049,     0.80086,      0.8002,     0.79988,     0.79978,     0.79913,     0.79923,     0.79924,     0.79949,     0.79938,     0.79918,     0.79932,     0.79955,     0.79912,     0.79892,     0.79921,     0.79974,     0.79973,     0.80007,\n",
      "            0.80067,     0.80066,     0.80041,     0.80035,     0.80053,     0.80065,     0.80049,     0.80076,      0.8007,     0.80029,     0.80044,     0.80036,     0.79989,     0.80008,     0.80026,     0.80051,     0.80042,     0.80018,     0.80086,      0.8011,     0.80154,     0.80128,     0.80139,\n",
      "            0.80124,      0.8011,     0.80093,     0.80075,     0.80103,     0.80168,     0.80247,     0.80283,     0.80265,     0.80248,     0.80155,     0.80169,     0.80147,      0.8011,     0.80061,     0.80108,     0.80099,     0.80123,     0.80146,      0.8013,     0.80064,     0.79995,     0.79969,\n",
      "            0.79939,     0.79934,     0.79978,     0.79968,     0.79922,     0.79902,     0.79899,      0.7992,     0.79965,     0.79951,     0.80018,     0.80038,     0.79997,     0.79976,     0.79923,     0.79929,     0.79901,     0.79854,       0.799,     0.79931,     0.79941,     0.79908,     0.79868,\n",
      "            0.79891,     0.79911,     0.79889,     0.79898,     0.79869,     0.79856,     0.79837,       0.799,     0.79873,     0.79888,     0.79815,     0.79787,     0.79778,     0.79769,     0.79759,      0.7975,     0.79629,     0.79524,     0.79527,     0.79516,     0.79377,     0.79354,     0.79323,\n",
      "            0.79275,      0.7923,     0.79205,     0.79123,     0.79117,     0.79047,     0.78993,     0.78955,     0.78981,     0.78957,     0.78969,     0.78878,     0.78833,     0.78801,     0.78818,     0.78742,     0.78758,     0.78719,     0.78687,     0.78698,     0.78708,     0.78685,     0.78568,\n",
      "            0.78587,     0.78529,     0.78461,     0.78414,     0.78343,     0.78302,     0.78281,     0.78289,      0.7827,     0.78171,     0.78181,     0.78114,     0.78113,     0.78071,      0.7801,     0.77909,     0.77866,     0.77892,     0.77905,     0.77879,     0.77839,     0.77846,     0.77823,\n",
      "            0.77825,     0.77844,     0.77779,     0.77804,     0.77898,     0.77847,     0.77791,      0.7772,     0.77734,      0.7768,     0.77653,     0.77671,     0.77635,     0.77655,      0.7763,     0.77512,     0.77412,     0.77421,      0.7739,     0.77365,      0.7731,      0.7728,     0.77252,\n",
      "            0.77176,     0.77088,     0.76935,     0.76881,     0.76827,     0.76837,     0.76858,     0.76801,     0.76741,     0.76608,     0.76578,     0.76595,     0.76469,     0.76461,     0.76496,      0.7646,     0.76466,     0.76472,     0.76478,     0.76484,     0.76387,     0.76361,     0.76361,\n",
      "            0.76349,     0.76306,     0.76257,     0.76136,     0.76062,     0.75962,     0.75929,     0.75933,     0.75881,     0.75823,     0.75776,     0.75738,      0.7572,     0.75701,     0.75672,     0.75628,     0.75602,     0.75558,     0.75534,     0.75422,     0.75382,     0.75331,     0.75306,\n",
      "            0.75268,     0.75181,     0.75114,     0.75114,     0.75128,     0.75089,     0.75054,     0.74978,     0.74971,     0.74972,     0.74994,     0.75015,     0.75035,     0.74922,     0.74828,     0.74764,     0.74695,     0.74709,     0.74703,     0.74663,     0.74571,     0.74485,     0.74503,\n",
      "            0.74383,       0.743,     0.74284,     0.74239,     0.74225,     0.74237,     0.74118,     0.74068,     0.74028,     0.73941,     0.73967,      0.7398,     0.73995,     0.74016,     0.73887,     0.73828,     0.73797,     0.73768,     0.73744,     0.73735,     0.73756,     0.73662,     0.73654,\n",
      "            0.73618,     0.73589,     0.73565,      0.7354,     0.73499,     0.73456,     0.73444,     0.73363,      0.7321,     0.73194,     0.73178,     0.73162,     0.73063,     0.73012,     0.72946,     0.72943,     0.72879,     0.72897,     0.72867,     0.72796,     0.72764,     0.72716,     0.72656,\n",
      "            0.72616,     0.72573,     0.72535,     0.72516,     0.72496,     0.72509,     0.72498,     0.72461,     0.72432,     0.72405,     0.72229,     0.72221,     0.72256,     0.72241,     0.72226,     0.72211,     0.72128,     0.72074,      0.7204,     0.72014,     0.71943,     0.71859,     0.71753,\n",
      "            0.71667,     0.71631,     0.71535,     0.71397,     0.71278,     0.71313,     0.71273,     0.71289,     0.71277,     0.71253,     0.71225,     0.71195,     0.71176,     0.71158,     0.71138,     0.71111,     0.71078,     0.71114,     0.71093,     0.70909,     0.70821,     0.70835,     0.70775,\n",
      "             0.7068,     0.70614,     0.70469,     0.70397,     0.70367,     0.70334,     0.70291,     0.70328,     0.70293,     0.70094,      0.6998,     0.69883,     0.69856,     0.69805,     0.69715,     0.69661,     0.69621,      0.6963,     0.69611,     0.69592,     0.69503,     0.69294,     0.69204,\n",
      "             0.6912,     0.69068,     0.69072,     0.69016,     0.68938,     0.68907,     0.68879,     0.68644,     0.68588,     0.68464,     0.68369,     0.68293,     0.67844,     0.67775,     0.67731,     0.67688,     0.67655,     0.67599,     0.67556,     0.67402,     0.67309,     0.67217,     0.67141,\n",
      "            0.67117,     0.67082,     0.67016,     0.66896,     0.66863,     0.66835,     0.66791,     0.66658,     0.66625,     0.66573,     0.66518,     0.66416,     0.66348,     0.66253,     0.66216,     0.66051,     0.65982,      0.6595,     0.65961,      0.6587,     0.65694,     0.65464,     0.65342,\n",
      "             0.6531,     0.65102,     0.65007,     0.64856,     0.64807,     0.64784,      0.6475,     0.64698,     0.64673,     0.64618,     0.64578,     0.64559,      0.6454,     0.64429,     0.64386,     0.64358,     0.64317,     0.63991,     0.63952,     0.63843,     0.63704,     0.63668,      0.6359,\n",
      "            0.63551,     0.63413,      0.6338,     0.63348,      0.6329,     0.63095,     0.62791,     0.62489,     0.62324,     0.62035,     0.61898,      0.6179,     0.61707,      0.6142,     0.61292,     0.61158,     0.60988,     0.60704,     0.60508,     0.60404,     0.60369,     0.60152,     0.60091,\n",
      "            0.59886,     0.59739,     0.59611,     0.59559,     0.59518,     0.59418,     0.59327,     0.59289,     0.59243,     0.59161,      0.5895,     0.58809,     0.58647,     0.58573,     0.58286,     0.58176,     0.57983,     0.57792,      0.5774,     0.57715,     0.57694,     0.57458,     0.57159,\n",
      "            0.57047,     0.57022,     0.56996,     0.56749,     0.56621,     0.56479,     0.56177,     0.56008,     0.55683,     0.55559,     0.55309,      0.5512,     0.54903,     0.54785,      0.5461,     0.54478,      0.5426,     0.54035,     0.53658,     0.53563,     0.53332,     0.53284,     0.53035,\n",
      "            0.52653,     0.52378,     0.52221,     0.52011,     0.51752,     0.51548,     0.51325,     0.51122,     0.50704,     0.50443,     0.50111,     0.49875,     0.49517,     0.49244,     0.48895,     0.48592,     0.48302,     0.47933,     0.47427,     0.46894,     0.46489,     0.45853,     0.45642,\n",
      "            0.45232,      0.4504,     0.44548,     0.43937,     0.43547,     0.42995,     0.42352,     0.41882,     0.41529,     0.40962,      0.4008,     0.38891,     0.37949,     0.36535,     0.35715,     0.34473,     0.33417,     0.32367,     0.30683,     0.28807,     0.27274,     0.26256,     0.25356,\n",
      "            0.24828,     0.23876,     0.22911,     0.22321,     0.21633,     0.20655,     0.19789,     0.18076,     0.16907,     0.16195,     0.15781,     0.15551,     0.15242,     0.14915,     0.14452,     0.14255,     0.13996,     0.13713,     0.13615,     0.13361,     0.13299,     0.13286,      0.1291,\n",
      "            0.12717,     0.12647,     0.12039,     0.11906,     0.11774,      0.1144,     0.11327,     0.11154,      0.1088,     0.10783,     0.10727,     0.10708,     0.10527,      0.1024,     0.10118,     0.10059,    0.099909,    0.099104,    0.094151,    0.091797,    0.090659,    0.088895,    0.086887,\n",
      "           0.085347,    0.083494,      0.0814,    0.080559,    0.077914,    0.074489,    0.073595,    0.071675,    0.070731,    0.070086,     0.06779,    0.067027,    0.066386,    0.064701,    0.063983,    0.063465,    0.062946,    0.060011,    0.057822,    0.057498,    0.057175,    0.056851,      0.0532,\n",
      "           0.052396,    0.051732,    0.051196,     0.05051,    0.049391,    0.047131,    0.046572,    0.046012,    0.044059,    0.043173,    0.042393,    0.040881,    0.040387,    0.039893,    0.039098,    0.037645,    0.036273,    0.032995,    0.030867,    0.029811,    0.029419,    0.029028,    0.028508,\n",
      "           0.027845,    0.027151,    0.026439,    0.025765,     0.02509,    0.024041,    0.021865,    0.020832,    0.018783,    0.017489,    0.016939,     0.01639,    0.016045,    0.015699,    0.015353,     0.01422,    0.012874,    0.012081,    0.011387,       0.011,    0.010616,    0.010233,   0.0097944,\n",
      "          0.0093333,    0.008872,   0.0069018,     0.00628,   0.0060463,   0.0058127,   0.0055789,   0.0053451,   0.0051113,   0.0048736,   0.0046352,   0.0043966,   0.0041581,   0.0039194,   0.0037209,   0.0035581,   0.0033953,   0.0032324,   0.0030695,   0.0029066,   0.0027437,   0.0025807,   0.0024292,\n",
      "          0.0022816,   0.0021339,   0.0019862,   0.0018385,   0.0016907,    0.001543,   0.0013952,           0,           0,           0,           0,           0,           0,           0,           0,           0,           0,           0,           0,           0,           0,           0,           0,\n",
      "                  0,           0,           0,           0,           0,           0,           0,           0,           0,           0,           0,           0,           0,           0,           0,           0,           0,           0,           0,           0,           0,           0,           0,\n",
      "                  0,           0,           0,           0,           0,           0,           0,           0,           0,           0,           0]]), 'Confidence', 'F1'], [array([          0,    0.001001,    0.002002,    0.003003,    0.004004,    0.005005,    0.006006,    0.007007,    0.008008,    0.009009,     0.01001,    0.011011,    0.012012,    0.013013,    0.014014,    0.015015,    0.016016,    0.017017,    0.018018,    0.019019,     0.02002,    0.021021,    0.022022,    0.023023,\n",
      "          0.024024,    0.025025,    0.026026,    0.027027,    0.028028,    0.029029,     0.03003,    0.031031,    0.032032,    0.033033,    0.034034,    0.035035,    0.036036,    0.037037,    0.038038,    0.039039,     0.04004,    0.041041,    0.042042,    0.043043,    0.044044,    0.045045,    0.046046,    0.047047,\n",
      "          0.048048,    0.049049,     0.05005,    0.051051,    0.052052,    0.053053,    0.054054,    0.055055,    0.056056,    0.057057,    0.058058,    0.059059,     0.06006,    0.061061,    0.062062,    0.063063,    0.064064,    0.065065,    0.066066,    0.067067,    0.068068,    0.069069,     0.07007,    0.071071,\n",
      "          0.072072,    0.073073,    0.074074,    0.075075,    0.076076,    0.077077,    0.078078,    0.079079,     0.08008,    0.081081,    0.082082,    0.083083,    0.084084,    0.085085,    0.086086,    0.087087,    0.088088,    0.089089,     0.09009,    0.091091,    0.092092,    0.093093,    0.094094,    0.095095,\n",
      "          0.096096,    0.097097,    0.098098,    0.099099,      0.1001,      0.1011,      0.1021,      0.1031,      0.1041,     0.10511,     0.10611,     0.10711,     0.10811,     0.10911,     0.11011,     0.11111,     0.11211,     0.11311,     0.11411,     0.11512,     0.11612,     0.11712,     0.11812,     0.11912,\n",
      "           0.12012,     0.12112,     0.12212,     0.12312,     0.12412,     0.12513,     0.12613,     0.12713,     0.12813,     0.12913,     0.13013,     0.13113,     0.13213,     0.13313,     0.13413,     0.13514,     0.13614,     0.13714,     0.13814,     0.13914,     0.14014,     0.14114,     0.14214,     0.14314,\n",
      "           0.14414,     0.14515,     0.14615,     0.14715,     0.14815,     0.14915,     0.15015,     0.15115,     0.15215,     0.15315,     0.15415,     0.15516,     0.15616,     0.15716,     0.15816,     0.15916,     0.16016,     0.16116,     0.16216,     0.16316,     0.16416,     0.16517,     0.16617,     0.16717,\n",
      "           0.16817,     0.16917,     0.17017,     0.17117,     0.17217,     0.17317,     0.17417,     0.17518,     0.17618,     0.17718,     0.17818,     0.17918,     0.18018,     0.18118,     0.18218,     0.18318,     0.18418,     0.18519,     0.18619,     0.18719,     0.18819,     0.18919,     0.19019,     0.19119,\n",
      "           0.19219,     0.19319,     0.19419,      0.1952,      0.1962,      0.1972,      0.1982,      0.1992,      0.2002,      0.2012,      0.2022,      0.2032,      0.2042,     0.20521,     0.20621,     0.20721,     0.20821,     0.20921,     0.21021,     0.21121,     0.21221,     0.21321,     0.21421,     0.21522,\n",
      "           0.21622,     0.21722,     0.21822,     0.21922,     0.22022,     0.22122,     0.22222,     0.22322,     0.22422,     0.22523,     0.22623,     0.22723,     0.22823,     0.22923,     0.23023,     0.23123,     0.23223,     0.23323,     0.23423,     0.23524,     0.23624,     0.23724,     0.23824,     0.23924,\n",
      "           0.24024,     0.24124,     0.24224,     0.24324,     0.24424,     0.24525,     0.24625,     0.24725,     0.24825,     0.24925,     0.25025,     0.25125,     0.25225,     0.25325,     0.25425,     0.25526,     0.25626,     0.25726,     0.25826,     0.25926,     0.26026,     0.26126,     0.26226,     0.26326,\n",
      "           0.26426,     0.26527,     0.26627,     0.26727,     0.26827,     0.26927,     0.27027,     0.27127,     0.27227,     0.27327,     0.27427,     0.27528,     0.27628,     0.27728,     0.27828,     0.27928,     0.28028,     0.28128,     0.28228,     0.28328,     0.28428,     0.28529,     0.28629,     0.28729,\n",
      "           0.28829,     0.28929,     0.29029,     0.29129,     0.29229,     0.29329,     0.29429,      0.2953,      0.2963,      0.2973,      0.2983,      0.2993,      0.3003,      0.3013,      0.3023,      0.3033,      0.3043,     0.30531,     0.30631,     0.30731,     0.30831,     0.30931,     0.31031,     0.31131,\n",
      "           0.31231,     0.31331,     0.31431,     0.31532,     0.31632,     0.31732,     0.31832,     0.31932,     0.32032,     0.32132,     0.32232,     0.32332,     0.32432,     0.32533,     0.32633,     0.32733,     0.32833,     0.32933,     0.33033,     0.33133,     0.33233,     0.33333,     0.33433,     0.33534,\n",
      "           0.33634,     0.33734,     0.33834,     0.33934,     0.34034,     0.34134,     0.34234,     0.34334,     0.34434,     0.34535,     0.34635,     0.34735,     0.34835,     0.34935,     0.35035,     0.35135,     0.35235,     0.35335,     0.35435,     0.35536,     0.35636,     0.35736,     0.35836,     0.35936,\n",
      "           0.36036,     0.36136,     0.36236,     0.36336,     0.36436,     0.36537,     0.36637,     0.36737,     0.36837,     0.36937,     0.37037,     0.37137,     0.37237,     0.37337,     0.37437,     0.37538,     0.37638,     0.37738,     0.37838,     0.37938,     0.38038,     0.38138,     0.38238,     0.38338,\n",
      "           0.38438,     0.38539,     0.38639,     0.38739,     0.38839,     0.38939,     0.39039,     0.39139,     0.39239,     0.39339,     0.39439,      0.3954,      0.3964,      0.3974,      0.3984,      0.3994,      0.4004,      0.4014,      0.4024,      0.4034,      0.4044,     0.40541,     0.40641,     0.40741,\n",
      "           0.40841,     0.40941,     0.41041,     0.41141,     0.41241,     0.41341,     0.41441,     0.41542,     0.41642,     0.41742,     0.41842,     0.41942,     0.42042,     0.42142,     0.42242,     0.42342,     0.42442,     0.42543,     0.42643,     0.42743,     0.42843,     0.42943,     0.43043,     0.43143,\n",
      "           0.43243,     0.43343,     0.43443,     0.43544,     0.43644,     0.43744,     0.43844,     0.43944,     0.44044,     0.44144,     0.44244,     0.44344,     0.44444,     0.44545,     0.44645,     0.44745,     0.44845,     0.44945,     0.45045,     0.45145,     0.45245,     0.45345,     0.45445,     0.45546,\n",
      "           0.45646,     0.45746,     0.45846,     0.45946,     0.46046,     0.46146,     0.46246,     0.46346,     0.46446,     0.46547,     0.46647,     0.46747,     0.46847,     0.46947,     0.47047,     0.47147,     0.47247,     0.47347,     0.47447,     0.47548,     0.47648,     0.47748,     0.47848,     0.47948,\n",
      "           0.48048,     0.48148,     0.48248,     0.48348,     0.48448,     0.48549,     0.48649,     0.48749,     0.48849,     0.48949,     0.49049,     0.49149,     0.49249,     0.49349,     0.49449,      0.4955,      0.4965,      0.4975,      0.4985,      0.4995,      0.5005,      0.5015,      0.5025,      0.5035,\n",
      "            0.5045,     0.50551,     0.50651,     0.50751,     0.50851,     0.50951,     0.51051,     0.51151,     0.51251,     0.51351,     0.51451,     0.51552,     0.51652,     0.51752,     0.51852,     0.51952,     0.52052,     0.52152,     0.52252,     0.52352,     0.52452,     0.52553,     0.52653,     0.52753,\n",
      "           0.52853,     0.52953,     0.53053,     0.53153,     0.53253,     0.53353,     0.53453,     0.53554,     0.53654,     0.53754,     0.53854,     0.53954,     0.54054,     0.54154,     0.54254,     0.54354,     0.54454,     0.54555,     0.54655,     0.54755,     0.54855,     0.54955,     0.55055,     0.55155,\n",
      "           0.55255,     0.55355,     0.55455,     0.55556,     0.55656,     0.55756,     0.55856,     0.55956,     0.56056,     0.56156,     0.56256,     0.56356,     0.56456,     0.56557,     0.56657,     0.56757,     0.56857,     0.56957,     0.57057,     0.57157,     0.57257,     0.57357,     0.57457,     0.57558,\n",
      "           0.57658,     0.57758,     0.57858,     0.57958,     0.58058,     0.58158,     0.58258,     0.58358,     0.58458,     0.58559,     0.58659,     0.58759,     0.58859,     0.58959,     0.59059,     0.59159,     0.59259,     0.59359,     0.59459,      0.5956,      0.5966,      0.5976,      0.5986,      0.5996,\n",
      "            0.6006,      0.6016,      0.6026,      0.6036,      0.6046,     0.60561,     0.60661,     0.60761,     0.60861,     0.60961,     0.61061,     0.61161,     0.61261,     0.61361,     0.61461,     0.61562,     0.61662,     0.61762,     0.61862,     0.61962,     0.62062,     0.62162,     0.62262,     0.62362,\n",
      "           0.62462,     0.62563,     0.62663,     0.62763,     0.62863,     0.62963,     0.63063,     0.63163,     0.63263,     0.63363,     0.63463,     0.63564,     0.63664,     0.63764,     0.63864,     0.63964,     0.64064,     0.64164,     0.64264,     0.64364,     0.64464,     0.64565,     0.64665,     0.64765,\n",
      "           0.64865,     0.64965,     0.65065,     0.65165,     0.65265,     0.65365,     0.65465,     0.65566,     0.65666,     0.65766,     0.65866,     0.65966,     0.66066,     0.66166,     0.66266,     0.66366,     0.66466,     0.66567,     0.66667,     0.66767,     0.66867,     0.66967,     0.67067,     0.67167,\n",
      "           0.67267,     0.67367,     0.67467,     0.67568,     0.67668,     0.67768,     0.67868,     0.67968,     0.68068,     0.68168,     0.68268,     0.68368,     0.68468,     0.68569,     0.68669,     0.68769,     0.68869,     0.68969,     0.69069,     0.69169,     0.69269,     0.69369,     0.69469,      0.6957,\n",
      "            0.6967,      0.6977,      0.6987,      0.6997,      0.7007,      0.7017,      0.7027,      0.7037,      0.7047,     0.70571,     0.70671,     0.70771,     0.70871,     0.70971,     0.71071,     0.71171,     0.71271,     0.71371,     0.71471,     0.71572,     0.71672,     0.71772,     0.71872,     0.71972,\n",
      "           0.72072,     0.72172,     0.72272,     0.72372,     0.72472,     0.72573,     0.72673,     0.72773,     0.72873,     0.72973,     0.73073,     0.73173,     0.73273,     0.73373,     0.73473,     0.73574,     0.73674,     0.73774,     0.73874,     0.73974,     0.74074,     0.74174,     0.74274,     0.74374,\n",
      "           0.74474,     0.74575,     0.74675,     0.74775,     0.74875,     0.74975,     0.75075,     0.75175,     0.75275,     0.75375,     0.75475,     0.75576,     0.75676,     0.75776,     0.75876,     0.75976,     0.76076,     0.76176,     0.76276,     0.76376,     0.76476,     0.76577,     0.76677,     0.76777,\n",
      "           0.76877,     0.76977,     0.77077,     0.77177,     0.77277,     0.77377,     0.77477,     0.77578,     0.77678,     0.77778,     0.77878,     0.77978,     0.78078,     0.78178,     0.78278,     0.78378,     0.78478,     0.78579,     0.78679,     0.78779,     0.78879,     0.78979,     0.79079,     0.79179,\n",
      "           0.79279,     0.79379,     0.79479,      0.7958,      0.7968,      0.7978,      0.7988,      0.7998,      0.8008,      0.8018,      0.8028,      0.8038,      0.8048,     0.80581,     0.80681,     0.80781,     0.80881,     0.80981,     0.81081,     0.81181,     0.81281,     0.81381,     0.81481,     0.81582,\n",
      "           0.81682,     0.81782,     0.81882,     0.81982,     0.82082,     0.82182,     0.82282,     0.82382,     0.82482,     0.82583,     0.82683,     0.82783,     0.82883,     0.82983,     0.83083,     0.83183,     0.83283,     0.83383,     0.83483,     0.83584,     0.83684,     0.83784,     0.83884,     0.83984,\n",
      "           0.84084,     0.84184,     0.84284,     0.84384,     0.84484,     0.84585,     0.84685,     0.84785,     0.84885,     0.84985,     0.85085,     0.85185,     0.85285,     0.85385,     0.85485,     0.85586,     0.85686,     0.85786,     0.85886,     0.85986,     0.86086,     0.86186,     0.86286,     0.86386,\n",
      "           0.86486,     0.86587,     0.86687,     0.86787,     0.86887,     0.86987,     0.87087,     0.87187,     0.87287,     0.87387,     0.87487,     0.87588,     0.87688,     0.87788,     0.87888,     0.87988,     0.88088,     0.88188,     0.88288,     0.88388,     0.88488,     0.88589,     0.88689,     0.88789,\n",
      "           0.88889,     0.88989,     0.89089,     0.89189,     0.89289,     0.89389,     0.89489,      0.8959,      0.8969,      0.8979,      0.8989,      0.8999,      0.9009,      0.9019,      0.9029,      0.9039,      0.9049,     0.90591,     0.90691,     0.90791,     0.90891,     0.90991,     0.91091,     0.91191,\n",
      "           0.91291,     0.91391,     0.91491,     0.91592,     0.91692,     0.91792,     0.91892,     0.91992,     0.92092,     0.92192,     0.92292,     0.92392,     0.92492,     0.92593,     0.92693,     0.92793,     0.92893,     0.92993,     0.93093,     0.93193,     0.93293,     0.93393,     0.93493,     0.93594,\n",
      "           0.93694,     0.93794,     0.93894,     0.93994,     0.94094,     0.94194,     0.94294,     0.94394,     0.94494,     0.94595,     0.94695,     0.94795,     0.94895,     0.94995,     0.95095,     0.95195,     0.95295,     0.95395,     0.95495,     0.95596,     0.95696,     0.95796,     0.95896,     0.95996,\n",
      "           0.96096,     0.96196,     0.96296,     0.96396,     0.96496,     0.96597,     0.96697,     0.96797,     0.96897,     0.96997,     0.97097,     0.97197,     0.97297,     0.97397,     0.97497,     0.97598,     0.97698,     0.97798,     0.97898,     0.97998,     0.98098,     0.98198,     0.98298,     0.98398,\n",
      "           0.98498,     0.98599,     0.98699,     0.98799,     0.98899,     0.98999,     0.99099,     0.99199,     0.99299,     0.99399,     0.99499,       0.996,       0.997,       0.998,       0.999,           1]), array([[    0.12336,     0.12347,     0.17488,     0.21158,     0.24008,     0.26343,     0.28315,     0.30235,     0.31698,     0.32974,     0.34357,     0.35568,     0.36661,     0.37693,     0.38724,     0.39601,     0.40422,     0.41192,     0.41976,     0.42896,     0.43502,     0.44135,     0.44906,\n",
      "            0.45457,     0.46093,     0.46715,     0.47383,     0.47863,     0.48287,     0.48725,     0.49254,     0.49756,       0.503,     0.50848,     0.51205,     0.51469,     0.51836,     0.52231,     0.52729,     0.53058,     0.53294,     0.53554,     0.53977,     0.54419,     0.54809,     0.55192,\n",
      "             0.5546,     0.55713,     0.56035,     0.56426,     0.56902,     0.57311,     0.57561,     0.57859,     0.58164,     0.58545,     0.58943,     0.59181,     0.59482,     0.59661,     0.60063,     0.60285,     0.60623,     0.60896,     0.61071,      0.6137,     0.61604,     0.61733,     0.61991,\n",
      "             0.6228,     0.62636,     0.62982,      0.6315,     0.63528,     0.63779,     0.64019,     0.64118,     0.64311,     0.64546,     0.64598,      0.6483,      0.6504,     0.65369,     0.65512,     0.65817,     0.66011,      0.6614,     0.66286,     0.66395,     0.66567,     0.66737,     0.66963,\n",
      "            0.67198,     0.67248,     0.67327,     0.67418,      0.6748,     0.67636,     0.67871,     0.67982,     0.68219,     0.68442,     0.68666,     0.68889,     0.69094,     0.69203,     0.69464,     0.69639,     0.69784,       0.699,     0.70086,     0.70209,     0.70309,     0.70415,     0.70792,\n",
      "            0.70872,     0.71149,     0.71334,     0.71405,     0.71566,     0.71588,     0.71644,     0.71678,     0.71843,     0.71943,     0.72035,     0.72108,     0.72213,     0.72267,     0.72336,     0.72492,     0.72585,     0.72634,     0.72709,     0.72824,     0.72952,      0.7309,     0.73244,\n",
      "            0.73277,     0.73371,      0.7339,     0.73457,     0.73513,      0.7364,     0.73726,     0.73785,     0.73875,     0.73902,     0.73953,      0.7409,     0.74121,     0.74387,     0.74516,     0.74597,     0.74701,      0.7472,     0.74733,     0.74877,     0.75065,     0.75268,     0.75453,\n",
      "            0.75521,     0.75557,     0.75651,     0.75759,     0.76046,     0.76268,      0.7632,     0.76401,     0.76451,     0.76516,     0.76574,      0.7675,     0.76932,     0.76967,     0.77216,     0.77301,     0.77481,      0.7758,     0.77709,     0.77851,     0.77913,     0.77948,     0.78022,\n",
      "            0.78058,     0.78079,     0.78169,     0.78195,     0.78428,     0.78535,     0.78578,     0.78654,     0.78633,     0.78723,     0.78782,      0.7895,     0.79049,     0.79062,     0.79109,     0.79263,     0.79305,     0.79363,     0.79401,     0.79506,     0.79544,     0.79592,     0.79687,\n",
      "            0.79774,     0.79909,      0.8009,     0.80195,     0.80398,     0.80439,     0.80502,     0.80558,     0.80623,     0.80682,     0.80784,     0.80823,     0.80954,     0.81005,     0.81025,     0.81047,     0.81175,     0.81172,     0.81189,     0.81225,     0.81358,     0.81407,      0.8139,\n",
      "            0.81406,     0.81508,     0.81571,     0.81607,     0.81628,     0.81675,     0.81685,     0.81767,     0.81835,     0.81873,     0.81904,      0.8193,     0.82013,     0.82187,     0.82293,     0.82453,      0.8249,     0.82517,     0.82565,     0.82637,     0.82768,     0.82803,     0.82926,\n",
      "            0.82978,     0.83021,     0.83027,     0.83089,     0.83217,     0.83297,     0.83289,     0.83308,     0.83327,     0.83308,     0.83411,     0.83512,     0.83619,      0.8365,     0.83661,     0.83712,     0.83773,     0.83761,     0.83755,     0.83842,     0.83959,     0.84034,     0.84108,\n",
      "            0.84266,     0.84318,     0.84311,     0.84325,     0.84365,     0.84422,     0.84417,     0.84494,      0.8458,     0.84621,     0.84658,     0.84676,     0.84663,     0.84736,     0.84778,     0.84833,      0.8489,        0.85,     0.85234,     0.85289,     0.85404,     0.85411,     0.85455,\n",
      "            0.85451,     0.85447,     0.85443,     0.85438,     0.85517,     0.85664,     0.85845,     0.85931,     0.85927,     0.85923,     0.85955,     0.85999,     0.86009,     0.85999,     0.86001,     0.86109,     0.86165,     0.86227,     0.86282,     0.86342,     0.86326,     0.86366,     0.86359,\n",
      "            0.86409,      0.8647,     0.86591,     0.86646,     0.86635,      0.8663,     0.86648,     0.86697,     0.86819,     0.86856,     0.87014,     0.87062,      0.8706,     0.87055,     0.87043,     0.87103,     0.87096,     0.87144,     0.87266,      0.8734,     0.87454,     0.87514,     0.87548,\n",
      "            0.87603,     0.87651,      0.8775,     0.87802,     0.87807,     0.87883,     0.87921,      0.8818,     0.88202,     0.88239,     0.88286,      0.8828,     0.88278,     0.88276,     0.88274,     0.88272,     0.88246,     0.88223,     0.88292,     0.88346,     0.88316,     0.88311,     0.88305,\n",
      "            0.88335,     0.88348,     0.88354,     0.88388,     0.88424,     0.88563,     0.88551,     0.88543,     0.88677,     0.88672,     0.88738,      0.8872,      0.8871,     0.88708,     0.88752,     0.88758,     0.88801,     0.88817,      0.8882,     0.88847,     0.88873,     0.88916,     0.88916,\n",
      "            0.88969,      0.8904,     0.89026,     0.89016,     0.89058,     0.89126,     0.89207,     0.89257,     0.89253,     0.89234,     0.89303,     0.89289,     0.89356,     0.89394,     0.89471,      0.8952,     0.89599,     0.89669,     0.89725,      0.8972,     0.89744,     0.89783,     0.89778,\n",
      "            0.89817,     0.89921,     0.89908,     0.89977,     0.90229,     0.90314,     0.90403,     0.90416,     0.90463,     0.90454,     0.90459,     0.90509,     0.90523,     0.90576,     0.90588,     0.90566,     0.90596,     0.90694,     0.90689,     0.90685,     0.90675,     0.90669,     0.90731,\n",
      "            0.90724,     0.90708,     0.90681,     0.90671,     0.90661,     0.90747,     0.90888,     0.90878,     0.90867,     0.90844,     0.90855,     0.90902,     0.90908,     0.91005,     0.91106,     0.91124,     0.91141,     0.91158,     0.91175,     0.91192,      0.9118,     0.91176,     0.91209,\n",
      "             0.9125,     0.91242,     0.91234,     0.91214,     0.91201,     0.91184,     0.91178,     0.91218,     0.91247,     0.91277,     0.91306,     0.91299,     0.91296,     0.91293,     0.91344,     0.91358,     0.91354,     0.91395,      0.9142,     0.91401,     0.91395,     0.91386,     0.91382,\n",
      "            0.91376,     0.91361,      0.9135,     0.91381,     0.91422,     0.91424,     0.91418,     0.91406,     0.91482,     0.91615,     0.91682,     0.91744,     0.91806,     0.91874,     0.91859,     0.91849,     0.91855,     0.91896,      0.9192,     0.91913,     0.91899,     0.91899,     0.91953,\n",
      "             0.9195,     0.91937,     0.91975,     0.92009,     0.92069,     0.92246,     0.92238,     0.92314,     0.92308,     0.92294,     0.92399,      0.9244,     0.92488,     0.92554,     0.92538,     0.92529,     0.92525,      0.9252,     0.92517,     0.92536,     0.92601,     0.92595,     0.92673,\n",
      "            0.92668,     0.92664,      0.9266,     0.92657,      0.9265,     0.92676,     0.92728,     0.92803,      0.9278,     0.92778,     0.92776,     0.92773,     0.92759,     0.92752,     0.92742,     0.92825,      0.9292,     0.92978,     0.93033,     0.93159,     0.93155,     0.93237,     0.93229,\n",
      "            0.93223,     0.93218,     0.93212,      0.9321,     0.93207,     0.93298,     0.93386,     0.93381,     0.93378,     0.93374,      0.9335,     0.93408,     0.93535,     0.93533,     0.93531,     0.93529,     0.93518,     0.93511,     0.93507,     0.93503,     0.93677,     0.93666,     0.93653,\n",
      "            0.93641,     0.93637,     0.93624,     0.93606,     0.93591,     0.93773,     0.93804,     0.93857,     0.93871,     0.93868,     0.93865,     0.93861,     0.93859,     0.93856,     0.93854,     0.93922,     0.93977,     0.94104,     0.94132,      0.9411,     0.94114,     0.94162,      0.9419,\n",
      "            0.94179,     0.94171,     0.94153,     0.94194,     0.94268,     0.94331,     0.94326,     0.94489,     0.94523,     0.94599,     0.94586,     0.94575,     0.94572,     0.94566,     0.94556,      0.9465,     0.94672,     0.94747,     0.94745,     0.94743,     0.94733,      0.9471,       0.947,\n",
      "            0.94691,     0.94704,     0.94787,     0.94781,     0.94773,     0.94769,     0.94766,      0.9474,     0.94734,      0.9472,      0.9471,     0.94701,     0.94651,     0.94643,     0.94638,     0.94633,     0.94629,     0.94728,     0.94724,     0.94706,     0.94749,     0.94792,     0.94784,\n",
      "            0.94781,     0.94777,      0.9477,     0.94756,     0.94753,      0.9475,     0.94745,      0.9473,     0.94726,      0.9472,     0.94714,     0.94702,     0.94695,     0.94793,     0.94898,      0.9488,     0.94872,     0.94869,     0.94981,     0.94971,     0.94952,     0.94927,     0.94913,\n",
      "             0.9491,     0.94887,     0.94876,     0.94868,     0.94967,     0.95079,     0.95128,     0.95184,     0.95182,     0.95176,     0.95171,      0.9517,     0.95168,     0.95271,     0.95267,     0.95264,      0.9526,     0.95226,     0.95222,      0.9521,     0.95196,     0.95192,     0.95184,\n",
      "             0.9518,     0.95165,      0.9528,     0.95277,      0.9539,      0.9549,      0.9546,     0.95429,     0.95412,     0.95383,     0.95492,     0.95603,     0.95598,     0.95569,     0.95556,     0.95543,     0.95526,     0.95497,     0.95477,     0.95467,     0.95463,     0.95441,     0.95564,\n",
      "            0.95543,     0.95528,     0.95515,      0.9551,     0.95506,     0.95495,     0.95486,     0.95482,     0.95477,     0.95469,     0.95447,     0.95432,     0.95415,     0.95542,     0.95512,       0.955,      0.9548,      0.9546,     0.95592,     0.95666,     0.95726,     0.95842,     0.95813,\n",
      "            0.95801,     0.95799,     0.95796,     0.95772,     0.95759,     0.95745,     0.95714,     0.95697,     0.95664,     0.95651,     0.95625,     0.95605,     0.95582,      0.9557,     0.95551,     0.95537,     0.95513,      0.9564,       0.956,      0.9559,     0.95565,      0.9556,     0.95533,\n",
      "            0.95491,      0.9546,     0.95442,     0.95419,     0.95389,     0.95365,     0.95502,     0.95479,     0.95431,     0.95401,     0.95362,     0.95334,     0.95291,     0.95258,     0.95215,     0.95178,     0.95141,     0.95095,     0.95388,     0.95323,     0.95272,     0.95379,     0.95543,\n",
      "            0.95881,     0.95859,     0.95803,     0.95933,     0.96094,     0.96032,     0.95959,      0.9612,       0.963,     0.96238,     0.96368,     0.96474,      0.9705,     0.96987,     0.97176,     0.97056,     0.96947,     0.96832,     0.96956,      0.9673,     0.96522,     0.96539,     0.96632,\n",
      "            0.96969,     0.96835,     0.96689,     0.96593,     0.97454,     0.97322,     0.97195,     0.97511,     0.97326,     0.97202,     0.97124,     0.97792,     0.97917,     0.98449,     0.98396,     0.98372,      0.9834,     0.98304,     0.98291,     0.98257,     0.98249,     0.99084,     0.99088,\n",
      "            0.99073,     0.99068,     0.99018,     0.99006,     0.98994,     0.98964,     0.98953,     0.98936,     0.98908,     0.98897,     0.98891,     0.99683,           1,           1,           1,           1,           1,           1,           1,           1,           1,           1,           1,\n",
      "                  1,           1,           1,           1,           1,           1,           1,           1,           1,           1,           1,           1,           1,           1,           1,           1,           1,           1,           1,           1,           1,           1,           1,\n",
      "                  1,           1,           1,           1,           1,           1,           1,           1,           1,           1,           1,           1,           1,           1,           1,           1,           1,           1,           1,           1,           1,           1,           1,\n",
      "                  1,           1,           1,           1,           1,           1,           1,           1,           1,           1,           1,           1,           1,           1,           1,           1,           1,           1,           1,           1,           1,           1,           1,\n",
      "                  1,           1,           1,           1,           1,           1,           1,           1,           1,           1,           1,           1,           1,           1,           1,           1,           1,           1,           1,           1,           1,           1,           1,\n",
      "                  1,           1,           1,           1,           1,           1,           1,           1,           1,           1,           1,           1,           1,           1,           1,           1,           1,           1,           1,           1,           1,           1,           1,\n",
      "                  1,           1,           1,           1,           1,           1,           1,           1,           1,           1,           1,           1,           1,           1,           1,           1,           1,           1,           1,           1,           1,           1,           1,\n",
      "                  1,           1,           1,           1,           1,           1,           1,           1,           1,           1,           1]]), 'Confidence', 'Precision'], [array([          0,    0.001001,    0.002002,    0.003003,    0.004004,    0.005005,    0.006006,    0.007007,    0.008008,    0.009009,     0.01001,    0.011011,    0.012012,    0.013013,    0.014014,    0.015015,    0.016016,    0.017017,    0.018018,    0.019019,     0.02002,    0.021021,    0.022022,    0.023023,\n",
      "          0.024024,    0.025025,    0.026026,    0.027027,    0.028028,    0.029029,     0.03003,    0.031031,    0.032032,    0.033033,    0.034034,    0.035035,    0.036036,    0.037037,    0.038038,    0.039039,     0.04004,    0.041041,    0.042042,    0.043043,    0.044044,    0.045045,    0.046046,    0.047047,\n",
      "          0.048048,    0.049049,     0.05005,    0.051051,    0.052052,    0.053053,    0.054054,    0.055055,    0.056056,    0.057057,    0.058058,    0.059059,     0.06006,    0.061061,    0.062062,    0.063063,    0.064064,    0.065065,    0.066066,    0.067067,    0.068068,    0.069069,     0.07007,    0.071071,\n",
      "          0.072072,    0.073073,    0.074074,    0.075075,    0.076076,    0.077077,    0.078078,    0.079079,     0.08008,    0.081081,    0.082082,    0.083083,    0.084084,    0.085085,    0.086086,    0.087087,    0.088088,    0.089089,     0.09009,    0.091091,    0.092092,    0.093093,    0.094094,    0.095095,\n",
      "          0.096096,    0.097097,    0.098098,    0.099099,      0.1001,      0.1011,      0.1021,      0.1031,      0.1041,     0.10511,     0.10611,     0.10711,     0.10811,     0.10911,     0.11011,     0.11111,     0.11211,     0.11311,     0.11411,     0.11512,     0.11612,     0.11712,     0.11812,     0.11912,\n",
      "           0.12012,     0.12112,     0.12212,     0.12312,     0.12412,     0.12513,     0.12613,     0.12713,     0.12813,     0.12913,     0.13013,     0.13113,     0.13213,     0.13313,     0.13413,     0.13514,     0.13614,     0.13714,     0.13814,     0.13914,     0.14014,     0.14114,     0.14214,     0.14314,\n",
      "           0.14414,     0.14515,     0.14615,     0.14715,     0.14815,     0.14915,     0.15015,     0.15115,     0.15215,     0.15315,     0.15415,     0.15516,     0.15616,     0.15716,     0.15816,     0.15916,     0.16016,     0.16116,     0.16216,     0.16316,     0.16416,     0.16517,     0.16617,     0.16717,\n",
      "           0.16817,     0.16917,     0.17017,     0.17117,     0.17217,     0.17317,     0.17417,     0.17518,     0.17618,     0.17718,     0.17818,     0.17918,     0.18018,     0.18118,     0.18218,     0.18318,     0.18418,     0.18519,     0.18619,     0.18719,     0.18819,     0.18919,     0.19019,     0.19119,\n",
      "           0.19219,     0.19319,     0.19419,      0.1952,      0.1962,      0.1972,      0.1982,      0.1992,      0.2002,      0.2012,      0.2022,      0.2032,      0.2042,     0.20521,     0.20621,     0.20721,     0.20821,     0.20921,     0.21021,     0.21121,     0.21221,     0.21321,     0.21421,     0.21522,\n",
      "           0.21622,     0.21722,     0.21822,     0.21922,     0.22022,     0.22122,     0.22222,     0.22322,     0.22422,     0.22523,     0.22623,     0.22723,     0.22823,     0.22923,     0.23023,     0.23123,     0.23223,     0.23323,     0.23423,     0.23524,     0.23624,     0.23724,     0.23824,     0.23924,\n",
      "           0.24024,     0.24124,     0.24224,     0.24324,     0.24424,     0.24525,     0.24625,     0.24725,     0.24825,     0.24925,     0.25025,     0.25125,     0.25225,     0.25325,     0.25425,     0.25526,     0.25626,     0.25726,     0.25826,     0.25926,     0.26026,     0.26126,     0.26226,     0.26326,\n",
      "           0.26426,     0.26527,     0.26627,     0.26727,     0.26827,     0.26927,     0.27027,     0.27127,     0.27227,     0.27327,     0.27427,     0.27528,     0.27628,     0.27728,     0.27828,     0.27928,     0.28028,     0.28128,     0.28228,     0.28328,     0.28428,     0.28529,     0.28629,     0.28729,\n",
      "           0.28829,     0.28929,     0.29029,     0.29129,     0.29229,     0.29329,     0.29429,      0.2953,      0.2963,      0.2973,      0.2983,      0.2993,      0.3003,      0.3013,      0.3023,      0.3033,      0.3043,     0.30531,     0.30631,     0.30731,     0.30831,     0.30931,     0.31031,     0.31131,\n",
      "           0.31231,     0.31331,     0.31431,     0.31532,     0.31632,     0.31732,     0.31832,     0.31932,     0.32032,     0.32132,     0.32232,     0.32332,     0.32432,     0.32533,     0.32633,     0.32733,     0.32833,     0.32933,     0.33033,     0.33133,     0.33233,     0.33333,     0.33433,     0.33534,\n",
      "           0.33634,     0.33734,     0.33834,     0.33934,     0.34034,     0.34134,     0.34234,     0.34334,     0.34434,     0.34535,     0.34635,     0.34735,     0.34835,     0.34935,     0.35035,     0.35135,     0.35235,     0.35335,     0.35435,     0.35536,     0.35636,     0.35736,     0.35836,     0.35936,\n",
      "           0.36036,     0.36136,     0.36236,     0.36336,     0.36436,     0.36537,     0.36637,     0.36737,     0.36837,     0.36937,     0.37037,     0.37137,     0.37237,     0.37337,     0.37437,     0.37538,     0.37638,     0.37738,     0.37838,     0.37938,     0.38038,     0.38138,     0.38238,     0.38338,\n",
      "           0.38438,     0.38539,     0.38639,     0.38739,     0.38839,     0.38939,     0.39039,     0.39139,     0.39239,     0.39339,     0.39439,      0.3954,      0.3964,      0.3974,      0.3984,      0.3994,      0.4004,      0.4014,      0.4024,      0.4034,      0.4044,     0.40541,     0.40641,     0.40741,\n",
      "           0.40841,     0.40941,     0.41041,     0.41141,     0.41241,     0.41341,     0.41441,     0.41542,     0.41642,     0.41742,     0.41842,     0.41942,     0.42042,     0.42142,     0.42242,     0.42342,     0.42442,     0.42543,     0.42643,     0.42743,     0.42843,     0.42943,     0.43043,     0.43143,\n",
      "           0.43243,     0.43343,     0.43443,     0.43544,     0.43644,     0.43744,     0.43844,     0.43944,     0.44044,     0.44144,     0.44244,     0.44344,     0.44444,     0.44545,     0.44645,     0.44745,     0.44845,     0.44945,     0.45045,     0.45145,     0.45245,     0.45345,     0.45445,     0.45546,\n",
      "           0.45646,     0.45746,     0.45846,     0.45946,     0.46046,     0.46146,     0.46246,     0.46346,     0.46446,     0.46547,     0.46647,     0.46747,     0.46847,     0.46947,     0.47047,     0.47147,     0.47247,     0.47347,     0.47447,     0.47548,     0.47648,     0.47748,     0.47848,     0.47948,\n",
      "           0.48048,     0.48148,     0.48248,     0.48348,     0.48448,     0.48549,     0.48649,     0.48749,     0.48849,     0.48949,     0.49049,     0.49149,     0.49249,     0.49349,     0.49449,      0.4955,      0.4965,      0.4975,      0.4985,      0.4995,      0.5005,      0.5015,      0.5025,      0.5035,\n",
      "            0.5045,     0.50551,     0.50651,     0.50751,     0.50851,     0.50951,     0.51051,     0.51151,     0.51251,     0.51351,     0.51451,     0.51552,     0.51652,     0.51752,     0.51852,     0.51952,     0.52052,     0.52152,     0.52252,     0.52352,     0.52452,     0.52553,     0.52653,     0.52753,\n",
      "           0.52853,     0.52953,     0.53053,     0.53153,     0.53253,     0.53353,     0.53453,     0.53554,     0.53654,     0.53754,     0.53854,     0.53954,     0.54054,     0.54154,     0.54254,     0.54354,     0.54454,     0.54555,     0.54655,     0.54755,     0.54855,     0.54955,     0.55055,     0.55155,\n",
      "           0.55255,     0.55355,     0.55455,     0.55556,     0.55656,     0.55756,     0.55856,     0.55956,     0.56056,     0.56156,     0.56256,     0.56356,     0.56456,     0.56557,     0.56657,     0.56757,     0.56857,     0.56957,     0.57057,     0.57157,     0.57257,     0.57357,     0.57457,     0.57558,\n",
      "           0.57658,     0.57758,     0.57858,     0.57958,     0.58058,     0.58158,     0.58258,     0.58358,     0.58458,     0.58559,     0.58659,     0.58759,     0.58859,     0.58959,     0.59059,     0.59159,     0.59259,     0.59359,     0.59459,      0.5956,      0.5966,      0.5976,      0.5986,      0.5996,\n",
      "            0.6006,      0.6016,      0.6026,      0.6036,      0.6046,     0.60561,     0.60661,     0.60761,     0.60861,     0.60961,     0.61061,     0.61161,     0.61261,     0.61361,     0.61461,     0.61562,     0.61662,     0.61762,     0.61862,     0.61962,     0.62062,     0.62162,     0.62262,     0.62362,\n",
      "           0.62462,     0.62563,     0.62663,     0.62763,     0.62863,     0.62963,     0.63063,     0.63163,     0.63263,     0.63363,     0.63463,     0.63564,     0.63664,     0.63764,     0.63864,     0.63964,     0.64064,     0.64164,     0.64264,     0.64364,     0.64464,     0.64565,     0.64665,     0.64765,\n",
      "           0.64865,     0.64965,     0.65065,     0.65165,     0.65265,     0.65365,     0.65465,     0.65566,     0.65666,     0.65766,     0.65866,     0.65966,     0.66066,     0.66166,     0.66266,     0.66366,     0.66466,     0.66567,     0.66667,     0.66767,     0.66867,     0.66967,     0.67067,     0.67167,\n",
      "           0.67267,     0.67367,     0.67467,     0.67568,     0.67668,     0.67768,     0.67868,     0.67968,     0.68068,     0.68168,     0.68268,     0.68368,     0.68468,     0.68569,     0.68669,     0.68769,     0.68869,     0.68969,     0.69069,     0.69169,     0.69269,     0.69369,     0.69469,      0.6957,\n",
      "            0.6967,      0.6977,      0.6987,      0.6997,      0.7007,      0.7017,      0.7027,      0.7037,      0.7047,     0.70571,     0.70671,     0.70771,     0.70871,     0.70971,     0.71071,     0.71171,     0.71271,     0.71371,     0.71471,     0.71572,     0.71672,     0.71772,     0.71872,     0.71972,\n",
      "           0.72072,     0.72172,     0.72272,     0.72372,     0.72472,     0.72573,     0.72673,     0.72773,     0.72873,     0.72973,     0.73073,     0.73173,     0.73273,     0.73373,     0.73473,     0.73574,     0.73674,     0.73774,     0.73874,     0.73974,     0.74074,     0.74174,     0.74274,     0.74374,\n",
      "           0.74474,     0.74575,     0.74675,     0.74775,     0.74875,     0.74975,     0.75075,     0.75175,     0.75275,     0.75375,     0.75475,     0.75576,     0.75676,     0.75776,     0.75876,     0.75976,     0.76076,     0.76176,     0.76276,     0.76376,     0.76476,     0.76577,     0.76677,     0.76777,\n",
      "           0.76877,     0.76977,     0.77077,     0.77177,     0.77277,     0.77377,     0.77477,     0.77578,     0.77678,     0.77778,     0.77878,     0.77978,     0.78078,     0.78178,     0.78278,     0.78378,     0.78478,     0.78579,     0.78679,     0.78779,     0.78879,     0.78979,     0.79079,     0.79179,\n",
      "           0.79279,     0.79379,     0.79479,      0.7958,      0.7968,      0.7978,      0.7988,      0.7998,      0.8008,      0.8018,      0.8028,      0.8038,      0.8048,     0.80581,     0.80681,     0.80781,     0.80881,     0.80981,     0.81081,     0.81181,     0.81281,     0.81381,     0.81481,     0.81582,\n",
      "           0.81682,     0.81782,     0.81882,     0.81982,     0.82082,     0.82182,     0.82282,     0.82382,     0.82482,     0.82583,     0.82683,     0.82783,     0.82883,     0.82983,     0.83083,     0.83183,     0.83283,     0.83383,     0.83483,     0.83584,     0.83684,     0.83784,     0.83884,     0.83984,\n",
      "           0.84084,     0.84184,     0.84284,     0.84384,     0.84484,     0.84585,     0.84685,     0.84785,     0.84885,     0.84985,     0.85085,     0.85185,     0.85285,     0.85385,     0.85485,     0.85586,     0.85686,     0.85786,     0.85886,     0.85986,     0.86086,     0.86186,     0.86286,     0.86386,\n",
      "           0.86486,     0.86587,     0.86687,     0.86787,     0.86887,     0.86987,     0.87087,     0.87187,     0.87287,     0.87387,     0.87487,     0.87588,     0.87688,     0.87788,     0.87888,     0.87988,     0.88088,     0.88188,     0.88288,     0.88388,     0.88488,     0.88589,     0.88689,     0.88789,\n",
      "           0.88889,     0.88989,     0.89089,     0.89189,     0.89289,     0.89389,     0.89489,      0.8959,      0.8969,      0.8979,      0.8989,      0.8999,      0.9009,      0.9019,      0.9029,      0.9039,      0.9049,     0.90591,     0.90691,     0.90791,     0.90891,     0.90991,     0.91091,     0.91191,\n",
      "           0.91291,     0.91391,     0.91491,     0.91592,     0.91692,     0.91792,     0.91892,     0.91992,     0.92092,     0.92192,     0.92292,     0.92392,     0.92492,     0.92593,     0.92693,     0.92793,     0.92893,     0.92993,     0.93093,     0.93193,     0.93293,     0.93393,     0.93493,     0.93594,\n",
      "           0.93694,     0.93794,     0.93894,     0.93994,     0.94094,     0.94194,     0.94294,     0.94394,     0.94494,     0.94595,     0.94695,     0.94795,     0.94895,     0.94995,     0.95095,     0.95195,     0.95295,     0.95395,     0.95495,     0.95596,     0.95696,     0.95796,     0.95896,     0.95996,\n",
      "           0.96096,     0.96196,     0.96296,     0.96396,     0.96496,     0.96597,     0.96697,     0.96797,     0.96897,     0.96997,     0.97097,     0.97197,     0.97297,     0.97397,     0.97497,     0.97598,     0.97698,     0.97798,     0.97898,     0.97998,     0.98098,     0.98198,     0.98298,     0.98398,\n",
      "           0.98498,     0.98599,     0.98699,     0.98799,     0.98899,     0.98999,     0.99099,     0.99199,     0.99299,     0.99399,     0.99499,       0.996,       0.997,       0.998,       0.999,           1]), array([[    0.89765,     0.89765,     0.89383,     0.89193,     0.88748,     0.88684,     0.88303,     0.88303,     0.88303,     0.88239,     0.88175,     0.88048,     0.87794,     0.87667,     0.87667,     0.87603,     0.87476,     0.87413,     0.87222,     0.87158,     0.87095,     0.87031,     0.86904,\n",
      "             0.8665,      0.8665,      0.8665,      0.8665,     0.86523,     0.86459,     0.86395,     0.86332,     0.86268,     0.86268,     0.86205,     0.86141,      0.8595,     0.85887,      0.8576,      0.8576,      0.8576,      0.8576,      0.8576,     0.85696,     0.85696,     0.85696,     0.85505,\n",
      "            0.85315,     0.85188,     0.85124,      0.8506,      0.8506,     0.84997,     0.84933,     0.84933,      0.8487,     0.84806,     0.84743,     0.84743,     0.84679,     0.84679,     0.84679,     0.84615,     0.84615,     0.84545,     0.84425,     0.84361,     0.84298,     0.84234,     0.84107,\n",
      "            0.84107,     0.84107,     0.84043,     0.83853,     0.83789,     0.83662,     0.83662,     0.83535,     0.83535,     0.83471,      0.8328,     0.83217,     0.83217,     0.83217,     0.83217,     0.83217,     0.83153,     0.83153,     0.83153,     0.83153,     0.82962,     0.82962,     0.82899,\n",
      "            0.82899,     0.82899,     0.82899,     0.82772,     0.82517,     0.82517,     0.82517,     0.82473,     0.82454,     0.82454,      0.8239,     0.82327,     0.82327,     0.82281,     0.82263,     0.82263,     0.82263,     0.82263,     0.82263,     0.82263,     0.82136,     0.82009,     0.81945,\n",
      "            0.81945,     0.81945,     0.81945,     0.81916,     0.81818,     0.81694,     0.81594,       0.815,       0.815,     0.81437,     0.81437,     0.81437,     0.81373,     0.81336,     0.81246,     0.81246,     0.81246,     0.81246,     0.81246,     0.81246,     0.81246,     0.81246,     0.81246,\n",
      "            0.81246,     0.81101,     0.80928,     0.80865,     0.80865,     0.80865,     0.80865,     0.80865,     0.80865,     0.80865,     0.80865,     0.80865,     0.80865,     0.80865,     0.80865,     0.80865,     0.80718,     0.80674,      0.8061,      0.8061,      0.8061,      0.8061,      0.8061,\n",
      "             0.8061,      0.8061,     0.80587,     0.80547,     0.80547,     0.80547,     0.80547,     0.80547,     0.80547,     0.80483,     0.80483,     0.80356,     0.80355,     0.80292,     0.80292,     0.80292,     0.80292,     0.80229,     0.80229,     0.80229,     0.80229,     0.80165,     0.80102,\n",
      "            0.80062,     0.80038,     0.79897,     0.79847,     0.79847,     0.79779,      0.7972,     0.79642,     0.79546,     0.79466,     0.79402,     0.79398,     0.79339,     0.79212,     0.79212,     0.79212,     0.79212,     0.79212,     0.79151,     0.79148,     0.79148,     0.79148,     0.79148,\n",
      "            0.79148,     0.79148,     0.79148,     0.79021,     0.79021,     0.79021,     0.79007,     0.78957,     0.78957,     0.78957,     0.78841,     0.78767,     0.78767,      0.7862,     0.78576,     0.78512,     0.78512,     0.78385,     0.78322,     0.78258,     0.78258,     0.78215,     0.78125,\n",
      "            0.78004,     0.78004,     0.77877,     0.77877,     0.77813,      0.7775,     0.77622,     0.77622,     0.77622,     0.77622,     0.77622,     0.77622,     0.77622,     0.77622,     0.77559,     0.77432,     0.77432,     0.77432,     0.77373,     0.77368,     0.77241,     0.77241,     0.77177,\n",
      "            0.77177,     0.77177,     0.77121,     0.77114,     0.77114,     0.77114,     0.76998,     0.76923,     0.76887,     0.76783,     0.76715,     0.76633,     0.76588,     0.76542,     0.76495,     0.76478,     0.76469,     0.76401,      0.7637,     0.76351,     0.76351,     0.76287,     0.76287,\n",
      "            0.76267,     0.76223,     0.76182,      0.7616,      0.7616,     0.76137,     0.76111,     0.76097,     0.76017,     0.75909,     0.75906,     0.75878,     0.75804,     0.75779,     0.75779,     0.75779,     0.75717,     0.75588,     0.75524,     0.75524,     0.75512,     0.75461,     0.75445,\n",
      "            0.75423,     0.75401,     0.75373,     0.75345,     0.75334,     0.75334,     0.75334,     0.75331,     0.75304,     0.75276,     0.75088,     0.75079,     0.75033,     0.74975,     0.74889,     0.74889,     0.74831,     0.74825,     0.74825,     0.74752,     0.74649,       0.745,      0.7446,\n",
      "             0.7437,     0.74317,     0.74304,     0.74246,     0.74175,     0.74143,     0.74126,     0.74126,     0.74114,     0.74062,     0.74062,     0.74062,     0.73994,     0.73961,      0.7388,     0.73847,     0.73803,     0.73689,     0.73681,     0.73681,     0.73617,     0.73519,     0.73427,\n",
      "            0.73427,     0.73427,      0.7332,     0.73299,     0.73247,     0.73172,     0.73114,      0.7304,     0.72982,     0.72982,     0.72827,     0.72786,     0.72771,     0.72757,     0.72743,     0.72729,     0.72545,     0.72386,     0.72346,     0.72291,     0.72081,     0.72047,     0.71999,\n",
      "            0.71901,     0.71818,     0.71774,     0.71616,     0.71583,     0.71378,     0.71297,      0.7124,     0.71197,     0.71161,     0.71138,     0.71002,     0.70934,     0.70884,     0.70884,     0.70757,     0.70757,     0.70683,     0.70629,     0.70629,     0.70629,     0.70566,     0.70377,\n",
      "            0.70375,     0.70238,     0.70137,     0.70069,      0.6993,     0.69822,     0.69739,     0.69722,     0.69694,     0.69549,     0.69523,     0.69425,     0.69383,     0.69294,     0.69151,     0.68965,     0.68849,     0.68849,     0.68837,     0.68799,     0.68722,     0.68711,     0.68678,\n",
      "            0.68659,     0.68627,     0.68533,     0.68531,     0.68531,     0.68404,     0.68268,      0.6815,     0.68144,     0.68068,     0.68023,     0.68023,     0.67959,     0.67959,     0.67916,     0.67746,     0.67578,     0.67536,     0.67492,     0.67457,     0.67379,     0.67337,      0.6726,\n",
      "            0.67148,     0.67024,     0.66808,     0.66732,     0.66656,     0.66624,      0.6658,     0.66501,     0.66416,     0.66229,     0.66179,     0.66179,     0.65989,     0.65925,     0.65925,     0.65861,     0.65861,     0.65861,     0.65861,     0.65861,     0.65724,     0.65688,     0.65671,\n",
      "            0.65632,     0.65572,     0.65504,     0.65336,     0.65234,     0.65096,     0.65049,     0.65035,     0.64945,     0.64844,     0.64761,     0.64709,     0.64684,     0.64659,      0.6459,     0.64519,     0.64483,     0.64399,     0.64352,     0.64198,     0.64144,     0.64074,      0.6404,\n",
      "            0.63988,     0.63869,     0.63779,     0.63764,     0.63764,     0.63707,     0.63659,     0.63555,     0.63509,     0.63446,     0.63446,     0.63446,     0.63446,     0.63251,     0.63124,     0.63038,     0.62937,     0.62937,     0.62918,     0.62865,     0.62742,     0.62619,     0.62619,\n",
      "            0.62451,     0.62341,     0.62301,     0.62221,     0.62174,     0.62111,     0.61948,     0.61845,     0.61792,     0.61677,     0.61666,     0.61666,     0.61666,     0.61666,     0.61494,     0.61416,     0.61374,     0.61337,     0.61305,     0.61284,     0.61284,     0.61157,     0.61112,\n",
      "            0.61065,     0.61027,     0.60996,     0.60963,     0.60908,     0.60839,     0.60799,     0.60658,     0.60457,     0.60436,     0.60415,     0.60394,     0.60266,       0.602,     0.60115,     0.60076,     0.59949,     0.59949,     0.59886,     0.59739,     0.59697,     0.59599,     0.59522,\n",
      "             0.5947,     0.59414,     0.59366,     0.59341,     0.59316,     0.59296,     0.59246,     0.59199,     0.59161,     0.59126,     0.58901,     0.58868,     0.58865,     0.58846,     0.58827,     0.58807,     0.58701,     0.58632,     0.58589,     0.58557,     0.58395,     0.58289,     0.58155,\n",
      "            0.58046,        0.58,     0.57879,     0.57706,     0.57556,     0.57533,      0.5747,      0.5747,     0.57449,     0.57419,     0.57384,     0.57346,     0.57323,     0.57301,     0.57275,     0.57216,     0.57152,     0.57152,     0.57114,     0.56886,     0.56771,     0.56771,     0.56683,\n",
      "            0.56566,     0.56485,     0.56306,     0.56198,     0.56135,      0.5607,     0.56017,     0.56008,     0.55951,     0.55673,     0.55533,     0.55415,     0.55382,      0.5532,      0.5521,     0.55111,     0.55054,      0.5504,     0.55016,     0.54993,     0.54885,     0.54633,     0.54524,\n",
      "            0.54423,     0.54355,     0.54332,     0.54264,     0.54172,     0.54133,     0.54101,      0.5382,     0.53753,     0.53604,     0.53492,     0.53402,     0.52871,     0.52789,     0.52737,     0.52687,     0.52648,     0.52549,     0.52499,     0.52318,     0.52193,      0.5207,     0.51981,\n",
      "            0.51954,     0.51913,     0.51836,     0.51697,     0.51658,     0.51625,     0.51574,      0.5142,     0.51382,     0.51322,     0.51259,     0.51141,     0.51063,     0.50922,     0.50848,     0.50658,     0.50579,     0.50543,     0.50524,      0.5042,      0.5022,     0.49958,      0.4982,\n",
      "            0.49784,     0.49549,     0.49442,     0.49269,     0.49186,      0.4913,     0.49078,     0.49003,     0.48976,     0.48914,     0.48869,     0.48848,     0.48827,     0.48672,     0.48624,     0.48593,     0.48548,     0.48185,     0.48143,     0.48022,     0.47868,     0.47829,     0.47743,\n",
      "              0.477,     0.47548,     0.47482,     0.47448,     0.47355,     0.47112,     0.46781,     0.46454,     0.46276,     0.45965,      0.4579,     0.45645,     0.45556,     0.45251,     0.45115,     0.44973,     0.44793,     0.44494,     0.44287,     0.44178,     0.44142,     0.43915,     0.43823,\n",
      "            0.43611,     0.43458,     0.43325,     0.43271,     0.43229,     0.43125,     0.43032,     0.42993,     0.42945,     0.42861,     0.42644,     0.42499,     0.42334,     0.42232,      0.4194,     0.41829,     0.41633,      0.4144,     0.41361,     0.41322,     0.41289,     0.41027,     0.40729,\n",
      "            0.40617,     0.40591,     0.40566,     0.40321,     0.40193,     0.40053,     0.39755,     0.39589,      0.3927,     0.39149,     0.38906,     0.38723,     0.38512,     0.38398,      0.3823,     0.38102,     0.37893,     0.37655,     0.37295,     0.37205,     0.36986,     0.36941,     0.36706,\n",
      "            0.36347,     0.36091,     0.35944,     0.35749,     0.35508,     0.35319,     0.35093,     0.34905,     0.34523,     0.34286,     0.33984,     0.33772,     0.33449,     0.33204,     0.32894,     0.32624,     0.32367,     0.32042,     0.31559,     0.31096,     0.30746,     0.30181,     0.29982,\n",
      "            0.29597,     0.29436,     0.29022,     0.28494,     0.28152,     0.27698,     0.27172,     0.26774,     0.26473,     0.26018,     0.25302,     0.24355,     0.23586,     0.22506,     0.21878,     0.20959,     0.20188,     0.19431,     0.18225,     0.16924,     0.15881,     0.15194,     0.14592,\n",
      "            0.14237,     0.13617,     0.12995,     0.12619,     0.12167,     0.11554,     0.11016,    0.099614,    0.092573,    0.088335,    0.085881,    0.084472,    0.082645,    0.080689,    0.077986,    0.076841,    0.075339,    0.073705,    0.073143,    0.071676,    0.071323,    0.071202,    0.069046,\n",
      "           0.067944,    0.067548,     0.06409,    0.063338,    0.062591,    0.060709,    0.060074,    0.059104,    0.057566,    0.057021,    0.056708,     0.05658,     0.05556,    0.053961,    0.053287,    0.052958,    0.052581,    0.052135,    0.049401,    0.048106,    0.047482,    0.046515,    0.045416,\n",
      "           0.044576,    0.043566,    0.042427,     0.04197,    0.040536,    0.038685,    0.038203,     0.03717,    0.036662,    0.036316,    0.035084,    0.034676,    0.034333,    0.033432,    0.033049,    0.032772,    0.032496,    0.030934,    0.029772,      0.0296,    0.029429,    0.029257,    0.027327,\n",
      "           0.026903,    0.026553,     0.02627,     0.02591,    0.025321,    0.024134,    0.023841,    0.023548,    0.022526,    0.022063,    0.021656,    0.020867,     0.02061,    0.020352,    0.019939,    0.019183,    0.018472,    0.016774,    0.015675,    0.015131,    0.014929,    0.014728,     0.01446,\n",
      "           0.014119,    0.013762,    0.013396,    0.013051,    0.012704,    0.012167,    0.011053,    0.010526,   0.0094805,   0.0088218,   0.0085419,    0.008263,   0.0080873,   0.0079117,   0.0077361,   0.0071607,   0.0064788,   0.0060774,    0.005726,   0.0055302,   0.0053364,   0.0051426,   0.0049213,\n",
      "          0.0046886,   0.0044558,   0.0034628,   0.0031499,   0.0030323,   0.0029148,   0.0027973,   0.0026797,   0.0025622,   0.0024428,    0.002323,   0.0022032,   0.0020834,   0.0019636,   0.0018639,   0.0017822,   0.0017005,   0.0016188,   0.0015371,   0.0014554,   0.0013737,    0.001292,   0.0012161,\n",
      "          0.0011421,   0.0010681,  0.00099409,  0.00092008,  0.00084608,  0.00077208,  0.00069808,           0,           0,           0,           0,           0,           0,           0,           0,           0,           0,           0,           0,           0,           0,           0,           0,\n",
      "                  0,           0,           0,           0,           0,           0,           0,           0,           0,           0,           0,           0,           0,           0,           0,           0,           0,           0,           0,           0,           0,           0,           0,\n",
      "                  0,           0,           0,           0,           0,           0,           0,           0,           0,           0,           0]]), 'Confidence', 'Recall']]\n",
      "fitness: np.float64(0.476963779100067)\n",
      "keys: ['metrics/precision(B)', 'metrics/recall(B)', 'metrics/mAP50(B)', 'metrics/mAP50-95(B)']\n",
      "maps: array([    0.43949,     0.43949,     0.43949])\n",
      "names: {0: 'cat', 1: 'dog', 2: 'person'}\n",
      "plot: True\n",
      "results_dict: {'metrics/precision(B)': np.float64(0.8545456914715432), 'metrics/recall(B)': np.float64(0.7544516187461537), 'metrics/mAP50(B)': np.float64(0.814220072059425), 'metrics/mAP50-95(B)': np.float64(0.4394908576601383), 'fitness': np.float64(0.476963779100067)}\n",
      "save_dir: PosixPath('YOLOv10_Training/custom_model')\n",
      "speed: {'preprocess': 0.09176671837620569, 'inference': 4.333516230033897, 'loss': 0.0008572833114568377, 'postprocess': 0.04851990495754175}\n",
      "task: 'detect'\n"
     ]
    }
   ],
   "source": [
    "# Stage 6: Evaluate the trained model\n",
    "\n",
    "metrics = model.val(\n",
    "    data='data.yaml',      # Optional: to ensure using correct dataset\n",
    "    split='val',           # or 'test' if you have a test set\n",
    "    imgsz=512              # Match your training image size\n",
    ")\n",
    "print(metrics)"
   ]
  },
  {
   "cell_type": "markdown",
   "id": "0a5aa626-b74a-403b-b8f4-efffecdfbbd7",
   "metadata": {},
   "source": [
    "### Run inference on a sample image\n",
    "- Stage 7 - A sample image is used to check the inference of the model"
   ]
  },
  {
   "cell_type": "code",
   "execution_count": 19,
   "id": "881b5b0d-8e1c-4cd7-8fdd-84f5f3f5e8d3",
   "metadata": {},
   "outputs": [
    {
     "name": "stdout",
     "output_type": "stream",
     "text": [
      "\n",
      "image 1/1 /home/heytanix/Desktop/licenseplates.png: 352x640 5 cats, 23.6ms\n",
      "Speed: 1.5ms preprocess, 23.6ms inference, 0.3ms postprocess per image at shape (1, 3, 352, 640)\n",
      "Results saved to \u001b[1mYOLOv10_Training/custom_model\u001b[0m\n",
      "Prediction completed. Check the 'runs/predict' folder for results.\n"
     ]
    }
   ],
   "source": [
    "# Stage 7: Run inference on a sample image\n",
    "\n",
    "test_image = \"/home/heytanix/Desktop/licenseplates.png\"  # Replace with actual test image\n",
    "\n",
    "results = model.predict(\n",
    "    source=test_image,\n",
    "    save=True,\n",
    "    conf=0.25\n",
    ")\n",
    "\n",
    "print(\"Prediction completed. Check the 'runs/predict' folder for results.\")"
   ]
  },
  {
   "cell_type": "markdown",
   "id": "acfea553-0cd0-4fc9-9e0f-916e1bb192f1",
   "metadata": {},
   "source": [
    "### Save and Export the model\n",
    "- Stage 8 - The model is saved and exported in this stage (onnx in this case)"
   ]
  },
  {
   "cell_type": "code",
   "execution_count": 25,
   "id": "9740c576-aa37-49ad-acde-138cdc47225e",
   "metadata": {},
   "outputs": [
    {
     "name": "stdout",
     "output_type": "stream",
     "text": [
      "Ultralytics 8.3.140 🚀 Python-3.12.5 torch-2.7.0+cu126 CPU (AMD Ryzen 9 7945HX with Radeon Graphics)\n",
      "\n",
      "\u001b[34m\u001b[1mPyTorch:\u001b[0m starting from 'YOLOv10_Training/custom_model/weights/best.pt' with input shape (1, 3, 640, 640) BCHW and output shape(s) (1, 300, 6) (31.9 MB)\n",
      "\n",
      "\u001b[34m\u001b[1mONNX:\u001b[0m starting export with onnx 1.17.0 opset 19...\n",
      "\u001b[34m\u001b[1mONNX:\u001b[0m slimming with onnxslim 0.1.53...\n",
      "\u001b[34m\u001b[1mONNX:\u001b[0m export success ✅ 2.7s, saved as 'YOLOv10_Training/custom_model/weights/best.onnx' (58.7 MB)\n",
      "\n",
      "Export complete (3.0s)\n",
      "Results saved to \u001b[1m/home/heytanix/Documents/VisionTrainer/YOLOv10_Training/custom_model/weights\u001b[0m\n",
      "Predict:         yolo predict task=detect model=YOLOv10_Training/custom_model/weights/best.onnx imgsz=640  \n",
      "Validate:        yolo val task=detect model=YOLOv10_Training/custom_model/weights/best.onnx imgsz=640 data=data.yaml  \n",
      "Visualize:       https://netron.app\n",
      "Exported model path: YOLOv10_Training/custom_model/weights/best.onnx\n"
     ]
    }
   ],
   "source": [
    "# Stage 8A: Save and Export the model in .onnx format\n",
    "\n",
    "exported_model_onnx = model.export(format='onnx')\n",
    "print(\"Exported model path:\", exported_model_onnx)"
   ]
  },
  {
   "cell_type": "code",
   "execution_count": 26,
   "id": "72e8d2ed-db7a-4719-a1c1-92bf7d7775b7",
   "metadata": {},
   "outputs": [
    {
     "name": "stdout",
     "output_type": "stream",
     "text": [
      "Ultralytics 8.3.140 🚀 Python-3.12.5 torch-2.7.0+cu126 CPU (AMD Ryzen 9 7945HX with Radeon Graphics)\n",
      "\n",
      "\u001b[34m\u001b[1mPyTorch:\u001b[0m starting from 'YOLOv10_Training/custom_model/weights/best.pt' with input shape (1, 3, 640, 640) BCHW and output shape(s) (1, 300, 6) (31.9 MB)\n",
      "\n",
      "\u001b[34m\u001b[1mTorchScript:\u001b[0m starting export with torch 2.7.0+cu126...\n",
      "\u001b[34m\u001b[1mTorchScript:\u001b[0m export success ✅ 1.4s, saved as 'YOLOv10_Training/custom_model/weights/best.torchscript' (59.1 MB)\n",
      "\n",
      "Export complete (1.6s)\n",
      "Results saved to \u001b[1m/home/heytanix/Documents/VisionTrainer/YOLOv10_Training/custom_model/weights\u001b[0m\n",
      "Predict:         yolo predict task=detect model=YOLOv10_Training/custom_model/weights/best.torchscript imgsz=640  \n",
      "Validate:        yolo val task=detect model=YOLOv10_Training/custom_model/weights/best.torchscript imgsz=640 data=data.yaml  \n",
      "Visualize:       https://netron.app\n",
      "Exported model path: YOLOv10_Training/custom_model/weights/best.torchscript\n"
     ]
    }
   ],
   "source": [
    "# Stage 8B: Save and Export the model in .torchscript format\n",
    "\n",
    "exported_model_torchscript = model.export(format='torchscript')\n",
    "print(\"Exported model path:\", exported_model_torchscript)"
   ]
  },
  {
   "cell_type": "code",
   "execution_count": 27,
   "id": "1442d716-8604-4701-942a-1b48bac24bb4",
   "metadata": {},
   "outputs": [
    {
     "name": "stdout",
     "output_type": "stream",
     "text": [
      "WARNING ⚠️ TensorRT requires GPU export, automatically assigning device=0\n",
      "Ultralytics 8.3.140 🚀 Python-3.12.5 torch-2.7.0+cu126 CUDA:0 (NVIDIA GeForce RTX 4070 Laptop GPU, 7817MiB)\n",
      "\n",
      "\u001b[34m\u001b[1mPyTorch:\u001b[0m starting from 'YOLOv10_Training/custom_model/weights/best.pt' with input shape (1, 3, 640, 640) BCHW and output shape(s) (1, 300, 6) (31.9 MB)\n",
      "\n",
      "\u001b[34m\u001b[1mONNX:\u001b[0m starting export with onnx 1.17.0 opset 19...\n",
      "\u001b[34m\u001b[1mONNX:\u001b[0m slimming with onnxslim 0.1.53...\n",
      "\u001b[34m\u001b[1mONNX:\u001b[0m export success ✅ 2.3s, saved as 'YOLOv10_Training/custom_model/weights/best.onnx' (58.7 MB)\n",
      "\n",
      "\u001b[34m\u001b[1mTensorRT:\u001b[0m starting export with TensorRT 10.11.0.33...\n",
      "[05/22/2025-15:03:37] [TRT] [I] [MemUsageChange] Init builder kernel library: CPU -1567, GPU +0, now: CPU 8072, GPU 2052 (MiB)\n",
      "[05/22/2025-15:03:37] [TRT] [I] ----------------------------------------------------------------\n",
      "[05/22/2025-15:03:37] [TRT] [I] Input filename:   YOLOv10_Training/custom_model/weights/best.onnx\n",
      "[05/22/2025-15:03:37] [TRT] [I] ONNX IR version:  0.0.9\n",
      "[05/22/2025-15:03:37] [TRT] [I] Opset version:    19\n",
      "[05/22/2025-15:03:37] [TRT] [I] Producer name:    pytorch\n",
      "[05/22/2025-15:03:37] [TRT] [I] Producer version: 2.7.0\n",
      "[05/22/2025-15:03:37] [TRT] [I] Domain:           \n",
      "[05/22/2025-15:03:37] [TRT] [I] Model version:    0\n",
      "[05/22/2025-15:03:37] [TRT] [I] Doc string:       \n",
      "[05/22/2025-15:03:37] [TRT] [I] ----------------------------------------------------------------\n",
      "\u001b[34m\u001b[1mTensorRT:\u001b[0m input \"images\" with shape(1, 3, 640, 640) DataType.FLOAT\n",
      "\u001b[34m\u001b[1mTensorRT:\u001b[0m output \"output0\" with shape(1, 300, 6) DataType.FLOAT\n",
      "\u001b[34m\u001b[1mTensorRT:\u001b[0m building FP32 engine as YOLOv10_Training/custom_model/weights/best.engine\n",
      "[05/22/2025-15:03:37] [TRT] [I] Local timing cache in use. Profiling results in this builder pass will not be stored.\n",
      "[05/22/2025-15:03:53] [TRT] [I] Compiler backend is used during engine build.\n",
      "[05/22/2025-15:04:27] [TRT] [I] Detected 1 inputs and 1 output network tensors.\n",
      "[05/22/2025-15:04:28] [TRT] [I] Total Host Persistent Memory: 673168 bytes\n",
      "[05/22/2025-15:04:28] [TRT] [I] Total Device Persistent Memory: 0 bytes\n",
      "[05/22/2025-15:04:28] [TRT] [I] Max Scratch Memory: 7374336 bytes\n",
      "[05/22/2025-15:04:28] [TRT] [I] [BlockAssignment] Started assigning block shifts. This will take 346 steps to complete.\n",
      "[05/22/2025-15:04:28] [TRT] [I] [BlockAssignment] Algorithm ShiftNTopDown took 15.8225ms to assign 10 blocks to 346 nodes requiring 61133312 bytes.\n",
      "[05/22/2025-15:04:28] [TRT] [I] Total Activation Memory: 61132800 bytes\n",
      "[05/22/2025-15:04:28] [TRT] [I] Total Weights Memory: 79557572 bytes\n",
      "[05/22/2025-15:04:28] [TRT] [I] Compiler backend is used during engine execution.\n",
      "[05/22/2025-15:04:28] [TRT] [I] Engine generation completed in 50.8107 seconds.\n",
      "[05/22/2025-15:04:28] [TRT] [I] [MemUsageStats] Peak memory usage of TRT CPU/GPU memory allocators: CPU 2 MiB, GPU 150 MiB\n",
      "\u001b[34m\u001b[1mTensorRT:\u001b[0m export success ✅ 54.4s, saved as 'YOLOv10_Training/custom_model/weights/best.engine' (81.6 MB)\n",
      "\n",
      "Export complete (54.5s)\n",
      "Results saved to \u001b[1m/home/heytanix/Documents/VisionTrainer/YOLOv10_Training/custom_model/weights\u001b[0m\n",
      "Predict:         yolo predict task=detect model=YOLOv10_Training/custom_model/weights/best.engine imgsz=640  \n",
      "Validate:        yolo val task=detect model=YOLOv10_Training/custom_model/weights/best.engine imgsz=640 data=data.yaml  \n",
      "Visualize:       https://netron.app\n",
      "Exported model path: YOLOv10_Training/custom_model/weights/best.engine\n"
     ]
    }
   ],
   "source": [
    "# Stage 8B: Save and Export the model in .engine format\n",
    "\n",
    "exported_model_engine = model.export(format='engine')\n",
    "print(\"Exported model path:\", exported_model_engine)"
   ]
  },
  {
   "cell_type": "markdown",
   "id": "de80c09d-d1ea-4f47-96d2-4b559c3282ca",
   "metadata": {},
   "source": [
    "### Final message and saved path output\n",
    "- Stage 9 - Final message to confirm the trained status of the model and to output the path where it was saved to."
   ]
  },
  {
   "cell_type": "code",
   "execution_count": 28,
   "id": "273b12ed-7cba-430b-9083-23b6f6bf8aab",
   "metadata": {},
   "outputs": [
    {
     "name": "stdout",
     "output_type": "stream",
     "text": [
      "Training and exporting complete!\n",
      "Saved YOLOv10 model to: runs/train/custom_model/weights/best.pt\n"
     ]
    }
   ],
   "source": [
    "# Stage 9: Final message and saved path\n",
    "\n",
    "print(\"Training and exporting complete!\")\n",
    "print(\"Saved requested YOLOv10 model to: runs/train/custom_model/weights/best.(format)\")"
   ]
  },
  {
   "cell_type": "code",
   "execution_count": null,
   "id": "e92944bd-29e9-4753-981f-ec94709fc0e7",
   "metadata": {},
   "outputs": [],
   "source": []
  }
 ],
 "metadata": {
  "kernelspec": {
   "display_name": "Python 3 (ipykernel)",
   "language": "python",
   "name": "python3"
  },
  "language_info": {
   "codemirror_mode": {
    "name": "ipython",
    "version": 3
   },
   "file_extension": ".py",
   "mimetype": "text/x-python",
   "name": "python",
   "nbconvert_exporter": "python",
   "pygments_lexer": "ipython3",
   "version": "3.12.5"
  }
 },
 "nbformat": 4,
 "nbformat_minor": 5
}
